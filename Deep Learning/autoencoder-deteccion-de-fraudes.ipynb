{
 "cells": [
  {
   "cell_type": "code",
   "execution_count": 1,
   "id": "c06ad395",
   "metadata": {
    "_cell_guid": "b1076dfc-b9ad-4769-8c92-a6c4dae69d19",
    "_uuid": "8f2839f25d086af736a60e9eeb907d3b93b6e0e5",
    "execution": {
     "iopub.execute_input": "2023-02-10T14:12:42.884571Z",
     "iopub.status.busy": "2023-02-10T14:12:42.884048Z",
     "iopub.status.idle": "2023-02-10T14:12:42.904263Z",
     "shell.execute_reply": "2023-02-10T14:12:42.903184Z"
    },
    "papermill": {
     "duration": 0.031544,
     "end_time": "2023-02-10T14:12:42.907095",
     "exception": false,
     "start_time": "2023-02-10T14:12:42.875551",
     "status": "completed"
    },
    "tags": []
   },
   "outputs": [
    {
     "name": "stdout",
     "output_type": "stream",
     "text": [
      "/kaggle/input/creditcardfraud/creditcard.csv\n"
     ]
    }
   ],
   "source": [
    "# This Python 3 environment comes with many helpful analytics libraries installed\n",
    "# It is defined by the kaggle/python Docker image: https://github.com/kaggle/docker-python\n",
    "# For example, here's several helpful packages to load\n",
    "\n",
    "import numpy as np # linear algebra\n",
    "import pandas as pd # data processing, CSV file I/O (e.g. pd.read_csv)\n",
    "\n",
    "# Input data files are available in the read-only \"../input/\" directory\n",
    "# For example, running this (by clicking run or pressing Shift+Enter) will list all files under the input directory\n",
    "\n",
    "import os\n",
    "for dirname, _, filenames in os.walk('/kaggle/input'):\n",
    "    for filename in filenames:\n",
    "        print(os.path.join(dirname, filename))\n",
    "\n",
    "# You can write up to 20GB to the current directory (/kaggle/working/) that gets preserved as output when you create a version using \"Save & Run All\" \n",
    "# You can also write temporary files to /kaggle/temp/, but they won't be saved outside of the current session"
   ]
  },
  {
   "cell_type": "code",
   "execution_count": 2,
   "id": "fab095a8",
   "metadata": {
    "execution": {
     "iopub.execute_input": "2023-02-10T14:12:42.915185Z",
     "iopub.status.busy": "2023-02-10T14:12:42.914739Z",
     "iopub.status.idle": "2023-02-10T14:12:47.875353Z",
     "shell.execute_reply": "2023-02-10T14:12:47.874009Z"
    },
    "papermill": {
     "duration": 4.967802,
     "end_time": "2023-02-10T14:12:47.878297",
     "exception": false,
     "start_time": "2023-02-10T14:12:42.910495",
     "status": "completed"
    },
    "tags": []
   },
   "outputs": [],
   "source": [
    "datos = pd.read_csv(\"/kaggle/input/creditcardfraud/creditcard.csv\")"
   ]
  },
  {
   "cell_type": "code",
   "execution_count": 3,
   "id": "7fb30881",
   "metadata": {
    "execution": {
     "iopub.execute_input": "2023-02-10T14:12:47.886262Z",
     "iopub.status.busy": "2023-02-10T14:12:47.885792Z",
     "iopub.status.idle": "2023-02-10T14:12:47.927542Z",
     "shell.execute_reply": "2023-02-10T14:12:47.926222Z"
    },
    "papermill": {
     "duration": 0.049022,
     "end_time": "2023-02-10T14:12:47.930406",
     "exception": false,
     "start_time": "2023-02-10T14:12:47.881384",
     "status": "completed"
    },
    "tags": []
   },
   "outputs": [
    {
     "data": {
      "text/html": [
       "<div>\n",
       "<style scoped>\n",
       "    .dataframe tbody tr th:only-of-type {\n",
       "        vertical-align: middle;\n",
       "    }\n",
       "\n",
       "    .dataframe tbody tr th {\n",
       "        vertical-align: top;\n",
       "    }\n",
       "\n",
       "    .dataframe thead th {\n",
       "        text-align: right;\n",
       "    }\n",
       "</style>\n",
       "<table border=\"1\" class=\"dataframe\">\n",
       "  <thead>\n",
       "    <tr style=\"text-align: right;\">\n",
       "      <th></th>\n",
       "      <th>Time</th>\n",
       "      <th>V1</th>\n",
       "      <th>V2</th>\n",
       "      <th>V3</th>\n",
       "      <th>V4</th>\n",
       "      <th>V5</th>\n",
       "      <th>V6</th>\n",
       "      <th>V7</th>\n",
       "      <th>V8</th>\n",
       "      <th>V9</th>\n",
       "      <th>...</th>\n",
       "      <th>V21</th>\n",
       "      <th>V22</th>\n",
       "      <th>V23</th>\n",
       "      <th>V24</th>\n",
       "      <th>V25</th>\n",
       "      <th>V26</th>\n",
       "      <th>V27</th>\n",
       "      <th>V28</th>\n",
       "      <th>Amount</th>\n",
       "      <th>Class</th>\n",
       "    </tr>\n",
       "  </thead>\n",
       "  <tbody>\n",
       "    <tr>\n",
       "      <th>0</th>\n",
       "      <td>0.0</td>\n",
       "      <td>-1.359807</td>\n",
       "      <td>-0.072781</td>\n",
       "      <td>2.536347</td>\n",
       "      <td>1.378155</td>\n",
       "      <td>-0.338321</td>\n",
       "      <td>0.462388</td>\n",
       "      <td>0.239599</td>\n",
       "      <td>0.098698</td>\n",
       "      <td>0.363787</td>\n",
       "      <td>...</td>\n",
       "      <td>-0.018307</td>\n",
       "      <td>0.277838</td>\n",
       "      <td>-0.110474</td>\n",
       "      <td>0.066928</td>\n",
       "      <td>0.128539</td>\n",
       "      <td>-0.189115</td>\n",
       "      <td>0.133558</td>\n",
       "      <td>-0.021053</td>\n",
       "      <td>149.62</td>\n",
       "      <td>0</td>\n",
       "    </tr>\n",
       "    <tr>\n",
       "      <th>1</th>\n",
       "      <td>0.0</td>\n",
       "      <td>1.191857</td>\n",
       "      <td>0.266151</td>\n",
       "      <td>0.166480</td>\n",
       "      <td>0.448154</td>\n",
       "      <td>0.060018</td>\n",
       "      <td>-0.082361</td>\n",
       "      <td>-0.078803</td>\n",
       "      <td>0.085102</td>\n",
       "      <td>-0.255425</td>\n",
       "      <td>...</td>\n",
       "      <td>-0.225775</td>\n",
       "      <td>-0.638672</td>\n",
       "      <td>0.101288</td>\n",
       "      <td>-0.339846</td>\n",
       "      <td>0.167170</td>\n",
       "      <td>0.125895</td>\n",
       "      <td>-0.008983</td>\n",
       "      <td>0.014724</td>\n",
       "      <td>2.69</td>\n",
       "      <td>0</td>\n",
       "    </tr>\n",
       "    <tr>\n",
       "      <th>2</th>\n",
       "      <td>1.0</td>\n",
       "      <td>-1.358354</td>\n",
       "      <td>-1.340163</td>\n",
       "      <td>1.773209</td>\n",
       "      <td>0.379780</td>\n",
       "      <td>-0.503198</td>\n",
       "      <td>1.800499</td>\n",
       "      <td>0.791461</td>\n",
       "      <td>0.247676</td>\n",
       "      <td>-1.514654</td>\n",
       "      <td>...</td>\n",
       "      <td>0.247998</td>\n",
       "      <td>0.771679</td>\n",
       "      <td>0.909412</td>\n",
       "      <td>-0.689281</td>\n",
       "      <td>-0.327642</td>\n",
       "      <td>-0.139097</td>\n",
       "      <td>-0.055353</td>\n",
       "      <td>-0.059752</td>\n",
       "      <td>378.66</td>\n",
       "      <td>0</td>\n",
       "    </tr>\n",
       "    <tr>\n",
       "      <th>3</th>\n",
       "      <td>1.0</td>\n",
       "      <td>-0.966272</td>\n",
       "      <td>-0.185226</td>\n",
       "      <td>1.792993</td>\n",
       "      <td>-0.863291</td>\n",
       "      <td>-0.010309</td>\n",
       "      <td>1.247203</td>\n",
       "      <td>0.237609</td>\n",
       "      <td>0.377436</td>\n",
       "      <td>-1.387024</td>\n",
       "      <td>...</td>\n",
       "      <td>-0.108300</td>\n",
       "      <td>0.005274</td>\n",
       "      <td>-0.190321</td>\n",
       "      <td>-1.175575</td>\n",
       "      <td>0.647376</td>\n",
       "      <td>-0.221929</td>\n",
       "      <td>0.062723</td>\n",
       "      <td>0.061458</td>\n",
       "      <td>123.50</td>\n",
       "      <td>0</td>\n",
       "    </tr>\n",
       "    <tr>\n",
       "      <th>4</th>\n",
       "      <td>2.0</td>\n",
       "      <td>-1.158233</td>\n",
       "      <td>0.877737</td>\n",
       "      <td>1.548718</td>\n",
       "      <td>0.403034</td>\n",
       "      <td>-0.407193</td>\n",
       "      <td>0.095921</td>\n",
       "      <td>0.592941</td>\n",
       "      <td>-0.270533</td>\n",
       "      <td>0.817739</td>\n",
       "      <td>...</td>\n",
       "      <td>-0.009431</td>\n",
       "      <td>0.798278</td>\n",
       "      <td>-0.137458</td>\n",
       "      <td>0.141267</td>\n",
       "      <td>-0.206010</td>\n",
       "      <td>0.502292</td>\n",
       "      <td>0.219422</td>\n",
       "      <td>0.215153</td>\n",
       "      <td>69.99</td>\n",
       "      <td>0</td>\n",
       "    </tr>\n",
       "  </tbody>\n",
       "</table>\n",
       "<p>5 rows × 31 columns</p>\n",
       "</div>"
      ],
      "text/plain": [
       "   Time        V1        V2        V3        V4        V5        V6        V7  \\\n",
       "0   0.0 -1.359807 -0.072781  2.536347  1.378155 -0.338321  0.462388  0.239599   \n",
       "1   0.0  1.191857  0.266151  0.166480  0.448154  0.060018 -0.082361 -0.078803   \n",
       "2   1.0 -1.358354 -1.340163  1.773209  0.379780 -0.503198  1.800499  0.791461   \n",
       "3   1.0 -0.966272 -0.185226  1.792993 -0.863291 -0.010309  1.247203  0.237609   \n",
       "4   2.0 -1.158233  0.877737  1.548718  0.403034 -0.407193  0.095921  0.592941   \n",
       "\n",
       "         V8        V9  ...       V21       V22       V23       V24       V25  \\\n",
       "0  0.098698  0.363787  ... -0.018307  0.277838 -0.110474  0.066928  0.128539   \n",
       "1  0.085102 -0.255425  ... -0.225775 -0.638672  0.101288 -0.339846  0.167170   \n",
       "2  0.247676 -1.514654  ...  0.247998  0.771679  0.909412 -0.689281 -0.327642   \n",
       "3  0.377436 -1.387024  ... -0.108300  0.005274 -0.190321 -1.175575  0.647376   \n",
       "4 -0.270533  0.817739  ... -0.009431  0.798278 -0.137458  0.141267 -0.206010   \n",
       "\n",
       "        V26       V27       V28  Amount  Class  \n",
       "0 -0.189115  0.133558 -0.021053  149.62      0  \n",
       "1  0.125895 -0.008983  0.014724    2.69      0  \n",
       "2 -0.139097 -0.055353 -0.059752  378.66      0  \n",
       "3 -0.221929  0.062723  0.061458  123.50      0  \n",
       "4  0.502292  0.219422  0.215153   69.99      0  \n",
       "\n",
       "[5 rows x 31 columns]"
      ]
     },
     "execution_count": 3,
     "metadata": {},
     "output_type": "execute_result"
    }
   ],
   "source": [
    "## amount muestra la cantidad de dinero en cada transacción\n",
    "datos.head()"
   ]
  },
  {
   "cell_type": "code",
   "execution_count": 4,
   "id": "8a6ad4c9",
   "metadata": {
    "execution": {
     "iopub.execute_input": "2023-02-10T14:12:47.939090Z",
     "iopub.status.busy": "2023-02-10T14:12:47.938679Z",
     "iopub.status.idle": "2023-02-10T14:12:48.199710Z",
     "shell.execute_reply": "2023-02-10T14:12:48.198288Z"
    },
    "papermill": {
     "duration": 0.268479,
     "end_time": "2023-02-10T14:12:48.202435",
     "exception": false,
     "start_time": "2023-02-10T14:12:47.933956",
     "status": "completed"
    },
    "tags": []
   },
   "outputs": [
    {
     "data": {
      "image/png": "[encoded data removed]",
      "text/plain": [
       "<Figure size 432x288 with 1 Axes>"
      ]
     },
     "metadata": {
      "needs_background": "light"
     },
     "output_type": "display_data"
    }
   ],
   "source": [
    "import matplotlib.pyplot as plt\n",
    "\n",
    "plt.hist(datos[\"Class\"])\n",
    "plt.grid()\n",
    "plt.title(\"Tipo de transacciones\")\n",
    "plt.xticks(range(2), [\"normales\", \"fraudulentos\"])\n",
    "plt.ylabel(\"N° de transacciones realizadas\")\n",
    "plt.xlabel(\"clase\")\n",
    "plt.show()\n",
    "## clase de 0 son transacciones normales \n",
    "## clase de 1 son transacciones fraudulentas"
   ]
  },
  {
   "cell_type": "markdown",
   "id": "ac708d6d",
   "metadata": {
    "papermill": {
     "duration": 0.003268,
     "end_time": "2023-02-10T14:12:48.209487",
     "exception": false,
     "start_time": "2023-02-10T14:12:48.206219",
     "status": "completed"
    },
    "tags": []
   },
   "source": [
    "Analisis del tiempo en cada transacción"
   ]
  },
  {
   "cell_type": "code",
   "execution_count": 5,
   "id": "460c8853",
   "metadata": {
    "execution": {
     "iopub.execute_input": "2023-02-10T14:12:48.218221Z",
     "iopub.status.busy": "2023-02-10T14:12:48.217777Z",
     "iopub.status.idle": "2023-02-10T14:12:50.893370Z",
     "shell.execute_reply": "2023-02-10T14:12:50.891053Z"
    },
    "papermill": {
     "duration": 2.683219,
     "end_time": "2023-02-10T14:12:50.896200",
     "exception": false,
     "start_time": "2023-02-10T14:12:48.212981",
     "status": "completed"
    },
    "tags": []
   },
   "outputs": [
    {
     "data": {
      "text/plain": [
       "<matplotlib.legend.Legend at 0x7fb52ec01b90>"
      ]
     },
     "execution_count": 5,
     "metadata": {},
     "output_type": "execute_result"
    },
    {
     "data": {
      "image/png": "[encoded data removed]",
      "text/plain": [
       "<Figure size 432x288 with 1 Axes>"
      ]
     },
     "metadata": {
      "needs_background": "light"
     },
     "output_type": "display_data"
    }
   ],
   "source": [
    "normales = datos[datos[\"Class\"] == 0]\n",
    "fraudulentos = datos[datos[\"Class\"] == 1]\n",
    "plt.scatter(normales[\"Time\"]/3600, normales[\"Amount\"], alpha = 0.5,\n",
    "           c = \"#19323C\", label = \"Normales\", s = 3)\n",
    "plt.scatter(fraudulentos[\"Time\"]/3600, fraudulentos[\"Amount\"], alpha = 1, \n",
    "           c = \"red\", label = \"fraudulentos\", s = 3)\n",
    "plt.xlabel(\"tiempo en horas\")\n",
    "plt.ylabel(\"monto de la transacción\")\n",
    "plt.legend()"
   ]
  },
  {
   "cell_type": "markdown",
   "id": "1b74d71a",
   "metadata": {
    "papermill": {
     "duration": 0.00394,
     "end_time": "2023-02-10T14:12:50.904647",
     "exception": false,
     "start_time": "2023-02-10T14:12:50.900707",
     "status": "completed"
    },
    "tags": []
   },
   "source": [
    "el grafico siguiente mide la cantidad y la distribucion de las transacciones fraudulentas y las normales, y se observa que las transacciones fraudulentas no siguen una regla marcada, es decir, no poseen una distribucion de probabilidad general, y es dificil predecir cuando una transaccion es fraudulenta o no segun el monto de la transacción"
   ]
  },
  {
   "cell_type": "code",
   "execution_count": 6,
   "id": "f5adb195",
   "metadata": {
    "execution": {
     "iopub.execute_input": "2023-02-10T14:12:50.915575Z",
     "iopub.status.busy": "2023-02-10T14:12:50.915056Z",
     "iopub.status.idle": "2023-02-10T14:12:51.460225Z",
     "shell.execute_reply": "2023-02-10T14:12:51.459017Z"
    },
    "papermill": {
     "duration": 0.553909,
     "end_time": "2023-02-10T14:12:51.463011",
     "exception": false,
     "start_time": "2023-02-10T14:12:50.909102",
     "status": "completed"
    },
    "tags": []
   },
   "outputs": [
    {
     "data": {
      "text/plain": [
       "Text(0, 0.5, 'Porcentaje de transacción realizadas %')"
      ]
     },
     "execution_count": 6,
     "metadata": {},
     "output_type": "execute_result"
    },
    {
     "data": {
      "image/png": "[encoded data removed]",
      "text/plain": [
       "<Figure size 432x288 with 1 Axes>"
      ]
     },
     "metadata": {
      "needs_background": "light"
     },
     "output_type": "display_data"
    }
   ],
   "source": [
    "bins = np.linspace(200, 2500, 100)\n",
    "plt.hist(normales.Amount, bins, alpha = 1, cumulative = False, density = True,\n",
    "         label = \"Normales\", color = \"black\")\n",
    "plt.hist(fraudulentos.Amount, bins, alpha = 0.5, density = True,\n",
    "        label = \"fraudulentos\", color = \"red\")\n",
    "plt.xlabel(\"monto de la transacción en USD\")\n",
    "plt.ylabel(\"Porcentaje de transacción realizadas %\")"
   ]
  }
 ],
 "metadata": {
  "kernelspec": {
   "display_name": "Python 3",
   "language": "python",
   "name": "python3"
  },
  "language_info": {
   "codemirror_mode": {
    "name": "ipython",
    "version": 3
   },
   "file_extension": ".py",
   "mimetype": "text/x-python",
   "name": "python",
   "nbconvert_exporter": "python",
   "pygments_lexer": "ipython3",
   "version": "3.7.12"
  },
  "papermill": {
   "default_parameters": {},
   "duration": 18.54772,
   "end_time": "2023-02-10T14:12:52.189912",
   "environment_variables": {},
   "exception": null,
   "input_path": "__notebook__.ipynb",
   "output_path": "__notebook__.ipynb",
   "parameters": {},
   "start_time": "2023-02-10T14:12:33.642192",
   "version": "2.3.4"
  }
 },
 "nbformat": 4,
 "nbformat_minor": 5
}
