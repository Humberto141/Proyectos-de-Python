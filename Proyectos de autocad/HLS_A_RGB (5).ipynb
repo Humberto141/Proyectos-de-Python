{
  "nbformat": 4,
  "nbformat_minor": 0,
  "metadata": {
    "colab": {
      "provenance": []
    },
    "kernelspec": {
      "name": "python3",
      "display_name": "Python 3"
    },
    "language_info": {
      "name": "python"
    }
  },
  "cells": [
    {
      "cell_type": "markdown",
      "source": [
        "Instalacion de librerias adicionales al entorno de colaboratory"
      ],
      "metadata": {
        "id": "L441c0T5WXlj"
      }
    },
    {
      "cell_type": "code",
      "source": [
        "!pip install ezdxf\n",
        "!pip install geopandas"
      ],
      "metadata": {
        "id": "bUQ8hLrDDYqn"
      },
      "execution_count": null,
      "outputs": []
    },
    {
      "cell_type": "markdown",
      "source": [
        "Código fuente para la lectura del Autocad inicial, donde se separan los pilares originales y los de área tributaria"
      ],
      "metadata": {
        "id": "zIXl0Rf8Wiu6"
      }
    },
    {
      "cell_type": "code",
      "execution_count": null,
      "metadata": {
        "id": "lrJZAuw1DJb4"
      },
      "outputs": [],
      "source": [
        "import sys\n",
        "import math\n",
        "import ezdxf\n",
        "import pandas as pd\n",
        "import numpy as np\n",
        "import geopandas as geo\n",
        "from shapely.geometry import *\n",
        "\n",
        "\n",
        "\n",
        "doc = ezdxf.readfile(\"Ejercicio_Inicio.dxf\")\n",
        "\n",
        "\n",
        "lista_eje_x = []\n",
        "lista_eje_y = []\n",
        "lista_start_width = []\n",
        "lista_end_width = []\n",
        "lista_bulge = []\n",
        "lista_polilinea = []\n",
        "distancias = []\n",
        "capa_polilinea = []\n",
        "\n",
        "\n",
        "msp = doc.modelspace()\n",
        "\n",
        "for e in msp:\n",
        "    if e.dxftype() == \"LWPOLYLINE\":\n",
        "        print(\"la\", e, \"tiene\",len(e), \"segmentos de rectas\")\n",
        "        i = 0\n",
        "        while i < len(e):\n",
        "            if i == 0:\n",
        "                distancias.append(0)\n",
        "            else:\n",
        "                distancias.append(math.dist([e[i-1][0] ,e[i-1][1] ], [ e[i][0] ,e[i][1] ]))\n",
        "            print(e[i])\n",
        "            lista_polilinea.append(e)\n",
        "            lista_eje_x.append(e[i][0])\n",
        "            lista_eje_y.append(e[i][1])\n",
        "            lista_start_width.append(e[i][2])\n",
        "            lista_end_width.append(e[i][3])\n",
        "            lista_bulge.append(e[i][4])\n",
        "            capa_polilinea.append(e.dxf.layer)\n",
        "            i = i + 1 \n",
        "    datos = pd.DataFrame(data = {\"polilinea\": lista_polilinea, \"x\": lista_eje_x, \n",
        "                                 \"y\": lista_eje_y, \"capa\": capa_polilinea})\n",
        "\n",
        "    datos.to_excel(\"Datos de acad ver 777.xlsx\", sheet_name= \"polilineas\")\n",
        "    \n",
        "elemento_unicos = []\n",
        "for i in lista_polilinea:\n",
        "    if i not in elemento_unicos:\n",
        "        elemento_unicos.append(i)\n",
        "        \n",
        "print(elemento_unicos)\n",
        "print(len(elemento_unicos))\n",
        "\n",
        "nombre_gen = []\n",
        "x_gen = []\n",
        "y_gen = []\n",
        "capa_gen = []\n",
        "puntos_gen = []\n",
        "\n",
        "i = 0\n",
        "while i < len(elemento_unicos):\n",
        "    z = 0\n",
        "    nombre = []\n",
        "    x = []\n",
        "    y = []\n",
        "    capa = []\n",
        "    puntos = []\n",
        "    data_1 = datos[datos[\"polilinea\"] == elemento_unicos[i]]\n",
        "    while z < len(data_1):\n",
        "        nombre.append(data_1.iloc[z, 0])\n",
        "        x.append(data_1.iloc[z, 1])\n",
        "        y.append(data_1.iloc[z, 2])\n",
        "        capa.append(data_1.iloc[z, 3])\n",
        "#        punto = list(zip(x, y))\n",
        "#        puntos.append(punto)\n",
        "        z = z + 1\n",
        "    punto = list(zip(x,y))\n",
        "    nombre_gen.append(nombre)\n",
        "    x_gen.append(x)\n",
        "    y_gen.append(y)\n",
        "    capa_gen.append(capa)\n",
        "    puntos_gen.append(punto)\n",
        "    i = i + 1\n",
        "\n",
        "print(nombre_gen)\n",
        "print(x_gen)\n",
        "print(y_gen)\n",
        "print(capa_gen)\n",
        "print(len(puntos_gen))\n",
        "print(puntos_gen[0])\n",
        "\n",
        "\n",
        "\n",
        "lista_nombre = []\n",
        "i = 0\n",
        "while i < len(nombre_gen):\n",
        "    lista_nombre.append(nombre_gen[i][0])\n",
        "    i = i + 1\n",
        "    \n",
        "lista_capa = []\n",
        "i = 0\n",
        "while i < len(capa_gen):\n",
        "    lista_capa.append(capa_gen[i][0])\n",
        "    i = i + 1\n",
        "\n",
        "print(lista_nombre)\n",
        "print(lista_capa)\n",
        "\n",
        "\n",
        "############ creacion de poligonos ############\n",
        "\n",
        "\n",
        "\n",
        "i = 0\n",
        "lista_polygon = []\n",
        "lista_centroide = []\n",
        "lista_area = []\n",
        "lista_perimetro = []\n",
        "while i < len(lista_nombre):\n",
        "    s1 = Polygon(puntos_gen[i])\n",
        "    lista_area.append(s1.area)\n",
        "    lista_centroide.append(s1.centroid)\n",
        "    lista_polygon.append(s1)\n",
        "    lista_perimetro.append(s1.length)\n",
        "    i = i + 1\n",
        "    \n",
        "#print(polygon)\n",
        "print(lista_area)\n",
        "\n",
        "data = geo.GeoDataFrame({\"nombre\": lista_nombre, \"polygon\": lista_polygon, \"capa\": lista_capa, \"area\": lista_area, \n",
        "                         \"centroide\": lista_centroide, \"perimetro\" : lista_perimetro})\n",
        "data.to_excel(\"polygonos a lo fino.xlsx\")\n",
        "\n",
        "\n",
        "\n",
        "\n",
        "####################################################################################\n",
        "data_dios = pd.DataFrame(columns = [\"nombre x\", \"capa x\", \"area x\", \"nombre y\", \"capa y\", \"area y\",\n",
        "                                    \"distancia\"])\n",
        "lista_distancias_geo = []\n",
        "lista_nombres_geo = []\n",
        "\n",
        "z = 0\n",
        "while z < len(data):\n",
        "    lista_distancias = []\n",
        "    lista_nombres = []\n",
        "    lista_x = []\n",
        "    lista_y = []\n",
        "    lista_x_capa = []\n",
        "    lista_y_capa = []\n",
        "    lista_x_area = []\n",
        "    lista_y_area = []\n",
        "    lista_x_perimetro = []\n",
        "    lista_y_perimetro = []\n",
        "    i = 0\n",
        "    while i < len(data):\n",
        "        dista = (data.iloc[z, 4]).distance(data.iloc[i, 4])\n",
        "        lista_distancias.append(dista)\n",
        "        x = data[\"nombre\"][z]\n",
        "        y = data[\"nombre\"][i]\n",
        "        nombre = list([str(x), str(y)])\n",
        "        lista_nombres.append(nombre)\n",
        "        lista_x.append(x)\n",
        "        lista_y.append(y)\n",
        "        ##################################\n",
        "        lista_x_capa.append(data[\"capa\"][z])\n",
        "        lista_y_capa.append(data[\"capa\"][i])\n",
        "        lista_x_area.append(data[\"area\"][z])\n",
        "        lista_y_area.append(data[\"area\"][i])\n",
        "        lista_x_perimetro.append(data[\"perimetro\"][z])\n",
        "        lista_y_perimetro.append(data[\"perimetro\"][i])\n",
        " #       data = pd.DataFrame({\"nombre\": nombre, \"distancia\": lista_distancias})\n",
        "        i = i + 1\n",
        " #   datagene.append([nombre, dista])\n",
        "    data_refe = pd.DataFrame({\"nombre x\": lista_x, \"capa x\": lista_x_capa ,\"area x\": lista_x_area,\n",
        "                              \"nombre y\": lista_y, \n",
        "                              \"capa y\": lista_y_capa,\n",
        "                              \"area y\": lista_y_area, \"distancia\": lista_distancias, \"perimetro x\": lista_x_perimetro, \"perimetro y\": lista_y_perimetro })\n",
        "    data_filtro = data_refe[data_refe[\"nombre y\"] != x]\n",
        "    valor = data_filtro[\"distancia\"].min()\n",
        "    fila_min = data_filtro[data_filtro[\"distancia\"] == valor]\n",
        "    data_dios = pd.concat([data_dios, fila_min])\n",
        "    \n",
        "    lista_distancias_geo.append(lista_distancias)\n",
        "    lista_nombres_geo.append(lista_nombres)\n",
        "    z = z + 1\n",
        "\n",
        "print(lista_distancias_geo)\n",
        "print(lista_nombres_geo)\n",
        "print(lista_x)\n",
        "print(len(lista_x))\n",
        "print(lista_y)\n",
        "print(len(lista_y))\n",
        "print(lista_distancias)\n",
        "print(len(lista_distancias))\n",
        "print(data_refe)\n",
        "print(data_filtro)\n",
        "print(valor)\n",
        "print(fila_min)\n",
        "\n",
        "print(data_dios)\n",
        "data_dios.to_excel(\"resultados finales.xlsx\")\n",
        "\n",
        "#############################################################\n",
        "data_final = data_dios\n",
        "\n",
        "data_final_2 = data_final[data_final[\"capa y\"] == \"Pilares_Ejemplo\"]\n",
        "\n",
        "print(data_final_2)\n",
        "\n",
        "\n",
        "data_resumen = pd.DataFrame({\"pilar\": data_final_2[\"nombre x\"], \n",
        "                             \"tipo de pilar\": data_final_2[\"capa x\"], \n",
        "                             \"Área\": data_final_2[\"area x\"], \n",
        "                             \"Área Tributaria\": data_final_2[\"area y\"], \"perimetro\": data_final_2[\"perimetro x\"]})\n",
        "\n",
        "print(data_resumen)\n",
        "\n",
        "data_resumen[\"At/Ap\"] = data_resumen[\"Área Tributaria\"]/data_resumen[\"Área\"]\n",
        "\n",
        "print(data_resumen)\n",
        "\n",
        "data_resumen.to_excel(\"resultados de los datos4.xlsx\")\n",
        "\n"
      ]
    },
    {
      "cell_type": "markdown",
      "source": [
        "data_resumen es un dataframe que contiene la información de todos los pilares que existan en el archivo CAD, segmentados segun su tipo de pilar, entre otras caracteristicas"
      ],
      "metadata": {
        "id": "Z0rBoh5fW578"
      }
    },
    {
      "cell_type": "code",
      "source": [
        "data_resumen"
      ],
      "metadata": {
        "colab": {
          "base_uri": "https://localhost:8080/",
          "height": 175
        },
        "id": "hDGbc3yGDw5O",
        "outputId": "fe081d9b-29ca-4726-cfd2-714eb8d9c7d3"
      },
      "execution_count": 3,
      "outputs": [
        {
          "output_type": "execute_result",
          "data": {
            "text/plain": [
              "                                               pilar tipo de pilar  \\\n",
              "7  [(509.8859767648045, 1054.974992662914, 0.0, 0...          CMET   \n",
              "6  [(515.7068386864775, 1058.02599288885, 0.0, 0....          CMET   \n",
              "4  [(485.8802689305066, 1052.270056492004, 0.0, 0...           PDI   \n",
              "5  [(532.2373999999999, 1083.3211, 0.0, 0.0, 0.0)...           PDI   \n",
              "\n",
              "         Área  Área Tributaria  perimetro     At/Ap  \n",
              "7  377.565490        599.99972  93.344262  1.589128  \n",
              "6  384.589463        599.99972  84.327467  1.560104  \n",
              "4  396.214405        599.99972  86.614391  1.514331  \n",
              "5  376.944562        599.99972  84.840034  1.591745  "
            ],
            "text/html": [
              "\n",
              "  <div id=\"df-ff9ed2d0-5462-44c2-ae2e-09f47f03214e\">\n",
              "    <div class=\"colab-df-container\">\n",
              "      <div>\n",
              "<style scoped>\n",
              "    .dataframe tbody tr th:only-of-type {\n",
              "        vertical-align: middle;\n",
              "    }\n",
              "\n",
              "    .dataframe tbody tr th {\n",
              "        vertical-align: top;\n",
              "    }\n",
              "\n",
              "    .dataframe thead th {\n",
              "        text-align: right;\n",
              "    }\n",
              "</style>\n",
              "<table border=\"1\" class=\"dataframe\">\n",
              "  <thead>\n",
              "    <tr style=\"text-align: right;\">\n",
              "      <th></th>\n",
              "      <th>pilar</th>\n",
              "      <th>tipo de pilar</th>\n",
              "      <th>Área</th>\n",
              "      <th>Área Tributaria</th>\n",
              "      <th>perimetro</th>\n",
              "      <th>At/Ap</th>\n",
              "    </tr>\n",
              "  </thead>\n",
              "  <tbody>\n",
              "    <tr>\n",
              "      <th>7</th>\n",
              "      <td>[(509.8859767648045, 1054.974992662914, 0.0, 0...</td>\n",
              "      <td>CMET</td>\n",
              "      <td>377.565490</td>\n",
              "      <td>599.99972</td>\n",
              "      <td>93.344262</td>\n",
              "      <td>1.589128</td>\n",
              "    </tr>\n",
              "    <tr>\n",
              "      <th>6</th>\n",
              "      <td>[(515.7068386864775, 1058.02599288885, 0.0, 0....</td>\n",
              "      <td>CMET</td>\n",
              "      <td>384.589463</td>\n",
              "      <td>599.99972</td>\n",
              "      <td>84.327467</td>\n",
              "      <td>1.560104</td>\n",
              "    </tr>\n",
              "    <tr>\n",
              "      <th>4</th>\n",
              "      <td>[(485.8802689305066, 1052.270056492004, 0.0, 0...</td>\n",
              "      <td>PDI</td>\n",
              "      <td>396.214405</td>\n",
              "      <td>599.99972</td>\n",
              "      <td>86.614391</td>\n",
              "      <td>1.514331</td>\n",
              "    </tr>\n",
              "    <tr>\n",
              "      <th>5</th>\n",
              "      <td>[(532.2373999999999, 1083.3211, 0.0, 0.0, 0.0)...</td>\n",
              "      <td>PDI</td>\n",
              "      <td>376.944562</td>\n",
              "      <td>599.99972</td>\n",
              "      <td>84.840034</td>\n",
              "      <td>1.591745</td>\n",
              "    </tr>\n",
              "  </tbody>\n",
              "</table>\n",
              "</div>\n",
              "      <button class=\"colab-df-convert\" onclick=\"convertToInteractive('df-ff9ed2d0-5462-44c2-ae2e-09f47f03214e')\"\n",
              "              title=\"Convert this dataframe to an interactive table.\"\n",
              "              style=\"display:none;\">\n",
              "        \n",
              "  <svg xmlns=\"http://www.w3.org/2000/svg\" height=\"24px\"viewBox=\"0 0 24 24\"\n",
              "       width=\"24px\">\n",
              "    <path d=\"M0 0h24v24H0V0z\" fill=\"none\"/>\n",
              "    <path d=\"M18.56 5.44l.94 2.06.94-2.06 2.06-.94-2.06-.94-.94-2.06-.94 2.06-2.06.94zm-11 1L8.5 8.5l.94-2.06 2.06-.94-2.06-.94L8.5 2.5l-.94 2.06-2.06.94zm10 10l.94 2.06.94-2.06 2.06-.94-2.06-.94-.94-2.06-.94 2.06-2.06.94z\"/><path d=\"M17.41 7.96l-1.37-1.37c-.4-.4-.92-.59-1.43-.59-.52 0-1.04.2-1.43.59L10.3 9.45l-7.72 7.72c-.78.78-.78 2.05 0 2.83L4 21.41c.39.39.9.59 1.41.59.51 0 1.02-.2 1.41-.59l7.78-7.78 2.81-2.81c.8-.78.8-2.07 0-2.86zM5.41 20L4 18.59l7.72-7.72 1.47 1.35L5.41 20z\"/>\n",
              "  </svg>\n",
              "      </button>\n",
              "      \n",
              "  <style>\n",
              "    .colab-df-container {\n",
              "      display:flex;\n",
              "      flex-wrap:wrap;\n",
              "      gap: 12px;\n",
              "    }\n",
              "\n",
              "    .colab-df-convert {\n",
              "      background-color: #E8F0FE;\n",
              "      border: none;\n",
              "      border-radius: 50%;\n",
              "      cursor: pointer;\n",
              "      display: none;\n",
              "      fill: #1967D2;\n",
              "      height: 32px;\n",
              "      padding: 0 0 0 0;\n",
              "      width: 32px;\n",
              "    }\n",
              "\n",
              "    .colab-df-convert:hover {\n",
              "      background-color: #E2EBFA;\n",
              "      box-shadow: 0px 1px 2px rgba(60, 64, 67, 0.3), 0px 1px 3px 1px rgba(60, 64, 67, 0.15);\n",
              "      fill: #174EA6;\n",
              "    }\n",
              "\n",
              "    [theme=dark] .colab-df-convert {\n",
              "      background-color: #3B4455;\n",
              "      fill: #D2E3FC;\n",
              "    }\n",
              "\n",
              "    [theme=dark] .colab-df-convert:hover {\n",
              "      background-color: #434B5C;\n",
              "      box-shadow: 0px 1px 3px 1px rgba(0, 0, 0, 0.15);\n",
              "      filter: drop-shadow(0px 1px 2px rgba(0, 0, 0, 0.3));\n",
              "      fill: #FFFFFF;\n",
              "    }\n",
              "  </style>\n",
              "\n",
              "      <script>\n",
              "        const buttonEl =\n",
              "          document.querySelector('#df-ff9ed2d0-5462-44c2-ae2e-09f47f03214e button.colab-df-convert');\n",
              "        buttonEl.style.display =\n",
              "          google.colab.kernel.accessAllowed ? 'block' : 'none';\n",
              "\n",
              "        async function convertToInteractive(key) {\n",
              "          const element = document.querySelector('#df-ff9ed2d0-5462-44c2-ae2e-09f47f03214e');\n",
              "          const dataTable =\n",
              "            await google.colab.kernel.invokeFunction('convertToInteractive',\n",
              "                                                     [key], {});\n",
              "          if (!dataTable) return;\n",
              "\n",
              "          const docLinkHtml = 'Like what you see? Visit the ' +\n",
              "            '<a target=\"_blank\" href=https://colab.research.google.com/notebooks/data_table.ipynb>data table notebook</a>'\n",
              "            + ' to learn more about interactive tables.';\n",
              "          element.innerHTML = '';\n",
              "          dataTable['output_type'] = 'display_data';\n",
              "          await google.colab.output.renderOutput(dataTable, element);\n",
              "          const docLink = document.createElement('div');\n",
              "          docLink.innerHTML = docLinkHtml;\n",
              "          element.appendChild(docLink);\n",
              "        }\n",
              "      </script>\n",
              "    </div>\n",
              "  </div>\n",
              "  "
            ]
          },
          "metadata": {},
          "execution_count": 3
        }
      ]
    },
    {
      "cell_type": "code",
      "source": [
        "altura = float(input(\"ingresa la altura del pilar en metros: \"))\n",
        "data_resumen[\"Altura\"] = altura"
      ],
      "metadata": {
        "colab": {
          "base_uri": "https://localhost:8080/"
        },
        "id": "rhUthHqlEA4N",
        "outputId": "4d883ccd-3730-496a-e699-42707ee4b079"
      },
      "execution_count": 4,
      "outputs": [
        {
          "name": "stdout",
          "output_type": "stream",
          "text": [
            "ingresa la altura del pilar en metros: 4.3\n"
          ]
        }
      ]
    },
    {
      "cell_type": "code",
      "source": [
        "data_resumen"
      ],
      "metadata": {
        "colab": {
          "base_uri": "https://localhost:8080/",
          "height": 175
        },
        "id": "c90HyhIbEMHg",
        "outputId": "dac52a91-8fef-425d-9ef5-92b0cae7115a"
      },
      "execution_count": 5,
      "outputs": [
        {
          "output_type": "execute_result",
          "data": {
            "text/plain": [
              "                                               pilar tipo de pilar  \\\n",
              "7  [(509.8859767648045, 1054.974992662914, 0.0, 0...          CMET   \n",
              "6  [(515.7068386864775, 1058.02599288885, 0.0, 0....          CMET   \n",
              "4  [(485.8802689305066, 1052.270056492004, 0.0, 0...           PDI   \n",
              "5  [(532.2373999999999, 1083.3211, 0.0, 0.0, 0.0)...           PDI   \n",
              "\n",
              "         Área  Área Tributaria  perimetro     At/Ap  Altura  \n",
              "7  377.565490        599.99972  93.344262  1.589128     4.3  \n",
              "6  384.589463        599.99972  84.327467  1.560104     4.3  \n",
              "4  396.214405        599.99972  86.614391  1.514331     4.3  \n",
              "5  376.944562        599.99972  84.840034  1.591745     4.3  "
            ],
            "text/html": [
              "\n",
              "  <div id=\"df-f61e1d98-c743-4fcd-8a3d-da8cce264cda\">\n",
              "    <div class=\"colab-df-container\">\n",
              "      <div>\n",
              "<style scoped>\n",
              "    .dataframe tbody tr th:only-of-type {\n",
              "        vertical-align: middle;\n",
              "    }\n",
              "\n",
              "    .dataframe tbody tr th {\n",
              "        vertical-align: top;\n",
              "    }\n",
              "\n",
              "    .dataframe thead th {\n",
              "        text-align: right;\n",
              "    }\n",
              "</style>\n",
              "<table border=\"1\" class=\"dataframe\">\n",
              "  <thead>\n",
              "    <tr style=\"text-align: right;\">\n",
              "      <th></th>\n",
              "      <th>pilar</th>\n",
              "      <th>tipo de pilar</th>\n",
              "      <th>Área</th>\n",
              "      <th>Área Tributaria</th>\n",
              "      <th>perimetro</th>\n",
              "      <th>At/Ap</th>\n",
              "      <th>Altura</th>\n",
              "    </tr>\n",
              "  </thead>\n",
              "  <tbody>\n",
              "    <tr>\n",
              "      <th>7</th>\n",
              "      <td>[(509.8859767648045, 1054.974992662914, 0.0, 0...</td>\n",
              "      <td>CMET</td>\n",
              "      <td>377.565490</td>\n",
              "      <td>599.99972</td>\n",
              "      <td>93.344262</td>\n",
              "      <td>1.589128</td>\n",
              "      <td>4.3</td>\n",
              "    </tr>\n",
              "    <tr>\n",
              "      <th>6</th>\n",
              "      <td>[(515.7068386864775, 1058.02599288885, 0.0, 0....</td>\n",
              "      <td>CMET</td>\n",
              "      <td>384.589463</td>\n",
              "      <td>599.99972</td>\n",
              "      <td>84.327467</td>\n",
              "      <td>1.560104</td>\n",
              "      <td>4.3</td>\n",
              "    </tr>\n",
              "    <tr>\n",
              "      <th>4</th>\n",
              "      <td>[(485.8802689305066, 1052.270056492004, 0.0, 0...</td>\n",
              "      <td>PDI</td>\n",
              "      <td>396.214405</td>\n",
              "      <td>599.99972</td>\n",
              "      <td>86.614391</td>\n",
              "      <td>1.514331</td>\n",
              "      <td>4.3</td>\n",
              "    </tr>\n",
              "    <tr>\n",
              "      <th>5</th>\n",
              "      <td>[(532.2373999999999, 1083.3211, 0.0, 0.0, 0.0)...</td>\n",
              "      <td>PDI</td>\n",
              "      <td>376.944562</td>\n",
              "      <td>599.99972</td>\n",
              "      <td>84.840034</td>\n",
              "      <td>1.591745</td>\n",
              "      <td>4.3</td>\n",
              "    </tr>\n",
              "  </tbody>\n",
              "</table>\n",
              "</div>\n",
              "      <button class=\"colab-df-convert\" onclick=\"convertToInteractive('df-f61e1d98-c743-4fcd-8a3d-da8cce264cda')\"\n",
              "              title=\"Convert this dataframe to an interactive table.\"\n",
              "              style=\"display:none;\">\n",
              "        \n",
              "  <svg xmlns=\"http://www.w3.org/2000/svg\" height=\"24px\"viewBox=\"0 0 24 24\"\n",
              "       width=\"24px\">\n",
              "    <path d=\"M0 0h24v24H0V0z\" fill=\"none\"/>\n",
              "    <path d=\"M18.56 5.44l.94 2.06.94-2.06 2.06-.94-2.06-.94-.94-2.06-.94 2.06-2.06.94zm-11 1L8.5 8.5l.94-2.06 2.06-.94-2.06-.94L8.5 2.5l-.94 2.06-2.06.94zm10 10l.94 2.06.94-2.06 2.06-.94-2.06-.94-.94-2.06-.94 2.06-2.06.94z\"/><path d=\"M17.41 7.96l-1.37-1.37c-.4-.4-.92-.59-1.43-.59-.52 0-1.04.2-1.43.59L10.3 9.45l-7.72 7.72c-.78.78-.78 2.05 0 2.83L4 21.41c.39.39.9.59 1.41.59.51 0 1.02-.2 1.41-.59l7.78-7.78 2.81-2.81c.8-.78.8-2.07 0-2.86zM5.41 20L4 18.59l7.72-7.72 1.47 1.35L5.41 20z\"/>\n",
              "  </svg>\n",
              "      </button>\n",
              "      \n",
              "  <style>\n",
              "    .colab-df-container {\n",
              "      display:flex;\n",
              "      flex-wrap:wrap;\n",
              "      gap: 12px;\n",
              "    }\n",
              "\n",
              "    .colab-df-convert {\n",
              "      background-color: #E8F0FE;\n",
              "      border: none;\n",
              "      border-radius: 50%;\n",
              "      cursor: pointer;\n",
              "      display: none;\n",
              "      fill: #1967D2;\n",
              "      height: 32px;\n",
              "      padding: 0 0 0 0;\n",
              "      width: 32px;\n",
              "    }\n",
              "\n",
              "    .colab-df-convert:hover {\n",
              "      background-color: #E2EBFA;\n",
              "      box-shadow: 0px 1px 2px rgba(60, 64, 67, 0.3), 0px 1px 3px 1px rgba(60, 64, 67, 0.15);\n",
              "      fill: #174EA6;\n",
              "    }\n",
              "\n",
              "    [theme=dark] .colab-df-convert {\n",
              "      background-color: #3B4455;\n",
              "      fill: #D2E3FC;\n",
              "    }\n",
              "\n",
              "    [theme=dark] .colab-df-convert:hover {\n",
              "      background-color: #434B5C;\n",
              "      box-shadow: 0px 1px 3px 1px rgba(0, 0, 0, 0.15);\n",
              "      filter: drop-shadow(0px 1px 2px rgba(0, 0, 0, 0.3));\n",
              "      fill: #FFFFFF;\n",
              "    }\n",
              "  </style>\n",
              "\n",
              "      <script>\n",
              "        const buttonEl =\n",
              "          document.querySelector('#df-f61e1d98-c743-4fcd-8a3d-da8cce264cda button.colab-df-convert');\n",
              "        buttonEl.style.display =\n",
              "          google.colab.kernel.accessAllowed ? 'block' : 'none';\n",
              "\n",
              "        async function convertToInteractive(key) {\n",
              "          const element = document.querySelector('#df-f61e1d98-c743-4fcd-8a3d-da8cce264cda');\n",
              "          const dataTable =\n",
              "            await google.colab.kernel.invokeFunction('convertToInteractive',\n",
              "                                                     [key], {});\n",
              "          if (!dataTable) return;\n",
              "\n",
              "          const docLinkHtml = 'Like what you see? Visit the ' +\n",
              "            '<a target=\"_blank\" href=https://colab.research.google.com/notebooks/data_table.ipynb>data table notebook</a>'\n",
              "            + ' to learn more about interactive tables.';\n",
              "          element.innerHTML = '';\n",
              "          dataTable['output_type'] = 'display_data';\n",
              "          await google.colab.output.renderOutput(dataTable, element);\n",
              "          const docLink = document.createElement('div');\n",
              "          docLink.innerHTML = docLinkHtml;\n",
              "          element.appendChild(docLink);\n",
              "        }\n",
              "      </script>\n",
              "    </div>\n",
              "  </div>\n",
              "  "
            ]
          },
          "metadata": {},
          "execution_count": 5
        }
      ]
    },
    {
      "cell_type": "code",
      "source": [
        "data_resumen2 = data_resumen.copy()"
      ],
      "metadata": {
        "id": "32vu66C1JPxu"
      },
      "execution_count": 6,
      "outputs": []
    },
    {
      "cell_type": "markdown",
      "source": [
        "Lectura del excel que contiene las propiedad geomecanicas de CMET y PDI"
      ],
      "metadata": {
        "id": "qt3VG9heXRCp"
      }
    },
    {
      "cell_type": "code",
      "source": [
        "prop_geo = pd.read_excel(\"/content/propiedades geomecanicas.xlsx\")"
      ],
      "metadata": {
        "id": "hIRWWCLRGi0W"
      },
      "execution_count": 7,
      "outputs": []
    },
    {
      "cell_type": "code",
      "source": [
        "prop_geo"
      ],
      "metadata": {
        "colab": {
          "base_uri": "https://localhost:8080/",
          "height": 112
        },
        "id": "RbGd889jG0fm",
        "outputId": "59545139-cd35-4c83-f3f0-9bc63292eb95"
      },
      "execution_count": 8,
      "outputs": [
        {
          "output_type": "execute_result",
          "data": {
            "text/plain": [
              "  Litologia  Sigma Ci    mi  GSI\n",
              "0      CMET       124  12.0   74\n",
              "1       PDI       145  18.6   86"
            ],
            "text/html": [
              "\n",
              "  <div id=\"df-509e9e08-2e4d-440f-86dd-bc38099f8a8e\">\n",
              "    <div class=\"colab-df-container\">\n",
              "      <div>\n",
              "<style scoped>\n",
              "    .dataframe tbody tr th:only-of-type {\n",
              "        vertical-align: middle;\n",
              "    }\n",
              "\n",
              "    .dataframe tbody tr th {\n",
              "        vertical-align: top;\n",
              "    }\n",
              "\n",
              "    .dataframe thead th {\n",
              "        text-align: right;\n",
              "    }\n",
              "</style>\n",
              "<table border=\"1\" class=\"dataframe\">\n",
              "  <thead>\n",
              "    <tr style=\"text-align: right;\">\n",
              "      <th></th>\n",
              "      <th>Litologia</th>\n",
              "      <th>Sigma Ci</th>\n",
              "      <th>mi</th>\n",
              "      <th>GSI</th>\n",
              "    </tr>\n",
              "  </thead>\n",
              "  <tbody>\n",
              "    <tr>\n",
              "      <th>0</th>\n",
              "      <td>CMET</td>\n",
              "      <td>124</td>\n",
              "      <td>12.0</td>\n",
              "      <td>74</td>\n",
              "    </tr>\n",
              "    <tr>\n",
              "      <th>1</th>\n",
              "      <td>PDI</td>\n",
              "      <td>145</td>\n",
              "      <td>18.6</td>\n",
              "      <td>86</td>\n",
              "    </tr>\n",
              "  </tbody>\n",
              "</table>\n",
              "</div>\n",
              "      <button class=\"colab-df-convert\" onclick=\"convertToInteractive('df-509e9e08-2e4d-440f-86dd-bc38099f8a8e')\"\n",
              "              title=\"Convert this dataframe to an interactive table.\"\n",
              "              style=\"display:none;\">\n",
              "        \n",
              "  <svg xmlns=\"http://www.w3.org/2000/svg\" height=\"24px\"viewBox=\"0 0 24 24\"\n",
              "       width=\"24px\">\n",
              "    <path d=\"M0 0h24v24H0V0z\" fill=\"none\"/>\n",
              "    <path d=\"M18.56 5.44l.94 2.06.94-2.06 2.06-.94-2.06-.94-.94-2.06-.94 2.06-2.06.94zm-11 1L8.5 8.5l.94-2.06 2.06-.94-2.06-.94L8.5 2.5l-.94 2.06-2.06.94zm10 10l.94 2.06.94-2.06 2.06-.94-2.06-.94-.94-2.06-.94 2.06-2.06.94z\"/><path d=\"M17.41 7.96l-1.37-1.37c-.4-.4-.92-.59-1.43-.59-.52 0-1.04.2-1.43.59L10.3 9.45l-7.72 7.72c-.78.78-.78 2.05 0 2.83L4 21.41c.39.39.9.59 1.41.59.51 0 1.02-.2 1.41-.59l7.78-7.78 2.81-2.81c.8-.78.8-2.07 0-2.86zM5.41 20L4 18.59l7.72-7.72 1.47 1.35L5.41 20z\"/>\n",
              "  </svg>\n",
              "      </button>\n",
              "      \n",
              "  <style>\n",
              "    .colab-df-container {\n",
              "      display:flex;\n",
              "      flex-wrap:wrap;\n",
              "      gap: 12px;\n",
              "    }\n",
              "\n",
              "    .colab-df-convert {\n",
              "      background-color: #E8F0FE;\n",
              "      border: none;\n",
              "      border-radius: 50%;\n",
              "      cursor: pointer;\n",
              "      display: none;\n",
              "      fill: #1967D2;\n",
              "      height: 32px;\n",
              "      padding: 0 0 0 0;\n",
              "      width: 32px;\n",
              "    }\n",
              "\n",
              "    .colab-df-convert:hover {\n",
              "      background-color: #E2EBFA;\n",
              "      box-shadow: 0px 1px 2px rgba(60, 64, 67, 0.3), 0px 1px 3px 1px rgba(60, 64, 67, 0.15);\n",
              "      fill: #174EA6;\n",
              "    }\n",
              "\n",
              "    [theme=dark] .colab-df-convert {\n",
              "      background-color: #3B4455;\n",
              "      fill: #D2E3FC;\n",
              "    }\n",
              "\n",
              "    [theme=dark] .colab-df-convert:hover {\n",
              "      background-color: #434B5C;\n",
              "      box-shadow: 0px 1px 3px 1px rgba(0, 0, 0, 0.15);\n",
              "      filter: drop-shadow(0px 1px 2px rgba(0, 0, 0, 0.3));\n",
              "      fill: #FFFFFF;\n",
              "    }\n",
              "  </style>\n",
              "\n",
              "      <script>\n",
              "        const buttonEl =\n",
              "          document.querySelector('#df-509e9e08-2e4d-440f-86dd-bc38099f8a8e button.colab-df-convert');\n",
              "        buttonEl.style.display =\n",
              "          google.colab.kernel.accessAllowed ? 'block' : 'none';\n",
              "\n",
              "        async function convertToInteractive(key) {\n",
              "          const element = document.querySelector('#df-509e9e08-2e4d-440f-86dd-bc38099f8a8e');\n",
              "          const dataTable =\n",
              "            await google.colab.kernel.invokeFunction('convertToInteractive',\n",
              "                                                     [key], {});\n",
              "          if (!dataTable) return;\n",
              "\n",
              "          const docLinkHtml = 'Like what you see? Visit the ' +\n",
              "            '<a target=\"_blank\" href=https://colab.research.google.com/notebooks/data_table.ipynb>data table notebook</a>'\n",
              "            + ' to learn more about interactive tables.';\n",
              "          element.innerHTML = '';\n",
              "          dataTable['output_type'] = 'display_data';\n",
              "          await google.colab.output.renderOutput(dataTable, element);\n",
              "          const docLink = document.createElement('div');\n",
              "          docLink.innerHTML = docLinkHtml;\n",
              "          element.appendChild(docLink);\n",
              "        }\n",
              "      </script>\n",
              "    </div>\n",
              "  </div>\n",
              "  "
            ]
          },
          "metadata": {},
          "execution_count": 8
        }
      ]
    },
    {
      "cell_type": "code",
      "source": [
        "x = data_resumen2\n",
        "y = prop_geo\n",
        "\n",
        "\n",
        "lista_sigma_ci = []\n",
        "lista_mi = []\n",
        "lista_gsi = []\n",
        "\n",
        "\n",
        "for i in x[\"tipo de pilar\"]:\n",
        "  if i == \"CMET\":\n",
        "    HOLA = y[y[\"Litologia\"] == \"CMET\"]\n",
        "    lista_sigma_ci.append(HOLA.iloc[0,1])\n",
        "    lista_mi.append(HOLA.iloc[0, 2])\n",
        "    lista_gsi.append(HOLA.iloc[0, 3])\n",
        "\n",
        "\n",
        "  if i == \"PDI\":\n",
        "    HOLA = y[y[\"Litologia\"] == \"PDI\"]\n",
        "    lista_sigma_ci.append(HOLA.iloc[0,1])\n",
        "    lista_mi.append(HOLA.iloc[0, 2])\n",
        "    lista_gsi.append(HOLA.iloc[0, 3])\n",
        "    \n",
        "x[\"Sigma_ci\"] = lista_sigma_ci\n",
        "x[\"mi\"] = lista_mi\n",
        "x[\"GSI\"] = lista_gsi\n"
      ],
      "metadata": {
        "id": "pLqYnz5zNuCd"
      },
      "execution_count": 9,
      "outputs": []
    },
    {
      "cell_type": "markdown",
      "source": [
        "x es un dataframe que contiene toda la informacion importante acerca de la geometria de cada pilar, asi como de las caracteristicas geomecánicas"
      ],
      "metadata": {
        "id": "cPjigh3nXhxi"
      }
    },
    {
      "cell_type": "code",
      "source": [
        "x"
      ],
      "metadata": {
        "colab": {
          "base_uri": "https://localhost:8080/",
          "height": 175
        },
        "id": "SK2ebSnJO3kW",
        "outputId": "8c161eb7-9d0f-4508-deba-089931d8fa19"
      },
      "execution_count": 10,
      "outputs": [
        {
          "output_type": "execute_result",
          "data": {
            "text/plain": [
              "                                               pilar tipo de pilar  \\\n",
              "7  [(509.8859767648045, 1054.974992662914, 0.0, 0...          CMET   \n",
              "6  [(515.7068386864775, 1058.02599288885, 0.0, 0....          CMET   \n",
              "4  [(485.8802689305066, 1052.270056492004, 0.0, 0...           PDI   \n",
              "5  [(532.2373999999999, 1083.3211, 0.0, 0.0, 0.0)...           PDI   \n",
              "\n",
              "         Área  Área Tributaria  perimetro     At/Ap  Altura  Sigma_ci    mi  \\\n",
              "7  377.565490        599.99972  93.344262  1.589128     4.3       124  12.0   \n",
              "6  384.589463        599.99972  84.327467  1.560104     4.3       124  12.0   \n",
              "4  396.214405        599.99972  86.614391  1.514331     4.3       145  18.6   \n",
              "5  376.944562        599.99972  84.840034  1.591745     4.3       145  18.6   \n",
              "\n",
              "   GSI  \n",
              "7   74  \n",
              "6   74  \n",
              "4   86  \n",
              "5   86  "
            ],
            "text/html": [
              "\n",
              "  <div id=\"df-cf6c5557-1f56-4a19-a70e-f56f62a5babe\">\n",
              "    <div class=\"colab-df-container\">\n",
              "      <div>\n",
              "<style scoped>\n",
              "    .dataframe tbody tr th:only-of-type {\n",
              "        vertical-align: middle;\n",
              "    }\n",
              "\n",
              "    .dataframe tbody tr th {\n",
              "        vertical-align: top;\n",
              "    }\n",
              "\n",
              "    .dataframe thead th {\n",
              "        text-align: right;\n",
              "    }\n",
              "</style>\n",
              "<table border=\"1\" class=\"dataframe\">\n",
              "  <thead>\n",
              "    <tr style=\"text-align: right;\">\n",
              "      <th></th>\n",
              "      <th>pilar</th>\n",
              "      <th>tipo de pilar</th>\n",
              "      <th>Área</th>\n",
              "      <th>Área Tributaria</th>\n",
              "      <th>perimetro</th>\n",
              "      <th>At/Ap</th>\n",
              "      <th>Altura</th>\n",
              "      <th>Sigma_ci</th>\n",
              "      <th>mi</th>\n",
              "      <th>GSI</th>\n",
              "    </tr>\n",
              "  </thead>\n",
              "  <tbody>\n",
              "    <tr>\n",
              "      <th>7</th>\n",
              "      <td>[(509.8859767648045, 1054.974992662914, 0.0, 0...</td>\n",
              "      <td>CMET</td>\n",
              "      <td>377.565490</td>\n",
              "      <td>599.99972</td>\n",
              "      <td>93.344262</td>\n",
              "      <td>1.589128</td>\n",
              "      <td>4.3</td>\n",
              "      <td>124</td>\n",
              "      <td>12.0</td>\n",
              "      <td>74</td>\n",
              "    </tr>\n",
              "    <tr>\n",
              "      <th>6</th>\n",
              "      <td>[(515.7068386864775, 1058.02599288885, 0.0, 0....</td>\n",
              "      <td>CMET</td>\n",
              "      <td>384.589463</td>\n",
              "      <td>599.99972</td>\n",
              "      <td>84.327467</td>\n",
              "      <td>1.560104</td>\n",
              "      <td>4.3</td>\n",
              "      <td>124</td>\n",
              "      <td>12.0</td>\n",
              "      <td>74</td>\n",
              "    </tr>\n",
              "    <tr>\n",
              "      <th>4</th>\n",
              "      <td>[(485.8802689305066, 1052.270056492004, 0.0, 0...</td>\n",
              "      <td>PDI</td>\n",
              "      <td>396.214405</td>\n",
              "      <td>599.99972</td>\n",
              "      <td>86.614391</td>\n",
              "      <td>1.514331</td>\n",
              "      <td>4.3</td>\n",
              "      <td>145</td>\n",
              "      <td>18.6</td>\n",
              "      <td>86</td>\n",
              "    </tr>\n",
              "    <tr>\n",
              "      <th>5</th>\n",
              "      <td>[(532.2373999999999, 1083.3211, 0.0, 0.0, 0.0)...</td>\n",
              "      <td>PDI</td>\n",
              "      <td>376.944562</td>\n",
              "      <td>599.99972</td>\n",
              "      <td>84.840034</td>\n",
              "      <td>1.591745</td>\n",
              "      <td>4.3</td>\n",
              "      <td>145</td>\n",
              "      <td>18.6</td>\n",
              "      <td>86</td>\n",
              "    </tr>\n",
              "  </tbody>\n",
              "</table>\n",
              "</div>\n",
              "      <button class=\"colab-df-convert\" onclick=\"convertToInteractive('df-cf6c5557-1f56-4a19-a70e-f56f62a5babe')\"\n",
              "              title=\"Convert this dataframe to an interactive table.\"\n",
              "              style=\"display:none;\">\n",
              "        \n",
              "  <svg xmlns=\"http://www.w3.org/2000/svg\" height=\"24px\"viewBox=\"0 0 24 24\"\n",
              "       width=\"24px\">\n",
              "    <path d=\"M0 0h24v24H0V0z\" fill=\"none\"/>\n",
              "    <path d=\"M18.56 5.44l.94 2.06.94-2.06 2.06-.94-2.06-.94-.94-2.06-.94 2.06-2.06.94zm-11 1L8.5 8.5l.94-2.06 2.06-.94-2.06-.94L8.5 2.5l-.94 2.06-2.06.94zm10 10l.94 2.06.94-2.06 2.06-.94-2.06-.94-.94-2.06-.94 2.06-2.06.94z\"/><path d=\"M17.41 7.96l-1.37-1.37c-.4-.4-.92-.59-1.43-.59-.52 0-1.04.2-1.43.59L10.3 9.45l-7.72 7.72c-.78.78-.78 2.05 0 2.83L4 21.41c.39.39.9.59 1.41.59.51 0 1.02-.2 1.41-.59l7.78-7.78 2.81-2.81c.8-.78.8-2.07 0-2.86zM5.41 20L4 18.59l7.72-7.72 1.47 1.35L5.41 20z\"/>\n",
              "  </svg>\n",
              "      </button>\n",
              "      \n",
              "  <style>\n",
              "    .colab-df-container {\n",
              "      display:flex;\n",
              "      flex-wrap:wrap;\n",
              "      gap: 12px;\n",
              "    }\n",
              "\n",
              "    .colab-df-convert {\n",
              "      background-color: #E8F0FE;\n",
              "      border: none;\n",
              "      border-radius: 50%;\n",
              "      cursor: pointer;\n",
              "      display: none;\n",
              "      fill: #1967D2;\n",
              "      height: 32px;\n",
              "      padding: 0 0 0 0;\n",
              "      width: 32px;\n",
              "    }\n",
              "\n",
              "    .colab-df-convert:hover {\n",
              "      background-color: #E2EBFA;\n",
              "      box-shadow: 0px 1px 2px rgba(60, 64, 67, 0.3), 0px 1px 3px 1px rgba(60, 64, 67, 0.15);\n",
              "      fill: #174EA6;\n",
              "    }\n",
              "\n",
              "    [theme=dark] .colab-df-convert {\n",
              "      background-color: #3B4455;\n",
              "      fill: #D2E3FC;\n",
              "    }\n",
              "\n",
              "    [theme=dark] .colab-df-convert:hover {\n",
              "      background-color: #434B5C;\n",
              "      box-shadow: 0px 1px 3px 1px rgba(0, 0, 0, 0.15);\n",
              "      filter: drop-shadow(0px 1px 2px rgba(0, 0, 0, 0.3));\n",
              "      fill: #FFFFFF;\n",
              "    }\n",
              "  </style>\n",
              "\n",
              "      <script>\n",
              "        const buttonEl =\n",
              "          document.querySelector('#df-cf6c5557-1f56-4a19-a70e-f56f62a5babe button.colab-df-convert');\n",
              "        buttonEl.style.display =\n",
              "          google.colab.kernel.accessAllowed ? 'block' : 'none';\n",
              "\n",
              "        async function convertToInteractive(key) {\n",
              "          const element = document.querySelector('#df-cf6c5557-1f56-4a19-a70e-f56f62a5babe');\n",
              "          const dataTable =\n",
              "            await google.colab.kernel.invokeFunction('convertToInteractive',\n",
              "                                                     [key], {});\n",
              "          if (!dataTable) return;\n",
              "\n",
              "          const docLinkHtml = 'Like what you see? Visit the ' +\n",
              "            '<a target=\"_blank\" href=https://colab.research.google.com/notebooks/data_table.ipynb>data table notebook</a>'\n",
              "            + ' to learn more about interactive tables.';\n",
              "          element.innerHTML = '';\n",
              "          dataTable['output_type'] = 'display_data';\n",
              "          await google.colab.output.renderOutput(dataTable, element);\n",
              "          const docLink = document.createElement('div');\n",
              "          docLink.innerHTML = docLinkHtml;\n",
              "          element.appendChild(docLink);\n",
              "        }\n",
              "      </script>\n",
              "    </div>\n",
              "  </div>\n",
              "  "
            ]
          },
          "metadata": {},
          "execution_count": 10
        }
      ]
    },
    {
      "cell_type": "markdown",
      "source": [
        "##Nuestro x es nuestra tabla final "
      ],
      "metadata": {
        "id": "CMzeQiGtPPk-"
      }
    },
    {
      "cell_type": "code",
      "source": [
        "esf_v = float(input(\"ingrese el valor del esfuerzo vertical en MPa: \"))\n",
        "x[\"esfuerzo vertical\"] = esf_v"
      ],
      "metadata": {
        "colab": {
          "base_uri": "https://localhost:8080/"
        },
        "id": "_c2DW09iPG2O",
        "outputId": "5ef2670d-3ed9-497d-873b-78f3cb8b8c8f"
      },
      "execution_count": 11,
      "outputs": [
        {
          "name": "stdout",
          "output_type": "stream",
          "text": [
            "ingrese el valor del esfuerzo vertical en MPa: 50\n"
          ]
        }
      ]
    },
    {
      "cell_type": "code",
      "source": [
        "x"
      ],
      "metadata": {
        "colab": {
          "base_uri": "https://localhost:8080/",
          "height": 175
        },
        "id": "yz6TRjufP1r9",
        "outputId": "5841d045-5c85-40d2-fdc7-93a4e69f6f70"
      },
      "execution_count": 12,
      "outputs": [
        {
          "output_type": "execute_result",
          "data": {
            "text/plain": [
              "                                               pilar tipo de pilar  \\\n",
              "7  [(509.8859767648045, 1054.974992662914, 0.0, 0...          CMET   \n",
              "6  [(515.7068386864775, 1058.02599288885, 0.0, 0....          CMET   \n",
              "4  [(485.8802689305066, 1052.270056492004, 0.0, 0...           PDI   \n",
              "5  [(532.2373999999999, 1083.3211, 0.0, 0.0, 0.0)...           PDI   \n",
              "\n",
              "         Área  Área Tributaria  perimetro     At/Ap  Altura  Sigma_ci    mi  \\\n",
              "7  377.565490        599.99972  93.344262  1.589128     4.3       124  12.0   \n",
              "6  384.589463        599.99972  84.327467  1.560104     4.3       124  12.0   \n",
              "4  396.214405        599.99972  86.614391  1.514331     4.3       145  18.6   \n",
              "5  376.944562        599.99972  84.840034  1.591745     4.3       145  18.6   \n",
              "\n",
              "   GSI  esfuerzo vertical  \n",
              "7   74               50.0  \n",
              "6   74               50.0  \n",
              "4   86               50.0  \n",
              "5   86               50.0  "
            ],
            "text/html": [
              "\n",
              "  <div id=\"df-22737953-b6e7-4a9e-96a2-ac4c56918dfe\">\n",
              "    <div class=\"colab-df-container\">\n",
              "      <div>\n",
              "<style scoped>\n",
              "    .dataframe tbody tr th:only-of-type {\n",
              "        vertical-align: middle;\n",
              "    }\n",
              "\n",
              "    .dataframe tbody tr th {\n",
              "        vertical-align: top;\n",
              "    }\n",
              "\n",
              "    .dataframe thead th {\n",
              "        text-align: right;\n",
              "    }\n",
              "</style>\n",
              "<table border=\"1\" class=\"dataframe\">\n",
              "  <thead>\n",
              "    <tr style=\"text-align: right;\">\n",
              "      <th></th>\n",
              "      <th>pilar</th>\n",
              "      <th>tipo de pilar</th>\n",
              "      <th>Área</th>\n",
              "      <th>Área Tributaria</th>\n",
              "      <th>perimetro</th>\n",
              "      <th>At/Ap</th>\n",
              "      <th>Altura</th>\n",
              "      <th>Sigma_ci</th>\n",
              "      <th>mi</th>\n",
              "      <th>GSI</th>\n",
              "      <th>esfuerzo vertical</th>\n",
              "    </tr>\n",
              "  </thead>\n",
              "  <tbody>\n",
              "    <tr>\n",
              "      <th>7</th>\n",
              "      <td>[(509.8859767648045, 1054.974992662914, 0.0, 0...</td>\n",
              "      <td>CMET</td>\n",
              "      <td>377.565490</td>\n",
              "      <td>599.99972</td>\n",
              "      <td>93.344262</td>\n",
              "      <td>1.589128</td>\n",
              "      <td>4.3</td>\n",
              "      <td>124</td>\n",
              "      <td>12.0</td>\n",
              "      <td>74</td>\n",
              "      <td>50.0</td>\n",
              "    </tr>\n",
              "    <tr>\n",
              "      <th>6</th>\n",
              "      <td>[(515.7068386864775, 1058.02599288885, 0.0, 0....</td>\n",
              "      <td>CMET</td>\n",
              "      <td>384.589463</td>\n",
              "      <td>599.99972</td>\n",
              "      <td>84.327467</td>\n",
              "      <td>1.560104</td>\n",
              "      <td>4.3</td>\n",
              "      <td>124</td>\n",
              "      <td>12.0</td>\n",
              "      <td>74</td>\n",
              "      <td>50.0</td>\n",
              "    </tr>\n",
              "    <tr>\n",
              "      <th>4</th>\n",
              "      <td>[(485.8802689305066, 1052.270056492004, 0.0, 0...</td>\n",
              "      <td>PDI</td>\n",
              "      <td>396.214405</td>\n",
              "      <td>599.99972</td>\n",
              "      <td>86.614391</td>\n",
              "      <td>1.514331</td>\n",
              "      <td>4.3</td>\n",
              "      <td>145</td>\n",
              "      <td>18.6</td>\n",
              "      <td>86</td>\n",
              "      <td>50.0</td>\n",
              "    </tr>\n",
              "    <tr>\n",
              "      <th>5</th>\n",
              "      <td>[(532.2373999999999, 1083.3211, 0.0, 0.0, 0.0)...</td>\n",
              "      <td>PDI</td>\n",
              "      <td>376.944562</td>\n",
              "      <td>599.99972</td>\n",
              "      <td>84.840034</td>\n",
              "      <td>1.591745</td>\n",
              "      <td>4.3</td>\n",
              "      <td>145</td>\n",
              "      <td>18.6</td>\n",
              "      <td>86</td>\n",
              "      <td>50.0</td>\n",
              "    </tr>\n",
              "  </tbody>\n",
              "</table>\n",
              "</div>\n",
              "      <button class=\"colab-df-convert\" onclick=\"convertToInteractive('df-22737953-b6e7-4a9e-96a2-ac4c56918dfe')\"\n",
              "              title=\"Convert this dataframe to an interactive table.\"\n",
              "              style=\"display:none;\">\n",
              "        \n",
              "  <svg xmlns=\"http://www.w3.org/2000/svg\" height=\"24px\"viewBox=\"0 0 24 24\"\n",
              "       width=\"24px\">\n",
              "    <path d=\"M0 0h24v24H0V0z\" fill=\"none\"/>\n",
              "    <path d=\"M18.56 5.44l.94 2.06.94-2.06 2.06-.94-2.06-.94-.94-2.06-.94 2.06-2.06.94zm-11 1L8.5 8.5l.94-2.06 2.06-.94-2.06-.94L8.5 2.5l-.94 2.06-2.06.94zm10 10l.94 2.06.94-2.06 2.06-.94-2.06-.94-.94-2.06-.94 2.06-2.06.94z\"/><path d=\"M17.41 7.96l-1.37-1.37c-.4-.4-.92-.59-1.43-.59-.52 0-1.04.2-1.43.59L10.3 9.45l-7.72 7.72c-.78.78-.78 2.05 0 2.83L4 21.41c.39.39.9.59 1.41.59.51 0 1.02-.2 1.41-.59l7.78-7.78 2.81-2.81c.8-.78.8-2.07 0-2.86zM5.41 20L4 18.59l7.72-7.72 1.47 1.35L5.41 20z\"/>\n",
              "  </svg>\n",
              "      </button>\n",
              "      \n",
              "  <style>\n",
              "    .colab-df-container {\n",
              "      display:flex;\n",
              "      flex-wrap:wrap;\n",
              "      gap: 12px;\n",
              "    }\n",
              "\n",
              "    .colab-df-convert {\n",
              "      background-color: #E8F0FE;\n",
              "      border: none;\n",
              "      border-radius: 50%;\n",
              "      cursor: pointer;\n",
              "      display: none;\n",
              "      fill: #1967D2;\n",
              "      height: 32px;\n",
              "      padding: 0 0 0 0;\n",
              "      width: 32px;\n",
              "    }\n",
              "\n",
              "    .colab-df-convert:hover {\n",
              "      background-color: #E2EBFA;\n",
              "      box-shadow: 0px 1px 2px rgba(60, 64, 67, 0.3), 0px 1px 3px 1px rgba(60, 64, 67, 0.15);\n",
              "      fill: #174EA6;\n",
              "    }\n",
              "\n",
              "    [theme=dark] .colab-df-convert {\n",
              "      background-color: #3B4455;\n",
              "      fill: #D2E3FC;\n",
              "    }\n",
              "\n",
              "    [theme=dark] .colab-df-convert:hover {\n",
              "      background-color: #434B5C;\n",
              "      box-shadow: 0px 1px 3px 1px rgba(0, 0, 0, 0.15);\n",
              "      filter: drop-shadow(0px 1px 2px rgba(0, 0, 0, 0.3));\n",
              "      fill: #FFFFFF;\n",
              "    }\n",
              "  </style>\n",
              "\n",
              "      <script>\n",
              "        const buttonEl =\n",
              "          document.querySelector('#df-22737953-b6e7-4a9e-96a2-ac4c56918dfe button.colab-df-convert');\n",
              "        buttonEl.style.display =\n",
              "          google.colab.kernel.accessAllowed ? 'block' : 'none';\n",
              "\n",
              "        async function convertToInteractive(key) {\n",
              "          const element = document.querySelector('#df-22737953-b6e7-4a9e-96a2-ac4c56918dfe');\n",
              "          const dataTable =\n",
              "            await google.colab.kernel.invokeFunction('convertToInteractive',\n",
              "                                                     [key], {});\n",
              "          if (!dataTable) return;\n",
              "\n",
              "          const docLinkHtml = 'Like what you see? Visit the ' +\n",
              "            '<a target=\"_blank\" href=https://colab.research.google.com/notebooks/data_table.ipynb>data table notebook</a>'\n",
              "            + ' to learn more about interactive tables.';\n",
              "          element.innerHTML = '';\n",
              "          dataTable['output_type'] = 'display_data';\n",
              "          await google.colab.output.renderOutput(dataTable, element);\n",
              "          const docLink = document.createElement('div');\n",
              "          docLink.innerHTML = docLinkHtml;\n",
              "          element.appendChild(docLink);\n",
              "        }\n",
              "      </script>\n",
              "    </div>\n",
              "  </div>\n",
              "  "
            ]
          },
          "metadata": {},
          "execution_count": 12
        }
      ]
    },
    {
      "cell_type": "code",
      "source": [
        "x[\"Radio Hidráulico\"] = x[\"Área\"]/x[\"perimetro\"]\n",
        "\n",
        "factor_perturbacion = float(input(\"ingrese el factor de perturbacion por tronadura: \")) ## valor por defecto de d es 0\n",
        "\n",
        "x[\"D\"] = factor_perturbacion "
      ],
      "metadata": {
        "id": "E2mPyAETPO3j",
        "colab": {
          "base_uri": "https://localhost:8080/"
        },
        "outputId": "aea8b0a2-7a19-4627-a45a-d13e7a0b0559"
      },
      "execution_count": 13,
      "outputs": [
        {
          "name": "stdout",
          "output_type": "stream",
          "text": [
            "ingrese el factor de perturbacion por tronadura: 0.\n"
          ]
        }
      ]
    },
    {
      "cell_type": "code",
      "source": [
        "x[\"ancho efectivo\"] = 4*x[\"Radio Hidráulico\"]\n",
        "x[\"esbeltez minera\"] = x[\"ancho efectivo\"]/x[\"Altura\"]\n",
        "x[\"razón alto ancho\"] = 1/x[\"esbeltez minera\"]\n",
        "x[\"mb\"] = x[\"mi\"] * np.exp((x[\"GSI\"]-100)/(28-(14*x[\"D\"])))\n",
        "x[\"s\"] = np.exp((x[\"GSI\"]-100)/(9-(3*x[\"D\"])))\n",
        "x[\"a\"] = 0.5 + ( (1/6)* (np.exp(-1*(x[\"GSI\"]/15) ) - np.exp(-20/3 )) )\n",
        "x[\"sigma aplicado\"] = x[\"esfuerzo vertical\"]*x[\"At/Ap\"]\n",
        "x[\"sigma 3\"] = x[\"sigma aplicado\"]*(-0.15267211+(0.22690402/(np.sqrt(x[\"razón alto ancho\"]))))\n",
        "x[\"sigma maximo\"] = x[\"sigma 3\"]+ ( x[\"Sigma_ci\"]* (np.power(( x[\"mb\"]*(x[\"sigma 3\"]/x[\"Sigma_ci\"]) )+ x[\"s\"], x[\"a\"])))\n",
        "x[\"factor de seguridad\"] = x[\"sigma maximo\"]/ x[\"sigma aplicado\"]"
      ],
      "metadata": {
        "id": "YCoAYSGNXgjA"
      },
      "execution_count": 14,
      "outputs": []
    },
    {
      "cell_type": "code",
      "source": [
        "x.to_excel(\"resultados finales finales 2.xlsx\")"
      ],
      "metadata": {
        "id": "37GuH_03XboB"
      },
      "execution_count": 15,
      "outputs": []
    },
    {
      "cell_type": "markdown",
      "source": [
        "##Extracción de la informacion al ACAD\n",
        "en las siguientes lineas se presenta el proceso de extracion de la informacion que existe en x, para crear al CAD que visualmente representara la solución"
      ],
      "metadata": {
        "id": "ZMPxx3QEctkK"
      }
    },
    {
      "cell_type": "code",
      "source": [
        "resultados = x.copy()"
      ],
      "metadata": {
        "id": "NNQ-a6hhctGl"
      },
      "execution_count": 74,
      "outputs": []
    },
    {
      "cell_type": "code",
      "source": [
        "resultados"
      ],
      "metadata": {
        "colab": {
          "base_uri": "https://localhost:8080/",
          "height": 441
        },
        "id": "qHKWQKo8ctD0",
        "outputId": "cdab191b-fdd8-47fe-9e4e-ec4d018952db"
      },
      "execution_count": 17,
      "outputs": [
        {
          "output_type": "execute_result",
          "data": {
            "text/plain": [
              "                                               pilar tipo de pilar  \\\n",
              "7  [(509.8859767648045, 1054.974992662914, 0.0, 0...          CMET   \n",
              "6  [(515.7068386864775, 1058.02599288885, 0.0, 0....          CMET   \n",
              "4  [(485.8802689305066, 1052.270056492004, 0.0, 0...           PDI   \n",
              "5  [(532.2373999999999, 1083.3211, 0.0, 0.0, 0.0)...           PDI   \n",
              "\n",
              "         Área  Área Tributaria  perimetro     At/Ap  Altura  Sigma_ci    mi  \\\n",
              "7  377.565490        599.99972  93.344262  1.589128     4.3       124  12.0   \n",
              "6  384.589463        599.99972  84.327467  1.560104     4.3       124  12.0   \n",
              "4  396.214405        599.99972  86.614391  1.514331     4.3       145  18.6   \n",
              "5  376.944562        599.99972  84.840034  1.591745     4.3       145  18.6   \n",
              "\n",
              "   GSI  ...  ancho efectivo  esbeltez minera  razón alto ancho         mb  \\\n",
              "7   74  ...       16.179484         3.762671          0.265769   4.741413   \n",
              "6   74  ...       18.242666         4.242481          0.235711   4.741413   \n",
              "4   86  ...       18.297856         4.255315          0.235000  11.281470   \n",
              "5   86  ...       17.772014         4.133026          0.241953  11.281470   \n",
              "\n",
              "          s         a  sigma aplicado    sigma 3  sigma maximo  \\\n",
              "7  0.055638  0.500988       79.456377  22.841113    142.350553   \n",
              "6  0.055638  0.500988       78.005221  24.547347    148.190244   \n",
              "4  0.211072  0.500327       75.716545  23.880614    232.501618   \n",
              "5  0.211072  0.500327       79.587263  24.562243    235.841701   \n",
              "\n",
              "   factor de seguridad  \n",
              "7             1.791556  \n",
              "6             1.899748  \n",
              "4             3.070684  \n",
              "5             2.963310  \n",
              "\n",
              "[4 rows x 23 columns]"
            ],
            "text/html": [
              "\n",
              "  <div id=\"df-0741a5a3-88e2-4557-8b16-d20e4434cc8f\">\n",
              "    <div class=\"colab-df-container\">\n",
              "      <div>\n",
              "<style scoped>\n",
              "    .dataframe tbody tr th:only-of-type {\n",
              "        vertical-align: middle;\n",
              "    }\n",
              "\n",
              "    .dataframe tbody tr th {\n",
              "        vertical-align: top;\n",
              "    }\n",
              "\n",
              "    .dataframe thead th {\n",
              "        text-align: right;\n",
              "    }\n",
              "</style>\n",
              "<table border=\"1\" class=\"dataframe\">\n",
              "  <thead>\n",
              "    <tr style=\"text-align: right;\">\n",
              "      <th></th>\n",
              "      <th>pilar</th>\n",
              "      <th>tipo de pilar</th>\n",
              "      <th>Área</th>\n",
              "      <th>Área Tributaria</th>\n",
              "      <th>perimetro</th>\n",
              "      <th>At/Ap</th>\n",
              "      <th>Altura</th>\n",
              "      <th>Sigma_ci</th>\n",
              "      <th>mi</th>\n",
              "      <th>GSI</th>\n",
              "      <th>...</th>\n",
              "      <th>ancho efectivo</th>\n",
              "      <th>esbeltez minera</th>\n",
              "      <th>razón alto ancho</th>\n",
              "      <th>mb</th>\n",
              "      <th>s</th>\n",
              "      <th>a</th>\n",
              "      <th>sigma aplicado</th>\n",
              "      <th>sigma 3</th>\n",
              "      <th>sigma maximo</th>\n",
              "      <th>factor de seguridad</th>\n",
              "    </tr>\n",
              "  </thead>\n",
              "  <tbody>\n",
              "    <tr>\n",
              "      <th>7</th>\n",
              "      <td>[(509.8859767648045, 1054.974992662914, 0.0, 0...</td>\n",
              "      <td>CMET</td>\n",
              "      <td>377.565490</td>\n",
              "      <td>599.99972</td>\n",
              "      <td>93.344262</td>\n",
              "      <td>1.589128</td>\n",
              "      <td>4.3</td>\n",
              "      <td>124</td>\n",
              "      <td>12.0</td>\n",
              "      <td>74</td>\n",
              "      <td>...</td>\n",
              "      <td>16.179484</td>\n",
              "      <td>3.762671</td>\n",
              "      <td>0.265769</td>\n",
              "      <td>4.741413</td>\n",
              "      <td>0.055638</td>\n",
              "      <td>0.500988</td>\n",
              "      <td>79.456377</td>\n",
              "      <td>22.841113</td>\n",
              "      <td>142.350553</td>\n",
              "      <td>1.791556</td>\n",
              "    </tr>\n",
              "    <tr>\n",
              "      <th>6</th>\n",
              "      <td>[(515.7068386864775, 1058.02599288885, 0.0, 0....</td>\n",
              "      <td>CMET</td>\n",
              "      <td>384.589463</td>\n",
              "      <td>599.99972</td>\n",
              "      <td>84.327467</td>\n",
              "      <td>1.560104</td>\n",
              "      <td>4.3</td>\n",
              "      <td>124</td>\n",
              "      <td>12.0</td>\n",
              "      <td>74</td>\n",
              "      <td>...</td>\n",
              "      <td>18.242666</td>\n",
              "      <td>4.242481</td>\n",
              "      <td>0.235711</td>\n",
              "      <td>4.741413</td>\n",
              "      <td>0.055638</td>\n",
              "      <td>0.500988</td>\n",
              "      <td>78.005221</td>\n",
              "      <td>24.547347</td>\n",
              "      <td>148.190244</td>\n",
              "      <td>1.899748</td>\n",
              "    </tr>\n",
              "    <tr>\n",
              "      <th>4</th>\n",
              "      <td>[(485.8802689305066, 1052.270056492004, 0.0, 0...</td>\n",
              "      <td>PDI</td>\n",
              "      <td>396.214405</td>\n",
              "      <td>599.99972</td>\n",
              "      <td>86.614391</td>\n",
              "      <td>1.514331</td>\n",
              "      <td>4.3</td>\n",
              "      <td>145</td>\n",
              "      <td>18.6</td>\n",
              "      <td>86</td>\n",
              "      <td>...</td>\n",
              "      <td>18.297856</td>\n",
              "      <td>4.255315</td>\n",
              "      <td>0.235000</td>\n",
              "      <td>11.281470</td>\n",
              "      <td>0.211072</td>\n",
              "      <td>0.500327</td>\n",
              "      <td>75.716545</td>\n",
              "      <td>23.880614</td>\n",
              "      <td>232.501618</td>\n",
              "      <td>3.070684</td>\n",
              "    </tr>\n",
              "    <tr>\n",
              "      <th>5</th>\n",
              "      <td>[(532.2373999999999, 1083.3211, 0.0, 0.0, 0.0)...</td>\n",
              "      <td>PDI</td>\n",
              "      <td>376.944562</td>\n",
              "      <td>599.99972</td>\n",
              "      <td>84.840034</td>\n",
              "      <td>1.591745</td>\n",
              "      <td>4.3</td>\n",
              "      <td>145</td>\n",
              "      <td>18.6</td>\n",
              "      <td>86</td>\n",
              "      <td>...</td>\n",
              "      <td>17.772014</td>\n",
              "      <td>4.133026</td>\n",
              "      <td>0.241953</td>\n",
              "      <td>11.281470</td>\n",
              "      <td>0.211072</td>\n",
              "      <td>0.500327</td>\n",
              "      <td>79.587263</td>\n",
              "      <td>24.562243</td>\n",
              "      <td>235.841701</td>\n",
              "      <td>2.963310</td>\n",
              "    </tr>\n",
              "  </tbody>\n",
              "</table>\n",
              "<p>4 rows × 23 columns</p>\n",
              "</div>\n",
              "      <button class=\"colab-df-convert\" onclick=\"convertToInteractive('df-0741a5a3-88e2-4557-8b16-d20e4434cc8f')\"\n",
              "              title=\"Convert this dataframe to an interactive table.\"\n",
              "              style=\"display:none;\">\n",
              "        \n",
              "  <svg xmlns=\"http://www.w3.org/2000/svg\" height=\"24px\"viewBox=\"0 0 24 24\"\n",
              "       width=\"24px\">\n",
              "    <path d=\"M0 0h24v24H0V0z\" fill=\"none\"/>\n",
              "    <path d=\"M18.56 5.44l.94 2.06.94-2.06 2.06-.94-2.06-.94-.94-2.06-.94 2.06-2.06.94zm-11 1L8.5 8.5l.94-2.06 2.06-.94-2.06-.94L8.5 2.5l-.94 2.06-2.06.94zm10 10l.94 2.06.94-2.06 2.06-.94-2.06-.94-.94-2.06-.94 2.06-2.06.94z\"/><path d=\"M17.41 7.96l-1.37-1.37c-.4-.4-.92-.59-1.43-.59-.52 0-1.04.2-1.43.59L10.3 9.45l-7.72 7.72c-.78.78-.78 2.05 0 2.83L4 21.41c.39.39.9.59 1.41.59.51 0 1.02-.2 1.41-.59l7.78-7.78 2.81-2.81c.8-.78.8-2.07 0-2.86zM5.41 20L4 18.59l7.72-7.72 1.47 1.35L5.41 20z\"/>\n",
              "  </svg>\n",
              "      </button>\n",
              "      \n",
              "  <style>\n",
              "    .colab-df-container {\n",
              "      display:flex;\n",
              "      flex-wrap:wrap;\n",
              "      gap: 12px;\n",
              "    }\n",
              "\n",
              "    .colab-df-convert {\n",
              "      background-color: #E8F0FE;\n",
              "      border: none;\n",
              "      border-radius: 50%;\n",
              "      cursor: pointer;\n",
              "      display: none;\n",
              "      fill: #1967D2;\n",
              "      height: 32px;\n",
              "      padding: 0 0 0 0;\n",
              "      width: 32px;\n",
              "    }\n",
              "\n",
              "    .colab-df-convert:hover {\n",
              "      background-color: #E2EBFA;\n",
              "      box-shadow: 0px 1px 2px rgba(60, 64, 67, 0.3), 0px 1px 3px 1px rgba(60, 64, 67, 0.15);\n",
              "      fill: #174EA6;\n",
              "    }\n",
              "\n",
              "    [theme=dark] .colab-df-convert {\n",
              "      background-color: #3B4455;\n",
              "      fill: #D2E3FC;\n",
              "    }\n",
              "\n",
              "    [theme=dark] .colab-df-convert:hover {\n",
              "      background-color: #434B5C;\n",
              "      box-shadow: 0px 1px 3px 1px rgba(0, 0, 0, 0.15);\n",
              "      filter: drop-shadow(0px 1px 2px rgba(0, 0, 0, 0.3));\n",
              "      fill: #FFFFFF;\n",
              "    }\n",
              "  </style>\n",
              "\n",
              "      <script>\n",
              "        const buttonEl =\n",
              "          document.querySelector('#df-0741a5a3-88e2-4557-8b16-d20e4434cc8f button.colab-df-convert');\n",
              "        buttonEl.style.display =\n",
              "          google.colab.kernel.accessAllowed ? 'block' : 'none';\n",
              "\n",
              "        async function convertToInteractive(key) {\n",
              "          const element = document.querySelector('#df-0741a5a3-88e2-4557-8b16-d20e4434cc8f');\n",
              "          const dataTable =\n",
              "            await google.colab.kernel.invokeFunction('convertToInteractive',\n",
              "                                                     [key], {});\n",
              "          if (!dataTable) return;\n",
              "\n",
              "          const docLinkHtml = 'Like what you see? Visit the ' +\n",
              "            '<a target=\"_blank\" href=https://colab.research.google.com/notebooks/data_table.ipynb>data table notebook</a>'\n",
              "            + ' to learn more about interactive tables.';\n",
              "          element.innerHTML = '';\n",
              "          dataTable['output_type'] = 'display_data';\n",
              "          await google.colab.output.renderOutput(dataTable, element);\n",
              "          const docLink = document.createElement('div');\n",
              "          docLink.innerHTML = docLinkHtml;\n",
              "          element.appendChild(docLink);\n",
              "        }\n",
              "      </script>\n",
              "    </div>\n",
              "  </div>\n",
              "  "
            ]
          },
          "metadata": {},
          "execution_count": 17
        }
      ]
    },
    {
      "cell_type": "markdown",
      "source": [
        "resultados_2 es un dataframe que contiene las 3 columnas mas importante donde se evaluara el tipo de pilar, sus coordenadas y el factor de seguridad"
      ],
      "metadata": {
        "id": "qTTAMz_nYR9y"
      }
    },
    {
      "cell_type": "code",
      "source": [
        "resultados_2 = resultados[[\"pilar\", \"tipo de pilar\", \"factor de seguridad\"]]"
      ],
      "metadata": {
        "id": "OIQSBDRbc5Ec"
      },
      "execution_count": 18,
      "outputs": []
    },
    {
      "cell_type": "code",
      "source": [
        "resultados_2"
      ],
      "metadata": {
        "colab": {
          "base_uri": "https://localhost:8080/",
          "height": 175
        },
        "id": "0NXygQiXc5Bu",
        "outputId": "ae3017fd-3c52-4fde-e33b-9fcf81ca3f22"
      },
      "execution_count": 19,
      "outputs": [
        {
          "output_type": "execute_result",
          "data": {
            "text/plain": [
              "                                               pilar tipo de pilar  \\\n",
              "7  [(509.8859767648045, 1054.974992662914, 0.0, 0...          CMET   \n",
              "6  [(515.7068386864775, 1058.02599288885, 0.0, 0....          CMET   \n",
              "4  [(485.8802689305066, 1052.270056492004, 0.0, 0...           PDI   \n",
              "5  [(532.2373999999999, 1083.3211, 0.0, 0.0, 0.0)...           PDI   \n",
              "\n",
              "   factor de seguridad  \n",
              "7             1.791556  \n",
              "6             1.899748  \n",
              "4             3.070684  \n",
              "5             2.963310  "
            ],
            "text/html": [
              "\n",
              "  <div id=\"df-d1c8ceff-6d46-4811-b533-824c542e2e10\">\n",
              "    <div class=\"colab-df-container\">\n",
              "      <div>\n",
              "<style scoped>\n",
              "    .dataframe tbody tr th:only-of-type {\n",
              "        vertical-align: middle;\n",
              "    }\n",
              "\n",
              "    .dataframe tbody tr th {\n",
              "        vertical-align: top;\n",
              "    }\n",
              "\n",
              "    .dataframe thead th {\n",
              "        text-align: right;\n",
              "    }\n",
              "</style>\n",
              "<table border=\"1\" class=\"dataframe\">\n",
              "  <thead>\n",
              "    <tr style=\"text-align: right;\">\n",
              "      <th></th>\n",
              "      <th>pilar</th>\n",
              "      <th>tipo de pilar</th>\n",
              "      <th>factor de seguridad</th>\n",
              "    </tr>\n",
              "  </thead>\n",
              "  <tbody>\n",
              "    <tr>\n",
              "      <th>7</th>\n",
              "      <td>[(509.8859767648045, 1054.974992662914, 0.0, 0...</td>\n",
              "      <td>CMET</td>\n",
              "      <td>1.791556</td>\n",
              "    </tr>\n",
              "    <tr>\n",
              "      <th>6</th>\n",
              "      <td>[(515.7068386864775, 1058.02599288885, 0.0, 0....</td>\n",
              "      <td>CMET</td>\n",
              "      <td>1.899748</td>\n",
              "    </tr>\n",
              "    <tr>\n",
              "      <th>4</th>\n",
              "      <td>[(485.8802689305066, 1052.270056492004, 0.0, 0...</td>\n",
              "      <td>PDI</td>\n",
              "      <td>3.070684</td>\n",
              "    </tr>\n",
              "    <tr>\n",
              "      <th>5</th>\n",
              "      <td>[(532.2373999999999, 1083.3211, 0.0, 0.0, 0.0)...</td>\n",
              "      <td>PDI</td>\n",
              "      <td>2.963310</td>\n",
              "    </tr>\n",
              "  </tbody>\n",
              "</table>\n",
              "</div>\n",
              "      <button class=\"colab-df-convert\" onclick=\"convertToInteractive('df-d1c8ceff-6d46-4811-b533-824c542e2e10')\"\n",
              "              title=\"Convert this dataframe to an interactive table.\"\n",
              "              style=\"display:none;\">\n",
              "        \n",
              "  <svg xmlns=\"http://www.w3.org/2000/svg\" height=\"24px\"viewBox=\"0 0 24 24\"\n",
              "       width=\"24px\">\n",
              "    <path d=\"M0 0h24v24H0V0z\" fill=\"none\"/>\n",
              "    <path d=\"M18.56 5.44l.94 2.06.94-2.06 2.06-.94-2.06-.94-.94-2.06-.94 2.06-2.06.94zm-11 1L8.5 8.5l.94-2.06 2.06-.94-2.06-.94L8.5 2.5l-.94 2.06-2.06.94zm10 10l.94 2.06.94-2.06 2.06-.94-2.06-.94-.94-2.06-.94 2.06-2.06.94z\"/><path d=\"M17.41 7.96l-1.37-1.37c-.4-.4-.92-.59-1.43-.59-.52 0-1.04.2-1.43.59L10.3 9.45l-7.72 7.72c-.78.78-.78 2.05 0 2.83L4 21.41c.39.39.9.59 1.41.59.51 0 1.02-.2 1.41-.59l7.78-7.78 2.81-2.81c.8-.78.8-2.07 0-2.86zM5.41 20L4 18.59l7.72-7.72 1.47 1.35L5.41 20z\"/>\n",
              "  </svg>\n",
              "      </button>\n",
              "      \n",
              "  <style>\n",
              "    .colab-df-container {\n",
              "      display:flex;\n",
              "      flex-wrap:wrap;\n",
              "      gap: 12px;\n",
              "    }\n",
              "\n",
              "    .colab-df-convert {\n",
              "      background-color: #E8F0FE;\n",
              "      border: none;\n",
              "      border-radius: 50%;\n",
              "      cursor: pointer;\n",
              "      display: none;\n",
              "      fill: #1967D2;\n",
              "      height: 32px;\n",
              "      padding: 0 0 0 0;\n",
              "      width: 32px;\n",
              "    }\n",
              "\n",
              "    .colab-df-convert:hover {\n",
              "      background-color: #E2EBFA;\n",
              "      box-shadow: 0px 1px 2px rgba(60, 64, 67, 0.3), 0px 1px 3px 1px rgba(60, 64, 67, 0.15);\n",
              "      fill: #174EA6;\n",
              "    }\n",
              "\n",
              "    [theme=dark] .colab-df-convert {\n",
              "      background-color: #3B4455;\n",
              "      fill: #D2E3FC;\n",
              "    }\n",
              "\n",
              "    [theme=dark] .colab-df-convert:hover {\n",
              "      background-color: #434B5C;\n",
              "      box-shadow: 0px 1px 3px 1px rgba(0, 0, 0, 0.15);\n",
              "      filter: drop-shadow(0px 1px 2px rgba(0, 0, 0, 0.3));\n",
              "      fill: #FFFFFF;\n",
              "    }\n",
              "  </style>\n",
              "\n",
              "      <script>\n",
              "        const buttonEl =\n",
              "          document.querySelector('#df-d1c8ceff-6d46-4811-b533-824c542e2e10 button.colab-df-convert');\n",
              "        buttonEl.style.display =\n",
              "          google.colab.kernel.accessAllowed ? 'block' : 'none';\n",
              "\n",
              "        async function convertToInteractive(key) {\n",
              "          const element = document.querySelector('#df-d1c8ceff-6d46-4811-b533-824c542e2e10');\n",
              "          const dataTable =\n",
              "            await google.colab.kernel.invokeFunction('convertToInteractive',\n",
              "                                                     [key], {});\n",
              "          if (!dataTable) return;\n",
              "\n",
              "          const docLinkHtml = 'Like what you see? Visit the ' +\n",
              "            '<a target=\"_blank\" href=https://colab.research.google.com/notebooks/data_table.ipynb>data table notebook</a>'\n",
              "            + ' to learn more about interactive tables.';\n",
              "          element.innerHTML = '';\n",
              "          dataTable['output_type'] = 'display_data';\n",
              "          await google.colab.output.renderOutput(dataTable, element);\n",
              "          const docLink = document.createElement('div');\n",
              "          docLink.innerHTML = docLinkHtml;\n",
              "          element.appendChild(docLink);\n",
              "        }\n",
              "      </script>\n",
              "    </div>\n",
              "  </div>\n",
              "  "
            ]
          },
          "metadata": {},
          "execution_count": 19
        }
      ]
    },
    {
      "cell_type": "code",
      "source": [
        "resultados_2.to_excel(\"resultados_2.xlsx\")"
      ],
      "metadata": {
        "id": "ENsiJ3vsbQFn"
      },
      "execution_count": 20,
      "outputs": []
    },
    {
      "cell_type": "markdown",
      "source": [
        "##proceso de creacion del CAD"
      ],
      "metadata": {
        "id": "eAs6z10hY1GB"
      }
    },
    {
      "cell_type": "code",
      "source": [
        "###### Creacion del codigo para las coordenadas de cada polilinea ######\n",
        "#####################################################\n",
        "#####################################################\n",
        "\n",
        "i = 0\n",
        "polilineas = []\n",
        "centroides = []\n",
        "while i < len(resultados_2):\n",
        "  lista_x = []\n",
        "  lista_y = []\n",
        "#  lista_centroides = []\n",
        "  largo = len(resultados_2.iloc[i, 0])\n",
        "  z = 0\n",
        "  while z < largo: \n",
        "    lista_x.append(resultados_2.iloc[i, 0][z][0]) ### apendiza a la lista la coor X\n",
        "    lista_y.append(resultados_2.iloc[i, 0][z][1]) ### apendiza a la lista la coor Y \n",
        "\n",
        "    z = z + 1\n",
        "  lista_zip = list(zip(lista_x, lista_y))\n",
        "  print(\"la lista zip es:\")\n",
        "  print(lista_zip)\n",
        "  polilineas.append(lista_zip)\n",
        "  p = Polygon(lista_zip)\n",
        "  centroide = p.centroid\n",
        "  centroides.append(centroide)\n",
        "  i = i + 1\n"
      ],
      "metadata": {
        "id": "Xdv0063QY0VD",
        "colab": {
          "base_uri": "https://localhost:8080/"
        },
        "outputId": "c03c3b57-e42d-440a-fa90-73e534ef1951"
      },
      "execution_count": 21,
      "outputs": [
        {
          "output_type": "stream",
          "name": "stdout",
          "text": [
            "la lista zip es:\n",
            "[(509.8859767648045, 1054.974992662914), (511.6852814580442, 1054.492870423423), (514.3077310512662, 1044.706767791123), (514.2811999999999, 1044.6241), (514.3128000000002, 1043.5321), (514.8180000000002, 1041.6509), (515.2995, 1040.2495), (515.0469, 1039.896), (514.6442000000002, 1039.6444), (513.2782000000002, 1039.541), (511.9540999999999, 1038.4999), (510.8260999999999, 1037.0005), (509.5813, 1036.1433), (508.9153000000001, 1034.9556), (507.9313999999999, 1033.8982), (495.0768858270658, 1021.383262555414), (494.0856738354364, 1021.648857008099), (493.1541652385815, 1025.125245085296), (496.2563389723682, 1025.956470032046), (495.324590409999, 1029.433803006686), (492.2224043393835, 1028.602574754293), (491.0568679577127, 1032.952354020378), (492.2257810052287, 1037.314796903339)]\n",
            "la lista zip es:\n",
            "[(515.7068386864775, 1058.02599288885), (516.7206784320869, 1061.809694330196), (535.2294023290851, 1080.318418227193), (536.2113040078156, 1080.055318465331), (536.7024000000001, 1078.8607), (537.1743000000001, 1077.0537), (537.8274000000001, 1074.7102), (538.3431, 1072.7783), (538.9502999999999, 1070.6045), (539.4092, 1069.0802), (539.2253000000001, 1067.1167), (539.0281402419023, 1066.2653), (539.0248000000001, 1066.265935413193), (538.5507999999999, 1064.8021), (537.2085999999999, 1063.0512), (536.5601000000001, 1062.4271), (535.7397999999998, 1061.617), (535.1608999999999, 1061.0521), (534.5978999999999, 1060.4953), (534.0286999999998, 1059.9302), (533.7825, 1059.7139), (520.9953, 1048.070599999999), (520.2557, 1047.5162), (519.3251, 1047.6409), (518.8461000000001, 1048.3149), (518.2663999999999, 1048.6174), (518.2170547736077, 1048.657739088993), (515.7068388677139, 1058.025993565233)]\n",
            "la lista zip es:\n",
            "[(485.8802689305066, 1052.270056492004), (488.8954440982407, 1041.017269572302), (489.8690903433675, 1040.756381847207), (508.3778142403666, 1059.265105744206), (509.3920709312401, 1063.050363246462), (508.2735, 1069.8973), (507.9054000000001, 1071.2691), (507.6964, 1072.0144), (507.5529000000001, 1072.5561), (507.4142999999999, 1073.0644), (507.2721000000001, 1073.5812), (506.5563999999999, 1074.2397), (505.7716, 1074.7015), (505.5544999999999, 1074.8902), (504.6570999999999, 1075.0809), (487.0494001031775, 1056.633313429124)]\n",
            "la lista zip es:\n",
            "[(532.2373999999999, 1083.3211), (532.3510000000001, 1083.5744), (532.6273000000001, 1084.2604), (532.5810000000001, 1085.48), (532.8787, 1086.0012), (533.2899999999998, 1086.9468), (533.7640999999998, 1088.0251), (534.0152999999999, 1088.6515), (533.9630999999999, 1088.9955), (533.5073999999998, 1090.032), (533.0570999999999, 1091.3037), (533.0054, 1091.626), (532.711, 1092.5313), (532.5102000000002, 1093.2808), (532.3393999999998, 1093.8097), (532.0988999999998, 1094.4675), (531.5113000000001, 1097.168), (531.3297, 1098.8932), (530.9339, 1099.3648), (530.1876, 1099.4893), (529.8950768252093, 1099.478990151155), (514.0562999999997, 1083.5414), (513.4294999999997, 1082.8826), (512.5311999999999, 1081.9673), (512.0324, 1081.0306), (511.5889999999999, 1080.2521), (511.1333, 1078.6348), (511.0495000000001, 1078.3995), (510.9422999999999, 1077.2384), (510.8439, 1076.4635), (511.2898999999997, 1074.8425), (511.4117000000001, 1074.3756), (511.4195999999997, 1074.3526), (511.6267, 1073.5796), (512.0795, 1071.8365), (512.2734, 1071.0672), (513.4143651924705, 1066.58162044349), (515.212515907649, 1066.099807411488), (530.4715, 1081.1599), (530.5504, 1081.3575), (531.5362, 1082.6358)]\n"
          ]
        }
      ]
    },
    {
      "cell_type": "markdown",
      "source": [
        "Estandarización de los valores del factor de seguridad para poder crear la escalas de colores para la visualización de cada pilar en el archivo CAD"
      ],
      "metadata": {
        "id": "8G174Nl3ZO18"
      }
    },
    {
      "cell_type": "code",
      "source": [
        "fs = resultados_2[\"factor de seguridad\"].values\n",
        "\n",
        "from sklearn.preprocessing import MinMaxScaler\n",
        "scaler = MinMaxScaler(feature_range= (10,170)) ### valores importantes para el escalado de la variable FS\n",
        "\n",
        "trans_fs = scaler.fit_transform(fs.reshape(-1, 1))\n",
        "\n",
        "trans_fs_round = trans_fs.round(-1)"
      ],
      "metadata": {
        "id": "4ImBIZl5aSBp"
      },
      "execution_count": 22,
      "outputs": []
    },
    {
      "cell_type": "code",
      "source": [
        "trans_fs_round"
      ],
      "metadata": {
        "id": "PVKiM1ARaTy5",
        "colab": {
          "base_uri": "https://localhost:8080/"
        },
        "outputId": "cf7c0cac-9fa2-42f7-fadc-b67c72c84b6b"
      },
      "execution_count": 24,
      "outputs": [
        {
          "output_type": "execute_result",
          "data": {
            "text/plain": [
              "array([[ 10.],\n",
              "       [ 20.],\n",
              "       [170.],\n",
              "       [160.]])"
            ]
          },
          "metadata": {},
          "execution_count": 24
        }
      ]
    },
    {
      "cell_type": "markdown",
      "source": [
        "##con escala de color segun la configuracion ACI"
      ],
      "metadata": {
        "id": "-70D8r9PJHLw"
      }
    },
    {
      "cell_type": "code",
      "source": [
        "\n",
        "\n",
        "###### Creacion del AUTOCAD #######\n",
        "#########################################################################################\n",
        "#########################################################################################\n",
        "from ezdxf.enums import TextEntityAlignment\n",
        "doc = ezdxf.new(\"R2018\", setup = True)\n",
        "msp = doc.modelspace()\n",
        "i = 0\n",
        "while i < len(resultados_2[\"pilar\"]):\n",
        "  hatch = msp.add_hatch(color= float(trans_fs_round[i]), ) ### AJUSTAR LOS COLORES\n",
        "#  hatch.set_pattern_fill(\"ANSI31\", scale=0.5, color = float(trans_fs_round[i])) ### AJUSTAR LOS COLORES\n",
        "  a = resultados_2.iloc[i, 0] ## busqueda de la linea \n",
        "  b = resultados_2.iloc[i, 1] ## busqueda de la capa \n",
        "  c = resultados_2.iloc[i, 2] ## valor del FS\n",
        "  d = centroides[i]  ### valor de los centroides\n",
        "  msp.add_lwpolyline(a, close = True, dxfattribs= {\"layer\": str(b)})\n",
        "  msp.add_text((\"FS :\", str(c.round(3))), height= 1, dxfattribs={\"style\": \"LiberationSerif\"}\n",
        "               ).set_placement((d.x , d.y), align=TextEntityAlignment.LEFT)\n",
        "  hatch.paths.add_polyline_path(polilineas[i], is_closed=True)\n",
        "  i = i + 1\n",
        "\n",
        "doc.saveas(\"AUTOCAD DE SALIDA 3.dxf\")\n",
        "\n"
      ],
      "metadata": {
        "id": "4yhz_jKKY0Pl"
      },
      "execution_count": 26,
      "outputs": []
    },
    {
      "cell_type": "markdown",
      "source": [
        "##con escala rgb"
      ],
      "metadata": {
        "id": "lYzhF2oDds6y"
      }
    },
    {
      "cell_type": "code",
      "source": [
        "fs = resultados_2[\"factor de seguridad\"].values\n",
        "\n",
        "from sklearn.preprocessing import MinMaxScaler\n",
        "scaler = MinMaxScaler(feature_range= (0, 252)) ### valores importantes para el escalado de la variable FS\n",
        "\n",
        "trans_fs = scaler.fit_transform(fs.reshape(-1, 1))\n",
        "\n",
        "trans_fs_round = trans_fs.round(0)"
      ],
      "metadata": {
        "id": "E_s4flWKJiQr"
      },
      "execution_count": 24,
      "outputs": []
    },
    {
      "cell_type": "code",
      "source": [
        "trans_fs_round"
      ],
      "metadata": {
        "colab": {
          "base_uri": "https://localhost:8080/"
        },
        "id": "AsuoJIykKlUt",
        "outputId": "2c4e85b7-a757-467f-d1d2-760c2740c14d"
      },
      "execution_count": 25,
      "outputs": [
        {
          "output_type": "execute_result",
          "data": {
            "text/plain": [
              "array([[  0.],\n",
              "       [ 21.],\n",
              "       [252.],\n",
              "       [231.]])"
            ]
          },
          "metadata": {},
          "execution_count": 25
        }
      ]
    },
    {
      "cell_type": "code",
      "source": [
        "trans_fs_round[0]"
      ],
      "metadata": {
        "colab": {
          "base_uri": "https://localhost:8080/"
        },
        "id": "Ip9JxjJ2JlmQ",
        "outputId": "02d12929-d965-44ad-944f-8d9f48816920"
      },
      "execution_count": 26,
      "outputs": [
        {
          "output_type": "execute_result",
          "data": {
            "text/plain": [
              "array([0.])"
            ]
          },
          "metadata": {},
          "execution_count": 26
        }
      ]
    },
    {
      "cell_type": "code",
      "source": [
        "hatch = msp.add_hatch(color = 2)"
      ],
      "metadata": {
        "id": "Q7ytLY5hgsWq"
      },
      "execution_count": 53,
      "outputs": []
    },
    {
      "cell_type": "code",
      "source": [
        "hatch.set_dxf_attrib(\"color\", 1)"
      ],
      "metadata": {
        "id": "6CCt3j5jg45A"
      },
      "execution_count": 38,
      "outputs": []
    },
    {
      "cell_type": "code",
      "source": [],
      "metadata": {
        "id": "YG0E7D4Xhb23"
      },
      "execution_count": null,
      "outputs": []
    },
    {
      "cell_type": "code",
      "source": [
        "###### Creacion del AUTOCAD #######\n",
        "#########################################################################################\n",
        "#########################################################################################\n",
        "from ezdxf.enums import TextEntityAlignment\n",
        "doc = ezdxf.new(\"R2018\", setup = True)\n",
        "msp = doc.modelspace()\n",
        "i = 0\n",
        "while i < len(resultados_2[\"pilar\"]):\n",
        "  c = ezdxf.colors.rgb2int((255, int(trans_fs[i]), 0))\n",
        "  hatch = msp.add_hatch(color= c ) ### AJUSTAR LOS COLORES\n",
        "#  hatch.set_pattern_fill(\"ANSI31\", scale=0.5, color = float(trans_fs_round[i])) ### AJUSTAR LOS COLORES\n",
        "  a = resultados_2.iloc[i, 0] ## busqueda de la linea \n",
        "  b = resultados_2.iloc[i, 1] ## busqueda de la capa \n",
        "  c = resultados_2.iloc[i, 2] ## valor del FS\n",
        "  d = centroides[i]  ### valor de los centroides\n",
        "  msp.add_lwpolyline(a, close = True, dxfattribs= {\"layer\": str(b)})\n",
        "  msp.add_text((\"FS :\", str(c.round(3))), height= 1.5, dxfattribs={\"style\": \"LiberationSerif\"}\n",
        "               ).set_placement((d.x , d.y), align=TextEntityAlignment.LEFT)\n",
        "  hatch.paths.add_polyline_path(polilineas[i], is_closed=True)\n",
        "  i = i + 1\n",
        "doc.saveas(\"beto 3.dxf\")"
      ],
      "metadata": {
        "id": "ZhmasyIBefy6"
      },
      "execution_count": 43,
      "outputs": []
    },
    {
      "cell_type": "markdown",
      "source": [
        "escala rgb"
      ],
      "metadata": {
        "id": "9yjOtehaCW9h"
      }
    },
    {
      "cell_type": "code",
      "source": [
        "###### Creacion del AUTOCAD #######\n",
        "#########################################################################################\n",
        "#########################################################################################\n",
        "from ezdxf.enums import TextEntityAlignment\n",
        "doc = ezdxf.new(\"R2018\", setup = True)\n",
        "msp = doc.modelspace()\n",
        "i = 0\n",
        "while i < len(resultados_2[\"pilar\"]):\n",
        "  c = ezdxf.colors.rgb2int((255, int(trans_fs[i]), 0))\n",
        "  hatch = msp.add_hatch() ### AJUSTAR LOS COLORES\n",
        "  dd = int(trans_fs_round[i])\n",
        "  hatch.rgb = (219, dd, 70)\n",
        "#  hatch.set_pattern_fill(\"ANSI31\", scale=0.5, color = float(trans_fs_round[i])) ### AJUSTAR LOS COLORES\n",
        "  a = resultados_2.iloc[i, 0] ## busqueda de la linea \n",
        "  b = resultados_2.iloc[i, 1] ## busqueda de la capa \n",
        "  c = resultados_2.iloc[i, 2] ## valor del FS\n",
        "  d = centroides[i]  ### valor de los centroides\n",
        "  msp.add_lwpolyline(a, close = True, dxfattribs= {\"layer\": str(b)})\n",
        "  msp.add_text((\"FS :\", str(c.round(3))), height= 1.5, dxfattribs={\"style\": \"LiberationSerif\", \"color\": 182}\n",
        "               ).set_placement((d.x , d.y), align=TextEntityAlignment.LEFT)\n",
        "  hatch.paths.add_polyline_path(polilineas[i], is_closed=True)\n",
        "  i = i + 1\n",
        "doc.saveas(\"toty 3.dxf\")"
      ],
      "metadata": {
        "id": "441l8NvoLHyU"
      },
      "execution_count": 28,
      "outputs": []
    },
    {
      "cell_type": "markdown",
      "source": [
        "#:s **Programa de salida definitivo **"
      ],
      "metadata": {
        "id": "aqbzi1Um2xXr"
      }
    },
    {
      "cell_type": "markdown",
      "source": [
        "## escala hsl a rbg"
      ],
      "metadata": {
        "id": "9mKrxNpVCaZA"
      }
    },
    {
      "cell_type": "code",
      "source": [
        "fs = resultados_2[\"factor de seguridad\"].values"
      ],
      "metadata": {
        "id": "4h7HN904XMAq"
      },
      "execution_count": 132,
      "outputs": []
    },
    {
      "cell_type": "code",
      "source": [
        "fs"
      ],
      "metadata": {
        "colab": {
          "base_uri": "https://localhost:8080/"
        },
        "id": "b-duSF88XOAJ",
        "outputId": "a197741e-9ce8-406d-d1f1-e75ae84f9886"
      },
      "execution_count": 133,
      "outputs": [
        {
          "output_type": "execute_result",
          "data": {
            "text/plain": [
              "array([1.79155604, 1.89974777, 3.07068444, 2.96330961])"
            ]
          },
          "metadata": {},
          "execution_count": 133
        }
      ]
    },
    {
      "cell_type": "code",
      "source": [
        "fs.max()"
      ],
      "metadata": {
        "colab": {
          "base_uri": "https://localhost:8080/"
        },
        "id": "hZ0g7UMhXc7A",
        "outputId": "6b25de06-89ac-40ce-c9a0-3ee64a62b4e1"
      },
      "execution_count": 134,
      "outputs": [
        {
          "output_type": "execute_result",
          "data": {
            "text/plain": [
              "3.0706844422941146"
            ]
          },
          "metadata": {},
          "execution_count": 134
        }
      ]
    },
    {
      "cell_type": "markdown",
      "source": [
        "creacion de la nueva escala usando sklearn para la regresion lineal con una escala del fs entre 0 (color rojo) y el maximo valor del fs (azul) pasando por el color moradito"
      ],
      "metadata": {
        "id": "5F8k0SnV0PCb"
      }
    },
    {
      "cell_type": "code",
      "source": [
        "escala_real_fs = np.array([0, fs.max()])"
      ],
      "metadata": {
        "id": "O5VNhvhCXSMp"
      },
      "execution_count": 136,
      "outputs": []
    },
    {
      "cell_type": "code",
      "source": [
        "### modelo de regresion lineal para que el color azul sea el fs mas alto y el rojo el fs mas bajo\n",
        "\n",
        "from sklearn.linear_model import LinearRegression\n",
        "X = escala_real_fs\n",
        "Y = np.array([355, 240])\n",
        "modelo = LinearRegression()\n",
        "modelo.fit(X = X.reshape(-1, 1), y = Y)\n",
        "\n"
      ],
      "metadata": {
        "colab": {
          "base_uri": "https://localhost:8080/"
        },
        "id": "nz_7OhrYxiTO",
        "outputId": "fe39cc3d-5582-4b77-f81b-d7a028aa27d4"
      },
      "execution_count": 141,
      "outputs": [
        {
          "output_type": "execute_result",
          "data": {
            "text/plain": [
              "LinearRegression()"
            ]
          },
          "metadata": {},
          "execution_count": 141
        }
      ]
    },
    {
      "cell_type": "code",
      "source": [
        "modelo.predict(fs[0].reshape(-1, 1))"
      ],
      "metadata": {
        "colab": {
          "base_uri": "https://localhost:8080/"
        },
        "id": "Sb7xB5Q8zWx1",
        "outputId": "569ed64a-9c49-4f69-f96a-2c41ba2ddca2"
      },
      "execution_count": 155,
      "outputs": [
        {
          "output_type": "execute_result",
          "data": {
            "text/plain": [
              "array([287.90455308])"
            ]
          },
          "metadata": {},
          "execution_count": 155
        }
      ]
    },
    {
      "cell_type": "code",
      "source": [
        "valor = np.array([3.0706844422941146])\n",
        "resultado = modelo.predict(valor.reshape(-1, 1))\n",
        "entero_resultado = int(resultado.round(0))\n",
        "print(entero_resultado)\n",
        "\n"
      ],
      "metadata": {
        "colab": {
          "base_uri": "https://localhost:8080/"
        },
        "id": "qPDfoTU3yR43",
        "outputId": "3d9d75b7-1dbe-496d-a06e-1440f4f0ad69"
      },
      "execution_count": 151,
      "outputs": [
        {
          "output_type": "stream",
          "name": "stdout",
          "text": [
            "240\n"
          ]
        }
      ]
    },
    {
      "cell_type": "code",
      "source": [
        "escala_real_fs"
      ],
      "metadata": {
        "colab": {
          "base_uri": "https://localhost:8080/"
        },
        "id": "bAkoNMSiXg_v",
        "outputId": "d7709bcf-3b7d-40b8-a4f4-f5efaf422ede"
      },
      "execution_count": 131,
      "outputs": [
        {
          "output_type": "execute_result",
          "data": {
            "text/plain": [
              "array([0.        , 3.07068444])"
            ]
          },
          "metadata": {},
          "execution_count": 131
        }
      ]
    },
    {
      "cell_type": "code",
      "source": [],
      "metadata": {
        "id": "yy_VEymYnETk"
      },
      "execution_count": null,
      "outputs": []
    },
    {
      "cell_type": "code",
      "source": [
        "fs = resultados_2[\"factor de seguridad\"].values\n",
        "\n",
        "from sklearn.preprocessing import MinMaxScaler\n",
        "scaler = MinMaxScaler(feature_range= (240, 359)) ### valores importantes para el escalado de la variable FS\n",
        "\n",
        "trans_fs = scaler.fit_transform(escala_real_fs.reshape(-1, 1))\n",
        "\n",
        "trans_fs_real = scaler.transform(fs.reshape(-1, 1))\n"
      ],
      "metadata": {
        "id": "PLGLmH5gCniS"
      },
      "execution_count": 125,
      "outputs": []
    },
    {
      "cell_type": "code",
      "source": [],
      "metadata": {
        "id": "DNtqT39MX9JQ"
      },
      "execution_count": null,
      "outputs": []
    },
    {
      "cell_type": "code",
      "source": [
        "trans_fs_real_round = trans_fs_real.round(0)"
      ],
      "metadata": {
        "id": "cj65iragXxxw"
      },
      "execution_count": 121,
      "outputs": []
    },
    {
      "cell_type": "code",
      "source": [
        "trans_fs_real_round"
      ],
      "metadata": {
        "colab": {
          "base_uri": "https://localhost:8080/"
        },
        "id": "hP4k24TwYbQc",
        "outputId": "911b7db3-a813-451c-b80b-828bb3a72916"
      },
      "execution_count": 122,
      "outputs": [
        {
          "output_type": "execute_result",
          "data": {
            "text/plain": [
              "array([[309.],\n",
              "       [314.],\n",
              "       [359.],\n",
              "       [355.]])"
            ]
          },
          "metadata": {},
          "execution_count": 122
        }
      ]
    },
    {
      "cell_type": "code",
      "source": [],
      "metadata": {
        "id": "J_uD-gsWXFHx"
      },
      "execution_count": null,
      "outputs": []
    },
    {
      "cell_type": "code",
      "source": [
        "trans_fs_real_round"
      ],
      "metadata": {
        "colab": {
          "base_uri": "https://localhost:8080/"
        },
        "id": "Qd9F1UX8Cphw",
        "outputId": "c977ac1d-b92d-4b62-8551-b39d6cf6e18a"
      },
      "execution_count": 116,
      "outputs": [
        {
          "output_type": "execute_result",
          "data": {
            "text/plain": [
              "array([[309.],\n",
              "       [314.],\n",
              "       [359.],\n",
              "       [355.]])"
            ]
          },
          "metadata": {},
          "execution_count": 116
        }
      ]
    },
    {
      "cell_type": "code",
      "source": [
        "### el L se divide entre 100\n",
        "### el S se divide entre 100\n",
        "### el H se divide entre 359"
      ],
      "metadata": {
        "id": "QFyHS8WRI7GU"
      },
      "execution_count": null,
      "outputs": []
    },
    {
      "cell_type": "code",
      "source": [
        "h = 126/359\n",
        "l = 50/100\n",
        "s = 100/100\n",
        "rgb = colorsys.hls_to_rgb(h, l, s)"
      ],
      "metadata": {
        "id": "1_0uM6OmJstp"
      },
      "execution_count": 58,
      "outputs": []
    },
    {
      "cell_type": "code",
      "source": [
        "r = rgb[0]*255\n",
        "g = rgb[1]*255\n",
        "b = rgb[2]*255\n",
        "r = int(round(r, 0))\n",
        "g = int(round(g, 0))\n",
        "b = int(round(b, 0))"
      ],
      "metadata": {
        "id": "bqWQBOc7KBG8"
      },
      "execution_count": 68,
      "outputs": []
    },
    {
      "cell_type": "code",
      "source": [
        "r, g, b"
      ],
      "metadata": {
        "colab": {
          "base_uri": "https://localhost:8080/"
        },
        "id": "CxP09TO-K38I",
        "outputId": "b09e388f-c62a-4dff-e692-b530125a9435"
      },
      "execution_count": 69,
      "outputs": [
        {
          "output_type": "execute_result",
          "data": {
            "text/plain": [
              "(0, 255, 27)"
            ]
          },
          "metadata": {},
          "execution_count": 69
        }
      ]
    },
    {
      "cell_type": "code",
      "source": [
        "r,g,b"
      ],
      "metadata": {
        "colab": {
          "base_uri": "https://localhost:8080/"
        },
        "id": "YfWZbRhwKjx0",
        "outputId": "933b4a15-5979-4b22-fd77-1d880f3c6367"
      },
      "execution_count": 61,
      "outputs": [
        {
          "output_type": "execute_result",
          "data": {
            "text/plain": [
              "(0.0, 255.0, 26.991643454038986)"
            ]
          },
          "metadata": {},
          "execution_count": 61
        }
      ]
    },
    {
      "cell_type": "code",
      "source": [
        "0.1058495821727019*255"
      ],
      "metadata": {
        "colab": {
          "base_uri": "https://localhost:8080/"
        },
        "id": "iG5Njsq8KHPH",
        "outputId": "e62103ab-959c-49b5-cdfa-955635c50844"
      },
      "execution_count": 56,
      "outputs": [
        {
          "output_type": "execute_result",
          "data": {
            "text/plain": [
              "26.991643454038986"
            ]
          },
          "metadata": {},
          "execution_count": 56
        }
      ]
    },
    {
      "cell_type": "code",
      "source": [
        "126/0.3509803921568628"
      ],
      "metadata": {
        "colab": {
          "base_uri": "https://localhost:8080/"
        },
        "id": "vTpGgip7JgCI",
        "outputId": "72762cf1-c6e6-43f8-952e-2db6e5fba213"
      },
      "execution_count": 51,
      "outputs": [
        {
          "output_type": "execute_result",
          "data": {
            "text/plain": [
              "358.9944134078212"
            ]
          },
          "metadata": {},
          "execution_count": 51
        }
      ]
    },
    {
      "cell_type": "code",
      "source": [
        "colorsys.hls_to_rgb(275/359, 50/50, 100/100)"
      ],
      "metadata": {
        "colab": {
          "base_uri": "https://localhost:8080/"
        },
        "id": "HFmhXh9PFkiI",
        "outputId": "6f28111a-ab1b-457a-80db-33ae45b8f34f"
      },
      "execution_count": 48,
      "outputs": [
        {
          "output_type": "execute_result",
          "data": {
            "text/plain": [
              "(1.0, 1.0, 1.0)"
            ]
          },
          "metadata": {},
          "execution_count": 48
        }
      ]
    },
    {
      "cell_type": "code",
      "source": [],
      "metadata": {
        "id": "ZQoSrSCfGDp4"
      },
      "execution_count": null,
      "outputs": []
    },
    {
      "cell_type": "markdown",
      "source": [
        "### HLS A RGB "
      ],
      "metadata": {
        "id": "BDJJBYkxMeCE"
      }
    },
    {
      "cell_type": "code",
      "source": [
        "###### Creacion del AUTOCAD #######\n",
        "#########################################################################################\n",
        "#########################################################################################\n",
        "from ezdxf.enums import TextEntityAlignment\n",
        "import colorsys\n",
        "\n",
        "\n",
        "\n",
        "doc = ezdxf.new(\"R2018\", setup = True)\n",
        "msp = doc.modelspace()\n",
        "i = 0\n",
        "while i < len(resultados_2[\"pilar\"]):\n",
        "  c = ezdxf.colors.rgb2int((255, int(trans_fs_round[i]), 0))\n",
        "  hatch = msp.add_hatch() ### AJUSTAR LOS COLORES\n",
        "  #### escalado de la variable fs a hls (H)\n",
        "  resultado = modelo.predict(fs[i].reshape(-1, 1))\n",
        "  dd = int(resultado.round(0))\n",
        "  #### colores #####\n",
        "#  dd = int(trans_fs_round[i])\n",
        "  h = dd/359\n",
        "  l = 50/100\n",
        "  s = 100/100\n",
        "  rgb = colorsys.hls_to_rgb(h, l, s)\n",
        "  r = rgb[0]*255\n",
        "  g = rgb[1]*255\n",
        "  b = rgb[2]*255\n",
        "  r = int(round(r, 0))\n",
        "  g = int(round(g, 0))\n",
        "  b = int(round(b, 0))\n",
        "  hatch.rgb = (r, g, b)\n",
        "  ##### colores #####\n",
        "#  hatch.set_pattern_fill(\"ANSI31\", scale=0.5, color = float(trans_fs_round[i])) ### AJUSTAR LOS COLORES\n",
        "  a = resultados_2.iloc[i, 0] ## busqueda de la linea \n",
        "  b = resultados_2.iloc[i, 1] ## busqueda de la capa \n",
        "  c = resultados_2.iloc[i, 2] ## valor del FS\n",
        "  d = centroides[i]  ### valor de los centroides\n",
        "  msp.add_lwpolyline(a, close = True, dxfattribs= {\"layer\": str(b)})\n",
        "  mtext = msp.add_mtext((\"FS :\", str(c.round(3))), dxfattribs={\"style\": \"OpenSans_Narrow\", \"color\": 5}) ### color y estilo de la letra\n",
        "  mtext.dxf.char_height = 1\n",
        "  mtext.set_bg_color(7, scale=1.5) ### color de fondo \n",
        "  mtext.set_location(attachment_point = 5, insert = (d.x, d.y))  ### el 5 es que esta centrado y el insert es la ubicacion del texto\n",
        "\n",
        "\n",
        "#  msp.add_text((\"FS :\", str(c.round(3))), height= 1.5, dxfattribs={\"style\": \"LiberationSerif\", \"color\": 182}\n",
        "#               ).set_placement((d.x , d.y), align=TextEntityAlignment.LEFT)\n",
        "  hatch.paths.add_polyline_path(polilineas[i], is_closed=True)\n",
        "  i = i + 1\n",
        "### agregar la leyenda ####\n",
        "doc.saveas(\"sebita 1.dxf\")"
      ],
      "metadata": {
        "id": "lP13Vsf1CZug"
      },
      "execution_count": 156,
      "outputs": []
    },
    {
      "cell_type": "markdown",
      "source": [
        "### FINAL DEL PROGRAMA"
      ],
      "metadata": {
        "id": "ch-_0EfeM-zo"
      }
    },
    {
      "cell_type": "markdown",
      "source": [
        "###############################################################################################################################################################################################################################################################################################################################"
      ],
      "metadata": {
        "id": "OLvPyhrb3hkO"
      }
    },
    {
      "cell_type": "code",
      "source": [],
      "metadata": {
        "id": "TqXBwhxJC1Pa"
      },
      "execution_count": null,
      "outputs": []
    },
    {
      "cell_type": "code",
      "source": [],
      "metadata": {
        "id": "jMP5bud1C1My"
      },
      "execution_count": null,
      "outputs": []
    },
    {
      "cell_type": "code",
      "source": [
        "entity.dxf.true_color = ezdxf.colors.rgb2int(255, 128, 16)"
      ],
      "metadata": {
        "colab": {
          "base_uri": "https://localhost:8080/",
          "height": 165
        },
        "id": "nM3_0-NajzGp",
        "outputId": "fc90c78d-d9ff-42a9-fdbd-cc8b0855c3c0"
      },
      "execution_count": 46,
      "outputs": [
        {
          "output_type": "error",
          "ename": "TypeError",
          "evalue": "ignored",
          "traceback": [
            "\u001b[0;31m---------------------------------------------------------------------------\u001b[0m",
            "\u001b[0;31mTypeError\u001b[0m                                 Traceback (most recent call last)",
            "\u001b[0;32m<ipython-input-46-c29d98feb02f>\u001b[0m in \u001b[0;36m<module>\u001b[0;34m\u001b[0m\n\u001b[0;32m----> 1\u001b[0;31m \u001b[0mentity\u001b[0m\u001b[0;34m.\u001b[0m\u001b[0mdxf\u001b[0m\u001b[0;34m.\u001b[0m\u001b[0mtrue_color\u001b[0m \u001b[0;34m=\u001b[0m \u001b[0mezdxf\u001b[0m\u001b[0;34m.\u001b[0m\u001b[0mcolors\u001b[0m\u001b[0;34m.\u001b[0m\u001b[0mrgb2int\u001b[0m\u001b[0;34m(\u001b[0m\u001b[0;36m255\u001b[0m\u001b[0;34m,\u001b[0m \u001b[0;36m128\u001b[0m\u001b[0;34m,\u001b[0m \u001b[0;36m16\u001b[0m\u001b[0;34m)\u001b[0m\u001b[0;34m\u001b[0m\u001b[0;34m\u001b[0m\u001b[0m\n\u001b[0m",
            "\u001b[0;31mTypeError\u001b[0m: rgb2int() takes 1 positional argument but 3 were given"
          ]
        }
      ]
    },
    {
      "cell_type": "code",
      "source": [],
      "metadata": {
        "id": "DPLZrci4tJDc"
      },
      "execution_count": null,
      "outputs": []
    },
    {
      "cell_type": "markdown",
      "source": [
        "##creacion del autocad con colores y texto BONITOS "
      ],
      "metadata": {
        "id": "rx4ddJaStJhb"
      }
    },
    {
      "cell_type": "code",
      "source": [
        "###### Creacion del AUTOCAD #######\n",
        "#########################################################################################\n",
        "#########################################################################################\n",
        "from ezdxf.enums import TextEntityAlignment\n",
        "doc = ezdxf.new(\"R2018\", setup = True)\n",
        "msp = doc.modelspace()\n",
        "i = 0\n",
        "while i < len(resultados_2[\"pilar\"]):\n",
        "  c = ezdxf.colors.rgb2int((255, int(trans_fs[i]), 0))\n",
        "  hatch = msp.add_hatch() ### AJUSTAR LOS COLORES\n",
        "  dd = int(trans_fs_round[i])\n",
        "  hatch.rgb = (255, dd, 0)\n",
        "#  hatch.set_pattern_fill(\"ANSI31\", scale=0.5, color = float(trans_fs_round[i])) ### AJUSTAR LOS COLORES\n",
        "  a = resultados_2.iloc[i, 0] ## busqueda de la linea \n",
        "  b = resultados_2.iloc[i, 1] ## busqueda de la capa \n",
        "  c = resultados_2.iloc[i, 2] ## valor del FS\n",
        "  d = centroides[i]  ### valor de los centroides\n",
        "  msp.add_lwpolyline(a, close = True, dxfattribs= {\"layer\": str(b)})\n",
        "  mtext = msp.add_mtext((\"FS :\", str(c.round(3))), dxfattribs={\"style\": \"OpenSans_Narrow\", \"color\": 5}) ### color y estilo de la letra\n",
        "  mtext.dxf.char_height = 1\n",
        "  mtext.set_bg_color(7, scale=1.5) ### color de fondo \n",
        "  mtext.set_location(attachment_point = 5, insert = (d.x, d.y))  ### el 5 es que esta centrado y el insert es la ubicacion del texto\n",
        "\n",
        "\n",
        "#  msp.add_text((\"FS :\", str(c.round(3))), height= 1.5, dxfattribs={\"style\": \"LiberationSerif\", \"color\": 182}\n",
        "#               ).set_placement((d.x , d.y), align=TextEntityAlignment.LEFT)\n",
        "  hatch.paths.add_polyline_path(polilineas[i], is_closed=True)\n",
        "  i = i + 1\n",
        "doc.saveas(\"beto 14.dxf\")"
      ],
      "metadata": {
        "id": "f5DbMS_TnazB"
      },
      "execution_count": 67,
      "outputs": []
    },
    {
      "cell_type": "code",
      "source": [
        "c"
      ],
      "metadata": {
        "colab": {
          "base_uri": "https://localhost:8080/"
        },
        "id": "yKMLOA6XKJGL",
        "outputId": "be468278-3924-4565-b9b6-0b3d3cc05c0f"
      },
      "execution_count": 34,
      "outputs": [
        {
          "output_type": "execute_result",
          "data": {
            "text/plain": [
              "2.963309607936956"
            ]
          },
          "metadata": {},
          "execution_count": 34
        }
      ]
    },
    {
      "cell_type": "code",
      "source": [
        "## funcion que transforma los colores de rgb a ACI \n",
        "\n",
        "ezdxf.colors.rgb2int((240,248,255))"
      ],
      "metadata": {
        "colab": {
          "base_uri": "https://localhost:8080/"
        },
        "id": "5cmnNyIaeJ3S",
        "outputId": "d2c8cefc-0989-4d37-ea94-fc6a5a9e0a4e"
      },
      "execution_count": 27,
      "outputs": [
        {
          "output_type": "execute_result",
          "data": {
            "text/plain": [
              "15792383"
            ]
          },
          "metadata": {},
          "execution_count": 27
        }
      ]
    },
    {
      "cell_type": "code",
      "source": [
        "ezdxf.colors.rgb2int((255, int(trans_fs_round[0]), 0))"
      ],
      "metadata": {
        "colab": {
          "base_uri": "https://localhost:8080/"
        },
        "id": "OaNhoJ4tKRXT",
        "outputId": "19fdacec-50c4-461a-ca05-ad6f7d4b71ab"
      },
      "execution_count": 36,
      "outputs": [
        {
          "output_type": "execute_result",
          "data": {
            "text/plain": [
              "16711680"
            ]
          },
          "metadata": {},
          "execution_count": 36
        }
      ]
    },
    {
      "cell_type": "code",
      "source": [],
      "metadata": {
        "id": "5_U4hb0lKcRU"
      },
      "execution_count": null,
      "outputs": []
    },
    {
      "cell_type": "code",
      "source": [
        "type(ezdxf.colors.rgb2int((240,248,255)))"
      ],
      "metadata": {
        "colab": {
          "base_uri": "https://localhost:8080/"
        },
        "id": "m--k6IpTeu8j",
        "outputId": "da0a7c32-557f-462c-d14f-52a0aabd59a8"
      },
      "execution_count": 28,
      "outputs": [
        {
          "output_type": "execute_result",
          "data": {
            "text/plain": [
              "int"
            ]
          },
          "metadata": {},
          "execution_count": 28
        }
      ]
    },
    {
      "cell_type": "code",
      "source": [],
      "metadata": {
        "id": "8JYSPTMnezmx"
      },
      "execution_count": null,
      "outputs": []
    },
    {
      "cell_type": "code",
      "source": [],
      "metadata": {
        "id": "7gg_M1DteZ_j"
      },
      "execution_count": null,
      "outputs": []
    },
    {
      "cell_type": "code",
      "source": [
        "(240,248,255)"
      ],
      "metadata": {
        "id": "Zq7M_K2YY0NM"
      },
      "execution_count": null,
      "outputs": []
    },
    {
      "cell_type": "code",
      "source": [],
      "metadata": {
        "id": "4k3DmffdZ9Kj"
      },
      "execution_count": null,
      "outputs": []
    },
    {
      "cell_type": "code",
      "source": [],
      "metadata": {
        "id": "oN6wlbE1Y0J-"
      },
      "execution_count": null,
      "outputs": []
    },
    {
      "cell_type": "markdown",
      "source": [
        "### FIN DEL PROGRAMA"
      ],
      "metadata": {
        "id": "gHs5eHkTZ_BD"
      }
    },
    {
      "cell_type": "code",
      "source": [
        "#######################################################################################################################################"
      ],
      "metadata": {
        "id": "4q0Ep0o7Y0Hd"
      },
      "execution_count": null,
      "outputs": []
    },
    {
      "cell_type": "code",
      "source": [],
      "metadata": {
        "id": "FNfGOmjAY0EU"
      },
      "execution_count": null,
      "outputs": []
    },
    {
      "cell_type": "code",
      "source": [
        "lista_x = []\n",
        "lista_y = []\n",
        "i = 0\n",
        "while i <  len(resultados_2[\"pilar\"]):\n",
        "  lista_x.append(resultados_2.iloc[i, 0][-1][0])\n",
        "  lista_y.append(resultados_2.iloc[i, 0][-1][1])\n",
        "  i = i + 1\n",
        "\n"
      ],
      "metadata": {
        "id": "zkTvO4N6capr"
      },
      "execution_count": null,
      "outputs": []
    },
    {
      "cell_type": "code",
      "source": [
        "### valores del ultimo punto en cada polilinea\n",
        "print(lista_x, lista_y)"
      ],
      "metadata": {
        "colab": {
          "base_uri": "https://localhost:8080/"
        },
        "id": "e8rQJ5_xc0SL",
        "outputId": "aa0ceee1-f37a-4433-d5f5-49619bc30ef8"
      },
      "execution_count": null,
      "outputs": [
        {
          "output_type": "stream",
          "name": "stdout",
          "text": [
            "[492.2257810052287, 515.7068388677139, 487.0494001031775, 531.5362] [1037.314796903339, 1058.025993565233, 1056.633313429124, 1082.6358]\n"
          ]
        }
      ]
    },
    {
      "cell_type": "code",
      "source": [
        "ultimas_coor = list(zip(lista_x, lista_y))"
      ],
      "metadata": {
        "id": "zXZqXGBodYZp"
      },
      "execution_count": null,
      "outputs": []
    },
    {
      "cell_type": "code",
      "source": [
        "ultimas_coor"
      ],
      "metadata": {
        "colab": {
          "base_uri": "https://localhost:8080/"
        },
        "id": "osNa3afKdg9-",
        "outputId": "68523f62-c767-47ab-99b5-afc1832691e8"
      },
      "execution_count": null,
      "outputs": [
        {
          "output_type": "execute_result",
          "data": {
            "text/plain": [
              "[(492.2257810052287, 1037.314796903339),\n",
              " (515.7068388677139, 1058.025993565233),\n",
              " (487.0494001031775, 1056.633313429124),\n",
              " (531.5362, 1082.6358)]"
            ]
          },
          "metadata": {},
          "execution_count": 58
        }
      ]
    },
    {
      "cell_type": "code",
      "source": [
        "ultimas_coor"
      ],
      "metadata": {
        "colab": {
          "base_uri": "https://localhost:8080/"
        },
        "id": "CHaqbh6mdj8_",
        "outputId": "a2bc0ec4-1bc2-4f23-e1f5-15e5868aed52"
      },
      "execution_count": null,
      "outputs": [
        {
          "output_type": "execute_result",
          "data": {
            "text/plain": [
              "[(492.2257810052287, 1037.314796903339),\n",
              " (515.7068388677139, 1058.025993565233),\n",
              " (487.0494001031775, 1056.633313429124),\n",
              " (531.5362, 1082.6358)]"
            ]
          },
          "metadata": {},
          "execution_count": 108
        }
      ]
    },
    {
      "cell_type": "code",
      "source": [
        "p1 = Polygon(ultimas_coor)"
      ],
      "metadata": {
        "id": "NqTIwRn5o-Zy"
      },
      "execution_count": null,
      "outputs": []
    },
    {
      "cell_type": "code",
      "source": [],
      "metadata": {
        "id": "V8TMiozCpBpA"
      },
      "execution_count": null,
      "outputs": []
    },
    {
      "cell_type": "code",
      "source": [
        "lista_a = []\n",
        "lista_b = []\n",
        "\n",
        "for i in resultados_2[\"pilar\"]:\n",
        "  lista_a.append(resultados_2.iloc[0,0][i][0])\n",
        "\n"
      ],
      "metadata": {
        "colab": {
          "base_uri": "https://localhost:8080/",
          "height": 363
        },
        "id": "uhiRAKZNblMv",
        "outputId": "35a8435e-6c96-45b4-875a-72b6f59eb2fb"
      },
      "execution_count": null,
      "outputs": [
        {
          "output_type": "error",
          "ename": "TypeError",
          "evalue": "ignored",
          "traceback": [
            "\u001b[0;31m---------------------------------------------------------------------------\u001b[0m",
            "\u001b[0;31mTypeError\u001b[0m                                 Traceback (most recent call last)",
            "\u001b[0;32m<ipython-input-46-02454c27d2fe>\u001b[0m in \u001b[0;36m<module>\u001b[0;34m\u001b[0m\n\u001b[1;32m      3\u001b[0m \u001b[0;34m\u001b[0m\u001b[0m\n\u001b[1;32m      4\u001b[0m \u001b[0;32mfor\u001b[0m \u001b[0mi\u001b[0m \u001b[0;32min\u001b[0m \u001b[0mresultados_2\u001b[0m\u001b[0;34m[\u001b[0m\u001b[0;34m\"pilar\"\u001b[0m\u001b[0;34m]\u001b[0m\u001b[0;34m:\u001b[0m\u001b[0;34m\u001b[0m\u001b[0;34m\u001b[0m\u001b[0m\n\u001b[0;32m----> 5\u001b[0;31m   \u001b[0mlista_a\u001b[0m\u001b[0;34m.\u001b[0m\u001b[0mappend\u001b[0m\u001b[0;34m(\u001b[0m\u001b[0mresultados_2\u001b[0m\u001b[0;34m.\u001b[0m\u001b[0miloc\u001b[0m\u001b[0;34m[\u001b[0m\u001b[0;36m0\u001b[0m\u001b[0;34m,\u001b[0m\u001b[0;36m0\u001b[0m\u001b[0;34m]\u001b[0m\u001b[0;34m[\u001b[0m\u001b[0mi\u001b[0m\u001b[0;34m]\u001b[0m\u001b[0;34m[\u001b[0m\u001b[0;36m0\u001b[0m\u001b[0;34m]\u001b[0m\u001b[0;34m)\u001b[0m\u001b[0;34m\u001b[0m\u001b[0;34m\u001b[0m\u001b[0m\n\u001b[0m\u001b[1;32m      6\u001b[0m \u001b[0;34m\u001b[0m\u001b[0m\n",
            "\u001b[0;32m/usr/local/lib/python3.8/dist-packages/ezdxf/entities/lwpolyline.py\u001b[0m in \u001b[0;36m__getitem__\u001b[0;34m(self, index)\u001b[0m\n\u001b[1;32m    209\u001b[0m \u001b[0;34m\u001b[0m\u001b[0m\n\u001b[1;32m    210\u001b[0m         \"\"\"\n\u001b[0;32m--> 211\u001b[0;31m         \u001b[0;32mreturn\u001b[0m \u001b[0mself\u001b[0m\u001b[0;34m.\u001b[0m\u001b[0mlwpoints\u001b[0m\u001b[0;34m[\u001b[0m\u001b[0mindex\u001b[0m\u001b[0;34m]\u001b[0m\u001b[0;34m\u001b[0m\u001b[0;34m\u001b[0m\u001b[0m\n\u001b[0m\u001b[1;32m    212\u001b[0m \u001b[0;34m\u001b[0m\u001b[0m\n\u001b[1;32m    213\u001b[0m     \u001b[0;32mdef\u001b[0m \u001b[0m__setitem__\u001b[0m\u001b[0;34m(\u001b[0m\u001b[0mself\u001b[0m\u001b[0;34m,\u001b[0m \u001b[0mindex\u001b[0m\u001b[0;34m:\u001b[0m \u001b[0mint\u001b[0m\u001b[0;34m,\u001b[0m \u001b[0mvalue\u001b[0m\u001b[0;34m:\u001b[0m \u001b[0mSequence\u001b[0m\u001b[0;34m[\u001b[0m\u001b[0mfloat\u001b[0m\u001b[0;34m]\u001b[0m\u001b[0;34m)\u001b[0m \u001b[0;34m->\u001b[0m \u001b[0;32mNone\u001b[0m\u001b[0;34m:\u001b[0m\u001b[0;34m\u001b[0m\u001b[0;34m\u001b[0m\u001b[0m\n",
            "\u001b[0;32m/usr/local/lib/python3.8/dist-packages/ezdxf/lldxf/packedtags.py\u001b[0m in \u001b[0;36m__getitem__\u001b[0;34m(self, index)\u001b[0m\n\u001b[1;32m     81\u001b[0m             \u001b[0;32mreturn\u001b[0m \u001b[0mlist\u001b[0m\u001b[0;34m(\u001b[0m\u001b[0mself\u001b[0m\u001b[0;34m.\u001b[0m\u001b[0m_get_points\u001b[0m\u001b[0;34m(\u001b[0m\u001b[0mself\u001b[0m\u001b[0;34m.\u001b[0m\u001b[0m_slicing\u001b[0m\u001b[0;34m(\u001b[0m\u001b[0mindex\u001b[0m\u001b[0;34m)\u001b[0m\u001b[0;34m)\u001b[0m\u001b[0;34m)\u001b[0m\u001b[0;34m\u001b[0m\u001b[0;34m\u001b[0m\u001b[0m\n\u001b[1;32m     82\u001b[0m         \u001b[0;32melse\u001b[0m\u001b[0;34m:\u001b[0m\u001b[0;34m\u001b[0m\u001b[0;34m\u001b[0m\u001b[0m\n\u001b[0;32m---> 83\u001b[0;31m             \u001b[0;32mreturn\u001b[0m \u001b[0mself\u001b[0m\u001b[0;34m.\u001b[0m\u001b[0m_get_point\u001b[0m\u001b[0;34m(\u001b[0m\u001b[0mself\u001b[0m\u001b[0;34m.\u001b[0m\u001b[0m_index\u001b[0m\u001b[0;34m(\u001b[0m\u001b[0mindex\u001b[0m\u001b[0;34m)\u001b[0m\u001b[0;34m)\u001b[0m\u001b[0;34m\u001b[0m\u001b[0;34m\u001b[0m\u001b[0m\n\u001b[0m\u001b[1;32m     84\u001b[0m \u001b[0;34m\u001b[0m\u001b[0m\n\u001b[1;32m     85\u001b[0m     \u001b[0;32mdef\u001b[0m \u001b[0m__setitem__\u001b[0m\u001b[0;34m(\u001b[0m\u001b[0mself\u001b[0m\u001b[0;34m,\u001b[0m \u001b[0mindex\u001b[0m\u001b[0;34m:\u001b[0m \u001b[0mint\u001b[0m\u001b[0;34m,\u001b[0m \u001b[0mpoint\u001b[0m\u001b[0;34m:\u001b[0m \u001b[0mSequence\u001b[0m\u001b[0;34m[\u001b[0m\u001b[0mfloat\u001b[0m\u001b[0;34m]\u001b[0m\u001b[0;34m)\u001b[0m \u001b[0;34m->\u001b[0m \u001b[0;32mNone\u001b[0m\u001b[0;34m:\u001b[0m\u001b[0;34m\u001b[0m\u001b[0;34m\u001b[0m\u001b[0m\n",
            "\u001b[0;32m/usr/local/lib/python3.8/dist-packages/ezdxf/lldxf/packedtags.py\u001b[0m in \u001b[0;36m_index\u001b[0;34m(self, item)\u001b[0m\n\u001b[1;32m    152\u001b[0m \u001b[0;34m\u001b[0m\u001b[0m\n\u001b[1;32m    153\u001b[0m     \u001b[0;32mdef\u001b[0m \u001b[0m_index\u001b[0m\u001b[0;34m(\u001b[0m\u001b[0mself\u001b[0m\u001b[0;34m,\u001b[0m \u001b[0mitem\u001b[0m\u001b[0;34m)\u001b[0m \u001b[0;34m->\u001b[0m \u001b[0mint\u001b[0m\u001b[0;34m:\u001b[0m\u001b[0;34m\u001b[0m\u001b[0;34m\u001b[0m\u001b[0m\n\u001b[0;32m--> 154\u001b[0;31m         \u001b[0;32mreturn\u001b[0m \u001b[0mIndex\u001b[0m\u001b[0;34m(\u001b[0m\u001b[0mself\u001b[0m\u001b[0;34m)\u001b[0m\u001b[0;34m.\u001b[0m\u001b[0mindex\u001b[0m\u001b[0;34m(\u001b[0m\u001b[0mitem\u001b[0m\u001b[0;34m,\u001b[0m \u001b[0merror\u001b[0m\u001b[0;34m=\u001b[0m\u001b[0mDXFIndexError\u001b[0m\u001b[0;34m)\u001b[0m\u001b[0;34m\u001b[0m\u001b[0;34m\u001b[0m\u001b[0m\n\u001b[0m\u001b[1;32m    155\u001b[0m \u001b[0;34m\u001b[0m\u001b[0m\n\u001b[1;32m    156\u001b[0m     \u001b[0;32mdef\u001b[0m \u001b[0m_slicing\u001b[0m\u001b[0;34m(\u001b[0m\u001b[0mself\u001b[0m\u001b[0;34m,\u001b[0m \u001b[0mindex\u001b[0m\u001b[0;34m)\u001b[0m \u001b[0;34m->\u001b[0m \u001b[0mIterable\u001b[0m\u001b[0;34m[\u001b[0m\u001b[0mint\u001b[0m\u001b[0;34m]\u001b[0m\u001b[0;34m:\u001b[0m\u001b[0;34m\u001b[0m\u001b[0;34m\u001b[0m\u001b[0m\n",
            "\u001b[0;32m/usr/local/lib/python3.8/dist-packages/ezdxf/tools/indexing.py\u001b[0m in \u001b[0;36mindex\u001b[0;34m(self, item, error)\u001b[0m\n\u001b[1;32m     14\u001b[0m \u001b[0;34m\u001b[0m\u001b[0m\n\u001b[1;32m     15\u001b[0m     \u001b[0;32mdef\u001b[0m \u001b[0mindex\u001b[0m\u001b[0;34m(\u001b[0m\u001b[0mself\u001b[0m\u001b[0;34m,\u001b[0m \u001b[0mitem\u001b[0m\u001b[0;34m:\u001b[0m \u001b[0mint\u001b[0m\u001b[0;34m,\u001b[0m \u001b[0merror\u001b[0m\u001b[0;34m=\u001b[0m\u001b[0;32mNone\u001b[0m\u001b[0;34m)\u001b[0m \u001b[0;34m->\u001b[0m \u001b[0mint\u001b[0m\u001b[0;34m:\u001b[0m\u001b[0;34m\u001b[0m\u001b[0;34m\u001b[0m\u001b[0m\n\u001b[0;32m---> 16\u001b[0;31m         \u001b[0;32mif\u001b[0m \u001b[0mitem\u001b[0m \u001b[0;34m<\u001b[0m \u001b[0;36m0\u001b[0m\u001b[0;34m:\u001b[0m\u001b[0;34m\u001b[0m\u001b[0;34m\u001b[0m\u001b[0m\n\u001b[0m\u001b[1;32m     17\u001b[0m             \u001b[0mresult\u001b[0m \u001b[0;34m=\u001b[0m \u001b[0mself\u001b[0m\u001b[0;34m.\u001b[0m\u001b[0mlength\u001b[0m \u001b[0;34m+\u001b[0m \u001b[0mint\u001b[0m\u001b[0;34m(\u001b[0m\u001b[0mitem\u001b[0m\u001b[0;34m)\u001b[0m\u001b[0;34m\u001b[0m\u001b[0;34m\u001b[0m\u001b[0m\n\u001b[1;32m     18\u001b[0m         \u001b[0;32melse\u001b[0m\u001b[0;34m:\u001b[0m\u001b[0;34m\u001b[0m\u001b[0;34m\u001b[0m\u001b[0m\n",
            "\u001b[0;31mTypeError\u001b[0m: '<' not supported between instances of 'LWPolyline' and 'int'"
          ]
        }
      ]
    },
    {
      "cell_type": "code",
      "source": [
        "print(resultados_2.iloc[3, 0])"
      ],
      "metadata": {
        "colab": {
          "base_uri": "https://localhost:8080/"
        },
        "id": "2PQUkZ8wdcS4",
        "outputId": "9b383bfd-9db2-4542-d208-8d4d90e13c34"
      },
      "execution_count": null,
      "outputs": [
        {
          "output_type": "stream",
          "name": "stdout",
          "text": [
            "LWPOLYLINE(#2B8)\n"
          ]
        }
      ]
    },
    {
      "cell_type": "code",
      "source": [
        "a = resultados_2.iloc[0, 0]"
      ],
      "metadata": {
        "id": "0bbFtB0dgVB-"
      },
      "execution_count": null,
      "outputs": []
    },
    {
      "cell_type": "code",
      "source": [
        "print(a[0])"
      ],
      "metadata": {
        "colab": {
          "base_uri": "https://localhost:8080/"
        },
        "id": "MJAgERuwgYca",
        "outputId": "2ecd7309-adcd-4819-d2f3-c565a6f4f85f"
      },
      "execution_count": null,
      "outputs": [
        {
          "output_type": "stream",
          "name": "stdout",
          "text": [
            "(509.8859767648045, 1054.974992662914, 0.0, 0.0, 0.0)\n"
          ]
        }
      ]
    },
    {
      "cell_type": "code",
      "source": [],
      "metadata": {
        "id": "l_Xi6u8Qif1l"
      },
      "execution_count": null,
      "outputs": []
    },
    {
      "cell_type": "code",
      "source": [
        "doc = ezdxf.new(\"R2000\")\n",
        "msp = doc.modelspace()\n",
        "i = 0\n",
        "while i < len(resultados_2[\"pilar\"]):\n",
        "  a = resultados_2.iloc[i, 0] ## busqueda de la linea \n",
        "  b = resultados_2.iloc[i, 1] ## busqueda de la capa \n",
        "  msp.add_lwpolyline(a, close = True, dxfattribs= {\"layer\": str(b)})\n",
        "  i = i + 1\n",
        "doc.saveas(\"polilineas_de_pruebas_4.dxf\")\n",
        "\n"
      ],
      "metadata": {
        "id": "wH-ww4n0eEvg"
      },
      "execution_count": null,
      "outputs": []
    },
    {
      "cell_type": "code",
      "source": [
        "fs = resultados_2.iloc[0, 2]\n",
        "print(fs.round(3))\n",
        "print(\"el valor del factor de seguridad es:\", str(fs))"
      ],
      "metadata": {
        "colab": {
          "base_uri": "https://localhost:8080/"
        },
        "id": "v-NMg8lQih54",
        "outputId": "5ca52892-3b9a-4df4-99c8-73f58582002b"
      },
      "execution_count": null,
      "outputs": [
        {
          "output_type": "stream",
          "name": "stdout",
          "text": [
            "1.792\n",
            "el valor del factor de seguridad es: 1.7915560435026885\n"
          ]
        }
      ]
    },
    {
      "cell_type": "code",
      "source": [
        "aa = resultados_2.iloc[3, 0]\n",
        "print(len(aa))"
      ],
      "metadata": {
        "colab": {
          "base_uri": "https://localhost:8080/"
        },
        "id": "2Sg-LP3uk4s_",
        "outputId": "6611055c-0f42-4fce-dbf9-7db5bc8d29b2"
      },
      "execution_count": null,
      "outputs": [
        {
          "output_type": "stream",
          "name": "stdout",
          "text": [
            "41\n"
          ]
        }
      ]
    },
    {
      "cell_type": "code",
      "source": [
        "###### Creacion del codigo para los centroides ######\n",
        "#####################################################\n",
        "#####################################################\n",
        "\n",
        "i = 0\n",
        "centroides = []\n",
        "while i < len(resultados_2):\n",
        "  lista_x = []\n",
        "  lista_y = []\n",
        "#  lista_centroides = []\n",
        "  largo = len(resultados_2.iloc[i, 0])\n",
        "  z = 0\n",
        "  while z < largo: \n",
        "    lista_x.append(resultados_2.iloc[i, 0][z][0])\n",
        "    lista_y.append(resultados_2.iloc[i, 0][z][1])\n",
        "\n",
        "    z = z + 1\n",
        "  lista_zip = list(zip(lista_x, lista_y))\n",
        "  print(\"la lista zip es:\")\n",
        "  print(lista_zip)\n",
        "  p = Polygon(lista_zip)\n",
        "  centroide = p.centroid\n",
        "  centroides.append(centroide)\n",
        "  i = i + 1\n",
        "\n",
        "\n",
        "\n"
      ],
      "metadata": {
        "colab": {
          "base_uri": "https://localhost:8080/"
        },
        "id": "IlpWHac6nAcN",
        "outputId": "d1b93c0b-3d60-4631-e532-732013ad8103"
      },
      "execution_count": null,
      "outputs": [
        {
          "output_type": "stream",
          "name": "stdout",
          "text": [
            "la lista zip es:\n",
            "[(509.8859767648045, 1054.974992662914), (511.6852814580442, 1054.492870423423), (514.3077310512662, 1044.706767791123), (514.2811999999999, 1044.6241), (514.3128000000002, 1043.5321), (514.8180000000002, 1041.6509), (515.2995, 1040.2495), (515.0469, 1039.896), (514.6442000000002, 1039.6444), (513.2782000000002, 1039.541), (511.9540999999999, 1038.4999), (510.8260999999999, 1037.0005), (509.5813, 1036.1433), (508.9153000000001, 1034.9556), (507.9313999999999, 1033.8982), (495.0768858270658, 1021.383262555414), (494.0856738354364, 1021.648857008099), (493.1541652385815, 1025.125245085296), (496.2563389723682, 1025.956470032046), (495.324590409999, 1029.433803006686), (492.2224043393835, 1028.602574754293), (491.0568679577127, 1032.952354020378), (492.2257810052287, 1037.314796903339)]\n",
            "la lista zip es:\n",
            "[(515.7068386864775, 1058.02599288885), (516.7206784320869, 1061.809694330196), (535.2294023290851, 1080.318418227193), (536.2113040078156, 1080.055318465331), (536.7024000000001, 1078.8607), (537.1743000000001, 1077.0537), (537.8274000000001, 1074.7102), (538.3431, 1072.7783), (538.9502999999999, 1070.6045), (539.4092, 1069.0802), (539.2253000000001, 1067.1167), (539.0281402419023, 1066.2653), (539.0248000000001, 1066.265935413193), (538.5507999999999, 1064.8021), (537.2085999999999, 1063.0512), (536.5601000000001, 1062.4271), (535.7397999999998, 1061.617), (535.1608999999999, 1061.0521), (534.5978999999999, 1060.4953), (534.0286999999998, 1059.9302), (533.7825, 1059.7139), (520.9953, 1048.070599999999), (520.2557, 1047.5162), (519.3251, 1047.6409), (518.8461000000001, 1048.3149), (518.2663999999999, 1048.6174), (518.2170547736077, 1048.657739088993), (515.7068388677139, 1058.025993565233)]\n",
            "la lista zip es:\n",
            "[(485.8802689305066, 1052.270056492004), (488.8954440982407, 1041.017269572302), (489.8690903433675, 1040.756381847207), (508.3778142403666, 1059.265105744206), (509.3920709312401, 1063.050363246462), (508.2735, 1069.8973), (507.9054000000001, 1071.2691), (507.6964, 1072.0144), (507.5529000000001, 1072.5561), (507.4142999999999, 1073.0644), (507.2721000000001, 1073.5812), (506.5563999999999, 1074.2397), (505.7716, 1074.7015), (505.5544999999999, 1074.8902), (504.6570999999999, 1075.0809), (487.0494001031775, 1056.633313429124)]\n",
            "la lista zip es:\n",
            "[(532.2373999999999, 1083.3211), (532.3510000000001, 1083.5744), (532.6273000000001, 1084.2604), (532.5810000000001, 1085.48), (532.8787, 1086.0012), (533.2899999999998, 1086.9468), (533.7640999999998, 1088.0251), (534.0152999999999, 1088.6515), (533.9630999999999, 1088.9955), (533.5073999999998, 1090.032), (533.0570999999999, 1091.3037), (533.0054, 1091.626), (532.711, 1092.5313), (532.5102000000002, 1093.2808), (532.3393999999998, 1093.8097), (532.0988999999998, 1094.4675), (531.5113000000001, 1097.168), (531.3297, 1098.8932), (530.9339, 1099.3648), (530.1876, 1099.4893), (529.8950768252093, 1099.478990151155), (514.0562999999997, 1083.5414), (513.4294999999997, 1082.8826), (512.5311999999999, 1081.9673), (512.0324, 1081.0306), (511.5889999999999, 1080.2521), (511.1333, 1078.6348), (511.0495000000001, 1078.3995), (510.9422999999999, 1077.2384), (510.8439, 1076.4635), (511.2898999999997, 1074.8425), (511.4117000000001, 1074.3756), (511.4195999999997, 1074.3526), (511.6267, 1073.5796), (512.0795, 1071.8365), (512.2734, 1071.0672), (513.4143651924705, 1066.58162044349), (515.212515907649, 1066.099807411488), (530.4715, 1081.1599), (530.5504, 1081.3575), (531.5362, 1082.6358)]\n"
          ]
        }
      ]
    },
    {
      "cell_type": "code",
      "source": [
        "centroides"
      ],
      "metadata": {
        "colab": {
          "base_uri": "https://localhost:8080/"
        },
        "id": "VzNhsqEip14E",
        "outputId": "4c2cb3b9-265d-430d-f321-8341bef2d332"
      },
      "execution_count": null,
      "outputs": [
        {
          "output_type": "execute_result",
          "data": {
            "text/plain": [
              "[<POINT (503.132 1038.742)>,\n",
              " <POINT (527.745 1063.51)>,\n",
              " <POINT (497.777 1058.209)>,\n",
              " <POINT (522.325 1082.547)>]"
            ]
          },
          "metadata": {},
          "execution_count": 137
        }
      ]
    },
    {
      "cell_type": "code",
      "source": [
        "a = centroides[0]\n",
        "b = a.x\n",
        "print(a.x)\n",
        "type(b)"
      ],
      "metadata": {
        "colab": {
          "base_uri": "https://localhost:8080/"
        },
        "id": "z42FYdiVr8ew",
        "outputId": "9d2a88c8-d1e4-49cf-804b-e8d0dd01c1ea"
      },
      "execution_count": null,
      "outputs": [
        {
          "output_type": "stream",
          "name": "stdout",
          "text": [
            "503.13206366890614\n"
          ]
        },
        {
          "output_type": "execute_result",
          "data": {
            "text/plain": [
              "numpy.float64"
            ]
          },
          "metadata": {},
          "execution_count": 149
        }
      ]
    },
    {
      "cell_type": "code",
      "source": [
        "data_centroides = geo.GeoDataFrame({\"centroide\": centroides})"
      ],
      "metadata": {
        "id": "VkFdzwQup9Gy"
      },
      "execution_count": null,
      "outputs": []
    },
    {
      "cell_type": "code",
      "source": [
        "data_centroides.iloc[0, 0]"
      ],
      "metadata": {
        "colab": {
          "base_uri": "https://localhost:8080/",
          "height": 122
        },
        "id": "lkUWztKPrFsj",
        "outputId": "eece3617-ba41-4f52-a980-0bab7ff45495"
      },
      "execution_count": null,
      "outputs": [
        {
          "output_type": "execute_result",
          "data": {
            "text/plain": [
              "<POINT (503.132 1038.742)>"
            ],
            "image/svg+xml": "<svg xmlns=\"http://www.w3.org/2000/svg\" xmlns:xlink=\"http://www.w3.org/1999/xlink\" width=\"100.0\" height=\"100.0\" viewBox=\"502.13206366890614 1037.7417777757412 2.0 2.0\" preserveAspectRatio=\"xMinYMin meet\"><g transform=\"matrix(1,0,0,-1,0,2077.4835555514824)\"><circle cx=\"503.13206366890614\" cy=\"1038.7417777757412\" r=\"0.06\" stroke=\"#555555\" stroke-width=\"0.02\" fill=\"#66cc99\" opacity=\"0.6\" /></g></svg>"
          },
          "metadata": {},
          "execution_count": 135
        }
      ]
    },
    {
      "cell_type": "code",
      "source": [],
      "metadata": {
        "colab": {
          "base_uri": "https://localhost:8080/",
          "height": 165
        },
        "id": "N2Mo_EmnqgdV",
        "outputId": "2df657a6-574d-4005-ff6b-308fe6d2db93"
      },
      "execution_count": null,
      "outputs": [
        {
          "output_type": "error",
          "ename": "TypeError",
          "evalue": "ignored",
          "traceback": [
            "\u001b[0;31m---------------------------------------------------------------------------\u001b[0m",
            "\u001b[0;31mTypeError\u001b[0m                                 Traceback (most recent call last)",
            "\u001b[0;32m<ipython-input-123-2b4e59a3c65f>\u001b[0m in \u001b[0;36m<module>\u001b[0;34m\u001b[0m\n\u001b[0;32m----> 1\u001b[0;31m \u001b[0maa\u001b[0m\u001b[0;34m[\u001b[0m\u001b[0;36m0\u001b[0m\u001b[0;34m]\u001b[0m\u001b[0;34m[\u001b[0m\u001b[0;36m0\u001b[0m\u001b[0;34m]\u001b[0m\u001b[0;34m\u001b[0m\u001b[0;34m\u001b[0m\u001b[0m\n\u001b[0m",
            "\u001b[0;31mTypeError\u001b[0m: 'Point' object is not subscriptable"
          ]
        }
      ]
    },
    {
      "cell_type": "code",
      "source": [
        "###### Creacion del AUTOCAD #######\n",
        "#########################################################################################\n",
        "#########################################################################################\n",
        "from ezdxf.enums import TextEntityAlignment\n",
        "doc = ezdxf.new(\"R2018\", setup = True)\n",
        "msp = doc.modelspace()\n",
        "i = 0\n",
        "while i < len(resultados_2[\"pilar\"]):\n",
        "  a = resultados_2.iloc[i, 0] ## busqueda de la linea \n",
        "  b = resultados_2.iloc[i, 1] ## busqueda de la capa \n",
        "  c = resultados_2.iloc[i, 2] ## valor del FS\n",
        "  d = centroides[i]  ### valor de los centroides\n",
        "  msp.add_lwpolyline(a, close = True, dxfattribs= {\"layer\": str(b)})\n",
        "  msp.add_text((\"FS :\", str(c.round(3))), height= 1, dxfattribs={\"style\": \"LiberationSerif\"}\n",
        "               ).set_placement((d.x , d.y), align=TextEntityAlignment.LEFT)\n",
        "  i = i + 1\n",
        "doc.saveas(\"polilineas_de_pruebas_12.dxf\")\n",
        "\n"
      ],
      "metadata": {
        "id": "qgWaQWk8eZya"
      },
      "execution_count": null,
      "outputs": []
    },
    {
      "cell_type": "markdown",
      "source": [
        "#Pruebas de los colores"
      ],
      "metadata": {
        "id": "yD9xvxFBX6Dq"
      }
    },
    {
      "cell_type": "markdown",
      "source": [
        "codigo importante que sirve para obtener las direcciones del centroide y las coordenadas de cada polilinea para el achurado con color"
      ],
      "metadata": {
        "id": "q7JnKApSe36z"
      }
    },
    {
      "cell_type": "code",
      "source": [
        "###### Creacion del codigo para las coordenadas de cada polilinea ######\n",
        "#####################################################\n",
        "#####################################################\n",
        "\n",
        "i = 0\n",
        "polilineas = []\n",
        "while i < len(resultados_2):\n",
        "  lista_x = []\n",
        "  lista_y = []\n",
        "#  lista_centroides = []\n",
        "  largo = len(resultados_2.iloc[i, 0])\n",
        "  z = 0\n",
        "  while z < largo: \n",
        "    lista_x.append(resultados_2.iloc[i, 0][z][0]) ### apendiza a la lista la coor X\n",
        "    lista_y.append(resultados_2.iloc[i, 0][z][1]) ### apendiza a la lista la coor Y \n",
        "\n",
        "    z = z + 1\n",
        "  lista_zip = list(zip(lista_x, lista_y))\n",
        "  print(\"la lista zip es:\")\n",
        "  print(lista_zip)\n",
        "  polilineas.append(lista_zip)\n",
        "  p = Polygon(lista_zip)\n",
        "  centroide = p.centroid\n",
        "  centroides.append(centroide)\n",
        "  i = i + 1\n",
        "\n"
      ],
      "metadata": {
        "colab": {
          "base_uri": "https://localhost:8080/"
        },
        "id": "MZs3qbOJYfNu",
        "outputId": "a70489ce-169f-47df-a790-13c1d85c6799"
      },
      "execution_count": null,
      "outputs": [
        {
          "output_type": "stream",
          "name": "stdout",
          "text": [
            "la lista zip es:\n",
            "[(509.8859767648045, 1054.974992662914), (511.6852814580442, 1054.492870423423), (514.3077310512662, 1044.706767791123), (514.2811999999999, 1044.6241), (514.3128000000002, 1043.5321), (514.8180000000002, 1041.6509), (515.2995, 1040.2495), (515.0469, 1039.896), (514.6442000000002, 1039.6444), (513.2782000000002, 1039.541), (511.9540999999999, 1038.4999), (510.8260999999999, 1037.0005), (509.5813, 1036.1433), (508.9153000000001, 1034.9556), (507.9313999999999, 1033.8982), (495.0768858270658, 1021.383262555414), (494.0856738354364, 1021.648857008099), (493.1541652385815, 1025.125245085296), (496.2563389723682, 1025.956470032046), (495.324590409999, 1029.433803006686), (492.2224043393835, 1028.602574754293), (491.0568679577127, 1032.952354020378), (492.2257810052287, 1037.314796903339)]\n",
            "la lista zip es:\n",
            "[(515.7068386864775, 1058.02599288885), (516.7206784320869, 1061.809694330196), (535.2294023290851, 1080.318418227193), (536.2113040078156, 1080.055318465331), (536.7024000000001, 1078.8607), (537.1743000000001, 1077.0537), (537.8274000000001, 1074.7102), (538.3431, 1072.7783), (538.9502999999999, 1070.6045), (539.4092, 1069.0802), (539.2253000000001, 1067.1167), (539.0281402419023, 1066.2653), (539.0248000000001, 1066.265935413193), (538.5507999999999, 1064.8021), (537.2085999999999, 1063.0512), (536.5601000000001, 1062.4271), (535.7397999999998, 1061.617), (535.1608999999999, 1061.0521), (534.5978999999999, 1060.4953), (534.0286999999998, 1059.9302), (533.7825, 1059.7139), (520.9953, 1048.070599999999), (520.2557, 1047.5162), (519.3251, 1047.6409), (518.8461000000001, 1048.3149), (518.2663999999999, 1048.6174), (518.2170547736077, 1048.657739088993), (515.7068388677139, 1058.025993565233)]\n",
            "la lista zip es:\n",
            "[(485.8802689305066, 1052.270056492004), (488.8954440982407, 1041.017269572302), (489.8690903433675, 1040.756381847207), (508.3778142403666, 1059.265105744206), (509.3920709312401, 1063.050363246462), (508.2735, 1069.8973), (507.9054000000001, 1071.2691), (507.6964, 1072.0144), (507.5529000000001, 1072.5561), (507.4142999999999, 1073.0644), (507.2721000000001, 1073.5812), (506.5563999999999, 1074.2397), (505.7716, 1074.7015), (505.5544999999999, 1074.8902), (504.6570999999999, 1075.0809), (487.0494001031775, 1056.633313429124)]\n",
            "la lista zip es:\n",
            "[(532.2373999999999, 1083.3211), (532.3510000000001, 1083.5744), (532.6273000000001, 1084.2604), (532.5810000000001, 1085.48), (532.8787, 1086.0012), (533.2899999999998, 1086.9468), (533.7640999999998, 1088.0251), (534.0152999999999, 1088.6515), (533.9630999999999, 1088.9955), (533.5073999999998, 1090.032), (533.0570999999999, 1091.3037), (533.0054, 1091.626), (532.711, 1092.5313), (532.5102000000002, 1093.2808), (532.3393999999998, 1093.8097), (532.0988999999998, 1094.4675), (531.5113000000001, 1097.168), (531.3297, 1098.8932), (530.9339, 1099.3648), (530.1876, 1099.4893), (529.8950768252093, 1099.478990151155), (514.0562999999997, 1083.5414), (513.4294999999997, 1082.8826), (512.5311999999999, 1081.9673), (512.0324, 1081.0306), (511.5889999999999, 1080.2521), (511.1333, 1078.6348), (511.0495000000001, 1078.3995), (510.9422999999999, 1077.2384), (510.8439, 1076.4635), (511.2898999999997, 1074.8425), (511.4117000000001, 1074.3756), (511.4195999999997, 1074.3526), (511.6267, 1073.5796), (512.0795, 1071.8365), (512.2734, 1071.0672), (513.4143651924705, 1066.58162044349), (515.212515907649, 1066.099807411488), (530.4715, 1081.1599), (530.5504, 1081.3575), (531.5362, 1082.6358)]\n"
          ]
        }
      ]
    },
    {
      "cell_type": "code",
      "source": [
        "polilineas[0]"
      ],
      "metadata": {
        "colab": {
          "base_uri": "https://localhost:8080/"
        },
        "id": "4v9vowA2c9P8",
        "outputId": "4439163b-885b-4dbb-d5ca-128f4cc0ee7c"
      },
      "execution_count": null,
      "outputs": [
        {
          "output_type": "execute_result",
          "data": {
            "text/plain": [
              "[(509.8859767648045, 1054.974992662914),\n",
              " (511.6852814580442, 1054.492870423423),\n",
              " (514.3077310512662, 1044.706767791123),\n",
              " (514.2811999999999, 1044.6241),\n",
              " (514.3128000000002, 1043.5321),\n",
              " (514.8180000000002, 1041.6509),\n",
              " (515.2995, 1040.2495),\n",
              " (515.0469, 1039.896),\n",
              " (514.6442000000002, 1039.6444),\n",
              " (513.2782000000002, 1039.541),\n",
              " (511.9540999999999, 1038.4999),\n",
              " (510.8260999999999, 1037.0005),\n",
              " (509.5813, 1036.1433),\n",
              " (508.9153000000001, 1034.9556),\n",
              " (507.9313999999999, 1033.8982),\n",
              " (495.0768858270658, 1021.383262555414),\n",
              " (494.0856738354364, 1021.648857008099),\n",
              " (493.1541652385815, 1025.125245085296),\n",
              " (496.2563389723682, 1025.956470032046),\n",
              " (495.324590409999, 1029.433803006686),\n",
              " (492.2224043393835, 1028.602574754293),\n",
              " (491.0568679577127, 1032.952354020378),\n",
              " (492.2257810052287, 1037.314796903339)]"
            ]
          },
          "metadata": {},
          "execution_count": 55
        }
      ]
    },
    {
      "cell_type": "code",
      "source": [
        "lista_zip"
      ],
      "metadata": {
        "colab": {
          "base_uri": "https://localhost:8080/"
        },
        "id": "LjgEnj7PY7VJ",
        "outputId": "da0f8944-0330-48b9-b245-cb2008f60dc5"
      },
      "execution_count": null,
      "outputs": [
        {
          "output_type": "execute_result",
          "data": {
            "text/plain": [
              "[(532.2373999999999, 1083.3211),\n",
              " (532.3510000000001, 1083.5744),\n",
              " (532.6273000000001, 1084.2604),\n",
              " (532.5810000000001, 1085.48),\n",
              " (532.8787, 1086.0012),\n",
              " (533.2899999999998, 1086.9468),\n",
              " (533.7640999999998, 1088.0251),\n",
              " (534.0152999999999, 1088.6515),\n",
              " (533.9630999999999, 1088.9955),\n",
              " (533.5073999999998, 1090.032),\n",
              " (533.0570999999999, 1091.3037),\n",
              " (533.0054, 1091.626),\n",
              " (532.711, 1092.5313),\n",
              " (532.5102000000002, 1093.2808),\n",
              " (532.3393999999998, 1093.8097),\n",
              " (532.0988999999998, 1094.4675),\n",
              " (531.5113000000001, 1097.168),\n",
              " (531.3297, 1098.8932),\n",
              " (530.9339, 1099.3648),\n",
              " (530.1876, 1099.4893),\n",
              " (529.8950768252093, 1099.478990151155),\n",
              " (514.0562999999997, 1083.5414),\n",
              " (513.4294999999997, 1082.8826),\n",
              " (512.5311999999999, 1081.9673),\n",
              " (512.0324, 1081.0306),\n",
              " (511.5889999999999, 1080.2521),\n",
              " (511.1333, 1078.6348),\n",
              " (511.0495000000001, 1078.3995),\n",
              " (510.9422999999999, 1077.2384),\n",
              " (510.8439, 1076.4635),\n",
              " (511.2898999999997, 1074.8425),\n",
              " (511.4117000000001, 1074.3756),\n",
              " (511.4195999999997, 1074.3526),\n",
              " (511.6267, 1073.5796),\n",
              " (512.0795, 1071.8365),\n",
              " (512.2734, 1071.0672),\n",
              " (513.4143651924705, 1066.58162044349),\n",
              " (515.212515907649, 1066.099807411488),\n",
              " (530.4715, 1081.1599),\n",
              " (530.5504, 1081.3575),\n",
              " (531.5362, 1082.6358)]"
            ]
          },
          "metadata": {},
          "execution_count": 41
        }
      ]
    },
    {
      "cell_type": "code",
      "source": [
        "aa = np.array(resultados_2.iloc[0,0])"
      ],
      "metadata": {
        "id": "TN3XTvDBWiJ4"
      },
      "execution_count": null,
      "outputs": []
    },
    {
      "cell_type": "code",
      "source": [
        "aa"
      ],
      "metadata": {
        "id": "oyrtKL1TYRUr"
      },
      "execution_count": null,
      "outputs": []
    },
    {
      "cell_type": "markdown",
      "source": [
        "creacion del autocad"
      ],
      "metadata": {
        "id": "excpGhNZezux"
      }
    },
    {
      "cell_type": "code",
      "source": [
        "###### Creacion del AUTOCAD #######\n",
        "#########################################################################################\n",
        "#########################################################################################\n",
        "from ezdxf.enums import TextEntityAlignment\n",
        "doc = ezdxf.new(\"R2018\", setup = True)\n",
        "msp = doc.modelspace()\n",
        "i = 0\n",
        "while i < len(resultados_2[\"pilar\"]):\n",
        "  hatch = msp.add_hatch(color= 253) ### AJUSTAR LOS COLORES\n",
        "  hatch.set_pattern_fill(\"ANSI31\", scale=0.5, color = 170) ### AJUSTAR LOS COLORES\n",
        "  a = resultados_2.iloc[i, 0] ## busqueda de la linea \n",
        "  b = resultados_2.iloc[i, 1] ## busqueda de la capa \n",
        "  c = resultados_2.iloc[i, 2] ## valor del FS\n",
        "  d = centroides[i]  ### valor de los centroides\n",
        "  msp.add_lwpolyline(a, close = True, dxfattribs= {\"layer\": str(b)})\n",
        "\n",
        "  mtext = msp.add_mtext((\"FS :\", str(c.round(3))), dxfattribs={\"style\": \"OpenSans\"}).set_placement((d.x , d.y), align=TextEntityAlignment.LEFT)\n",
        "  mtext.set_bg_color(6, scale=1.5)\n",
        "\n",
        "  hatch.paths.add_polyline_path(polilineas[i], is_closed=True)\n",
        "  i = i + 1\n",
        "doc.saveas(\"AUTOCAD DE PRUEBA m text.dxf\")\n"
      ],
      "metadata": {
        "colab": {
          "base_uri": "https://localhost:8080/",
          "height": 252
        },
        "id": "RXx_YoYwiliX",
        "outputId": "56e4f03f-fb50-4c29-bd8f-8f323d94f5ab"
      },
      "execution_count": null,
      "outputs": [
        {
          "output_type": "error",
          "ename": "AttributeError",
          "evalue": "ignored",
          "traceback": [
            "\u001b[0;31m---------------------------------------------------------------------------\u001b[0m",
            "\u001b[0;31mAttributeError\u001b[0m                            Traceback (most recent call last)",
            "\u001b[0;32m<ipython-input-64-77cada66fdad>\u001b[0m in \u001b[0;36m<module>\u001b[0;34m\u001b[0m\n\u001b[1;32m     15\u001b[0m   \u001b[0mmsp\u001b[0m\u001b[0;34m.\u001b[0m\u001b[0madd_lwpolyline\u001b[0m\u001b[0;34m(\u001b[0m\u001b[0ma\u001b[0m\u001b[0;34m,\u001b[0m \u001b[0mclose\u001b[0m \u001b[0;34m=\u001b[0m \u001b[0;32mTrue\u001b[0m\u001b[0;34m,\u001b[0m \u001b[0mdxfattribs\u001b[0m\u001b[0;34m=\u001b[0m \u001b[0;34m{\u001b[0m\u001b[0;34m\"layer\"\u001b[0m\u001b[0;34m:\u001b[0m \u001b[0mstr\u001b[0m\u001b[0;34m(\u001b[0m\u001b[0mb\u001b[0m\u001b[0;34m)\u001b[0m\u001b[0;34m}\u001b[0m\u001b[0;34m)\u001b[0m\u001b[0;34m\u001b[0m\u001b[0;34m\u001b[0m\u001b[0m\n\u001b[1;32m     16\u001b[0m \u001b[0;34m\u001b[0m\u001b[0m\n\u001b[0;32m---> 17\u001b[0;31m   \u001b[0mmtext\u001b[0m \u001b[0;34m=\u001b[0m \u001b[0mmsp\u001b[0m\u001b[0;34m.\u001b[0m\u001b[0madd_mtext\u001b[0m\u001b[0;34m(\u001b[0m\u001b[0;34m(\u001b[0m\u001b[0;34m\"FS :\"\u001b[0m\u001b[0;34m,\u001b[0m \u001b[0mstr\u001b[0m\u001b[0;34m(\u001b[0m\u001b[0mc\u001b[0m\u001b[0;34m.\u001b[0m\u001b[0mround\u001b[0m\u001b[0;34m(\u001b[0m\u001b[0;36m3\u001b[0m\u001b[0;34m)\u001b[0m\u001b[0;34m)\u001b[0m\u001b[0;34m)\u001b[0m\u001b[0;34m,\u001b[0m \u001b[0mdxfattribs\u001b[0m\u001b[0;34m=\u001b[0m\u001b[0;34m{\u001b[0m\u001b[0;34m\"style\"\u001b[0m\u001b[0;34m:\u001b[0m \u001b[0;34m\"OpenSans\"\u001b[0m\u001b[0;34m}\u001b[0m\u001b[0;34m)\u001b[0m\u001b[0;34m.\u001b[0m\u001b[0mset_placement\u001b[0m\u001b[0;34m(\u001b[0m\u001b[0;34m(\u001b[0m\u001b[0md\u001b[0m\u001b[0;34m.\u001b[0m\u001b[0mx\u001b[0m \u001b[0;34m,\u001b[0m \u001b[0md\u001b[0m\u001b[0;34m.\u001b[0m\u001b[0my\u001b[0m\u001b[0;34m)\u001b[0m\u001b[0;34m,\u001b[0m \u001b[0malign\u001b[0m\u001b[0;34m=\u001b[0m\u001b[0mTextEntityAlignment\u001b[0m\u001b[0;34m.\u001b[0m\u001b[0mLEFT\u001b[0m\u001b[0;34m)\u001b[0m\u001b[0;34m\u001b[0m\u001b[0;34m\u001b[0m\u001b[0m\n\u001b[0m\u001b[1;32m     18\u001b[0m   \u001b[0mmtext\u001b[0m\u001b[0;34m.\u001b[0m\u001b[0mset_bg_color\u001b[0m\u001b[0;34m(\u001b[0m\u001b[0;36m6\u001b[0m\u001b[0;34m,\u001b[0m \u001b[0mscale\u001b[0m\u001b[0;34m=\u001b[0m\u001b[0;36m1.5\u001b[0m\u001b[0;34m)\u001b[0m\u001b[0;34m\u001b[0m\u001b[0;34m\u001b[0m\u001b[0m\n\u001b[1;32m     19\u001b[0m \u001b[0;34m\u001b[0m\u001b[0m\n",
            "\u001b[0;31mAttributeError\u001b[0m: 'MText' object has no attribute 'set_placement'"
          ]
        }
      ]
    },
    {
      "cell_type": "code",
      "source": [
        "###### Creacion del AUTOCAD #######\n",
        "#########################################################################################\n",
        "#########################################################################################\n",
        "from ezdxf.enums import TextEntityAlignment\n",
        "doc = ezdxf.new(\"R2018\", setup = True)\n",
        "msp = doc.modelspace()\n",
        "i = 0\n",
        "while i < len(resultados_2[\"pilar\"]):\n",
        "  hatch = msp.add_hatch(color= 253) ### AJUSTAR LOS COLORES\n",
        "  hatch.set_pattern_fill(\"ANSI31\", scale=0.5, color = 170) ### AJUSTAR LOS COLORES\n",
        "  a = resultados_2.iloc[i, 0] ## busqueda de la linea \n",
        "  b = resultados_2.iloc[i, 1] ## busqueda de la capa \n",
        "  c = resultados_2.iloc[i, 2] ## valor del FS\n",
        "  d = centroides[i]  ### valor de los centroides\n",
        "  msp.add_lwpolyline(a, close = True, dxfattribs= {\"layer\": str(b)})\n",
        "  msp.add_text((\"FS :\", str(c.round(3))), height= 1, dxfattribs={\"style\": \"LiberationSerif\"}\n",
        "               ).set_placement((d.x , d.y), align=TextEntityAlignment.LEFT)\n",
        "  hatch.paths.add_polyline_path(polilineas[i], is_closed=True)\n",
        "  i = i + 1\n",
        "doc.saveas(\"AUTOCAD DE PRUEBA color 170.dxf\")\n"
      ],
      "metadata": {
        "id": "w-dsT4ZtdLKE"
      },
      "execution_count": null,
      "outputs": []
    },
    {
      "cell_type": "markdown",
      "source": [
        "estandarizado de variables para que tome los colores segun una escala"
      ],
      "metadata": {
        "id": "PzbcvqYK6OKx"
      }
    },
    {
      "cell_type": "code",
      "source": [
        "resultados_2[\"factor de seguridad\"]"
      ],
      "metadata": {
        "colab": {
          "base_uri": "https://localhost:8080/"
        },
        "id": "p3zzT6pExrMF",
        "outputId": "0ce2a0c1-38d9-47e8-f3a7-d928d98bbbe1"
      },
      "execution_count": null,
      "outputs": [
        {
          "output_type": "execute_result",
          "data": {
            "text/plain": [
              "7    1.791556\n",
              "6    1.899748\n",
              "4    3.070684\n",
              "5    2.963310\n",
              "Name: factor de seguridad, dtype: float64"
            ]
          },
          "metadata": {},
          "execution_count": 71
        }
      ]
    },
    {
      "cell_type": "code",
      "source": [
        "fs = resultados_2[\"factor de seguridad\"].values"
      ],
      "metadata": {
        "id": "URvELOaI0OJ3"
      },
      "execution_count": null,
      "outputs": []
    },
    {
      "cell_type": "code",
      "source": [
        "fs"
      ],
      "metadata": {
        "colab": {
          "base_uri": "https://localhost:8080/"
        },
        "id": "4543d91k0kMR",
        "outputId": "0d36d5e8-e8f4-41cd-9279-518fc6c01b93"
      },
      "execution_count": null,
      "outputs": [
        {
          "output_type": "execute_result",
          "data": {
            "text/plain": [
              "array([1.79155604, 1.89974777, 3.07068444, 2.96330961])"
            ]
          },
          "metadata": {},
          "execution_count": 81
        }
      ]
    },
    {
      "cell_type": "code",
      "source": [
        "from sklearn.preprocessing import MinMaxScaler\n",
        "scaler = MinMaxScaler(feature_range= (10,170))"
      ],
      "metadata": {
        "id": "oPy2euS8ZcQj"
      },
      "execution_count": null,
      "outputs": []
    },
    {
      "cell_type": "code",
      "source": [
        "from sklearn.preprocessing import MinMaxScaler\n",
        "scaler = MinMaxScaler(feature_range= (10,170))\n",
        "\n",
        "trans_fs = scaler.fit_transform(fs.reshape(-1, 1))\n",
        "\n",
        "trans_fs_round = trans_fs.round(-1)\n",
        "\n",
        "###### Creacion del AUTOCAD #######\n",
        "#########################################################################################\n",
        "#########################################################################################\n",
        "from ezdxf.enums import TextEntityAlignment\n",
        "doc = ezdxf.new(\"R2018\", setup = True)\n",
        "msp = doc.modelspace()\n",
        "i = 0\n",
        "while i < len(resultados_2[\"pilar\"]):\n",
        "  hatch = msp.add_hatch(color= float(trans_fs_round[i])) ### AJUSTAR LOS COLORES\n",
        "#  hatch.set_pattern_fill(\"ANSI31\", scale=0.5, color = float(trans_fs_round[i])) ### AJUSTAR LOS COLORES\n",
        "  a = resultados_2.iloc[i, 0] ## busqueda de la linea \n",
        "  b = resultados_2.iloc[i, 1] ## busqueda de la capa \n",
        "  c = resultados_2.iloc[i, 2] ## valor del FS\n",
        "  d = centroides[i]  ### valor de los centroides\n",
        "  msp.add_lwpolyline(a, close = True, dxfattribs= {\"layer\": str(b)})\n",
        "  msp.add_text((\"FS :\", str(c.round(3))), height= 1, dxfattribs={\"style\": \"LiberationSerif\"}\n",
        "               ).set_placement((d.x , d.y), align=TextEntityAlignment.LEFT)\n",
        "  hatch.paths.add_polyline_path(polilineas[i], is_closed=True)\n",
        "  i = i + 1\n",
        "doc.saveas(\"AUTOCAD DE PRUEBA DE COLOR VER 7.dxf\")\n",
        "\n"
      ],
      "metadata": {
        "id": "Hksp8ltGxxCT"
      },
      "execution_count": null,
      "outputs": []
    },
    {
      "cell_type": "code",
      "source": [
        "trans_fs = scaler.fit_transform(fs.reshape(-1, 1))"
      ],
      "metadata": {
        "id": "9KSbIkyJz7u-"
      },
      "execution_count": null,
      "outputs": []
    },
    {
      "cell_type": "code",
      "source": [
        "trans_fs"
      ],
      "metadata": {
        "colab": {
          "base_uri": "https://localhost:8080/"
        },
        "id": "VRDp5DHR0olz",
        "outputId": "27a29b91-2fc7-4322-96c5-884915d08ce9"
      },
      "execution_count": null,
      "outputs": [
        {
          "output_type": "execute_result",
          "data": {
            "text/plain": [
              "array([[ 10.        ],\n",
              "       [ 23.5331812 ],\n",
              "       [170.        ],\n",
              "       [156.56900002]])"
            ]
          },
          "metadata": {},
          "execution_count": 127
        }
      ]
    },
    {
      "cell_type": "code",
      "source": [
        "trans_fs_round = trans_fs.round(-1)"
      ],
      "metadata": {
        "id": "VVK-Xqz31PEb"
      },
      "execution_count": null,
      "outputs": []
    },
    {
      "cell_type": "code",
      "source": [
        "trans_fs_round"
      ],
      "metadata": {
        "colab": {
          "base_uri": "https://localhost:8080/"
        },
        "id": "1eg1tkNM1UI3",
        "outputId": "dcc08611-dc3e-4f51-aa6b-99655bcf805a"
      },
      "execution_count": null,
      "outputs": [
        {
          "output_type": "execute_result",
          "data": {
            "text/plain": [
              "array([[ 10.],\n",
              "       [ 20.],\n",
              "       [170.],\n",
              "       [160.]])"
            ]
          },
          "metadata": {},
          "execution_count": 125
        }
      ]
    },
    {
      "cell_type": "code",
      "source": [
        "float(trans_fs_round[0])"
      ],
      "metadata": {
        "colab": {
          "base_uri": "https://localhost:8080/"
        },
        "id": "SBDzMUYo1Z1p",
        "outputId": "8212a500-a31a-4c21-9158-ddaa0aa05b44"
      },
      "execution_count": null,
      "outputs": [
        {
          "output_type": "execute_result",
          "data": {
            "text/plain": [
              "140.0"
            ]
          },
          "metadata": {},
          "execution_count": 120
        }
      ]
    },
    {
      "cell_type": "markdown",
      "source": [
        "#creacion del autocad de salida con colores y todo !!!!!!!!!"
      ],
      "metadata": {
        "id": "o4F9VDcT6IBi"
      }
    },
    {
      "cell_type": "code",
      "source": [
        "###### Creacion del AUTOCAD #######\n",
        "#########################################################################################\n",
        "#########################################################################################\n",
        "from ezdxf.enums import TextEntityAlignment\n",
        "doc = ezdxf.new(\"R2018\", setup = True)\n",
        "msp = doc.modelspace()\n",
        "i = 0\n",
        "while i < len(resultados_2[\"pilar\"]):\n",
        "  hatch = msp.add_hatch(color= float(trans_fs_round[i])) ### AJUSTAR LOS COLORES\n",
        "#  hatch.set_pattern_fill(\"ANSI31\", scale=0.5, color = float(trans_fs_round[i])) ### AJUSTAR LOS COLORES\n",
        "  a = resultados_2.iloc[i, 0] ## busqueda de la linea \n",
        "  b = resultados_2.iloc[i, 1] ## busqueda de la capa \n",
        "  c = resultados_2.iloc[i, 2] ## valor del FS\n",
        "  d = centroides[i]  ### valor de los centroides\n",
        "  msp.add_lwpolyline(a, close = True, dxfattribs= {\"layer\": str(b)})\n",
        "  msp.add_text((\"FS :\", str(c.round(3))), height= 1, dxfattribs={\"style\": \"LiberationSerif\"}\n",
        "               ).set_placement((d.x , d.y), align=TextEntityAlignment.LEFT)\n",
        "  hatch.paths.add_polyline_path(polilineas[i], is_closed=True)\n",
        "  i = i + 1\n",
        "doc.saveas(\"AUTOCAD DE PRUEBA DE COLOR VER 7.dxf\")"
      ],
      "metadata": {
        "id": "xjjo43GY1ZzO"
      },
      "execution_count": null,
      "outputs": []
    },
    {
      "cell_type": "markdown",
      "source": [
        "#creacion de la leyenda"
      ],
      "metadata": {
        "id": "alo3bbvO6iaA"
      }
    },
    {
      "cell_type": "code",
      "source": [],
      "metadata": {
        "id": "4Kzlw1_01Zws"
      },
      "execution_count": null,
      "outputs": []
    },
    {
      "cell_type": "code",
      "source": [],
      "metadata": {
        "id": "DOIa8EBW1Ztm"
      },
      "execution_count": null,
      "outputs": []
    },
    {
      "cell_type": "code",
      "source": [],
      "metadata": {
        "id": "0OTwGb7N1Zni"
      },
      "execution_count": null,
      "outputs": []
    },
    {
      "cell_type": "code",
      "source": [
        "ezdxf.colors.CYAN"
      ],
      "metadata": {
        "colab": {
          "base_uri": "https://localhost:8080/"
        },
        "id": "vwKUTT-0lj-r",
        "outputId": "3c3a0606-9192-4e14-a7fb-9adbcda22478"
      },
      "execution_count": null,
      "outputs": [
        {
          "output_type": "execute_result",
          "data": {
            "text/plain": [
              "4"
            ]
          },
          "metadata": {},
          "execution_count": 70
        }
      ]
    },
    {
      "cell_type": "code",
      "source": [
        "ezdxf.colors.rgb2int((0,0,255))"
      ],
      "metadata": {
        "colab": {
          "base_uri": "https://localhost:8080/"
        },
        "id": "6vIbjN1IkQbL",
        "outputId": "424ef76d-6671-4d2d-9642-a8f27725caf6"
      },
      "execution_count": null,
      "outputs": [
        {
          "output_type": "execute_result",
          "data": {
            "text/plain": [
              "255"
            ]
          },
          "metadata": {},
          "execution_count": 66
        }
      ]
    },
    {
      "cell_type": "code",
      "source": [
        "doc = ezdxf.new(\"R2000\")\n",
        "msp = doc.modelspace()\n",
        "\n",
        "# by default a solid fill hatch with fill color=7 (white/black)\n",
        "hatch = msp.add_hatch(color= 10)\n",
        "hatch.set_pattern_fill(\"ANSI31\", scale=0.5, color = 3)\n",
        "# every boundary path is a 2D element\n",
        "# vertex format for the polyline path is: (x, y[, bulge])\n",
        "# there are no bulge values in this example\n",
        "hatch.paths.add_polyline_path(lista_zip, is_closed=True)\n",
        "\n",
        "doc.saveas(\"solid_hatch_version 3 color 10.dxf\")"
      ],
      "metadata": {
        "id": "qKmJaBIxX_VC"
      },
      "execution_count": null,
      "outputs": []
    },
    {
      "cell_type": "code",
      "source": [
        "doc = ezdxf.new(\"R2000\")\n",
        "msp = doc.modelspace()\n",
        "\n",
        "# by default a solid fill hatch with fill color=7 (white/black)\n",
        "hatch = msp.add_hatch(color=2)\n",
        "\n",
        "# every boundary path is a 2D element\n",
        "# vertex format for the polyline path is: (x, y[, bulge])\n",
        "# there are no bulge values in this example\n",
        "hatch.paths.add_polyline_path(\n",
        "    [(0, 0), (10, 0), (10, 10), (0, 10)], is_closed=True\n",
        ")\n",
        "\n",
        "doc.saveas(\"solid_hatch_polyline_path.dxf\")"
      ],
      "metadata": {
        "id": "soJV-0MUWiFC"
      },
      "execution_count": null,
      "outputs": []
    },
    {
      "cell_type": "code",
      "source": [],
      "metadata": {
        "id": "voRn6484WiCC"
      },
      "execution_count": null,
      "outputs": []
    },
    {
      "cell_type": "code",
      "source": [],
      "metadata": {
        "id": "CU1RGXPjWh_A"
      },
      "execution_count": null,
      "outputs": []
    },
    {
      "cell_type": "code",
      "source": [],
      "metadata": {
        "id": "pMzwOCmLWh8b"
      },
      "execution_count": null,
      "outputs": []
    },
    {
      "cell_type": "code",
      "source": [],
      "metadata": {
        "id": "0lxSotRveZup"
      },
      "execution_count": null,
      "outputs": []
    },
    {
      "cell_type": "code",
      "source": [],
      "metadata": {
        "id": "T7jhaaD1eZrc"
      },
      "execution_count": null,
      "outputs": []
    },
    {
      "cell_type": "code",
      "source": [
        "### EXPORTACION DE LOS RESULTADOS EN FORMA DE ACAD ###\n",
        "import ezdxf\n",
        "\n",
        "doc = ezdxf.new(\"R2000\")\n",
        "msp = doc.modelspace()\n",
        "\n",
        "\n",
        "i = 0\n",
        "while i <len(resultados_2):\n",
        "  xx = resultados_2.iloc[i, 0]\n",
        "  msp.add_lwpolyline(x.append_points(resultados_2.iloc[i, 0][-1]))\n",
        "  i = i + 1\n",
        "\n",
        "doc.saveas(\"polilineas_prueba_1.dxf\")"
      ],
      "metadata": {
        "colab": {
          "base_uri": "https://localhost:8080/",
          "height": 356
        },
        "id": "XbThbrlddQO0",
        "outputId": "80d7c632-e20a-4180-8517-b7548fb60d9e"
      },
      "execution_count": null,
      "outputs": [
        {
          "output_type": "error",
          "ename": "AttributeError",
          "evalue": "ignored",
          "traceback": [
            "\u001b[0;31m---------------------------------------------------------------------------\u001b[0m",
            "\u001b[0;31mAttributeError\u001b[0m                            Traceback (most recent call last)",
            "\u001b[0;32m<ipython-input-62-96c60c4a8eb1>\u001b[0m in \u001b[0;36m<module>\u001b[0;34m\u001b[0m\n\u001b[1;32m      9\u001b[0m \u001b[0;32mwhile\u001b[0m \u001b[0mi\u001b[0m \u001b[0;34m<\u001b[0m\u001b[0mlen\u001b[0m\u001b[0;34m(\u001b[0m\u001b[0mresultados_2\u001b[0m\u001b[0;34m)\u001b[0m\u001b[0;34m:\u001b[0m\u001b[0;34m\u001b[0m\u001b[0;34m\u001b[0m\u001b[0m\n\u001b[1;32m     10\u001b[0m   \u001b[0mxx\u001b[0m \u001b[0;34m=\u001b[0m \u001b[0mresultados_2\u001b[0m\u001b[0;34m.\u001b[0m\u001b[0miloc\u001b[0m\u001b[0;34m[\u001b[0m\u001b[0mi\u001b[0m\u001b[0;34m,\u001b[0m \u001b[0;36m0\u001b[0m\u001b[0;34m]\u001b[0m\u001b[0;34m\u001b[0m\u001b[0;34m\u001b[0m\u001b[0m\n\u001b[0;32m---> 11\u001b[0;31m   \u001b[0mmsp\u001b[0m\u001b[0;34m.\u001b[0m\u001b[0madd_lwpolyline\u001b[0m\u001b[0;34m(\u001b[0m\u001b[0mx\u001b[0m\u001b[0;34m.\u001b[0m\u001b[0mappend_points\u001b[0m\u001b[0;34m(\u001b[0m\u001b[0mresultados_2\u001b[0m\u001b[0;34m.\u001b[0m\u001b[0miloc\u001b[0m\u001b[0;34m[\u001b[0m\u001b[0mi\u001b[0m\u001b[0;34m,\u001b[0m \u001b[0;36m0\u001b[0m\u001b[0;34m]\u001b[0m\u001b[0;34m[\u001b[0m\u001b[0;34m-\u001b[0m\u001b[0;36m1\u001b[0m\u001b[0;34m]\u001b[0m\u001b[0;34m)\u001b[0m\u001b[0;34m)\u001b[0m\u001b[0;34m\u001b[0m\u001b[0;34m\u001b[0m\u001b[0m\n\u001b[0m\u001b[1;32m     12\u001b[0m   \u001b[0mi\u001b[0m \u001b[0;34m=\u001b[0m \u001b[0mi\u001b[0m \u001b[0;34m+\u001b[0m \u001b[0;36m1\u001b[0m\u001b[0;34m\u001b[0m\u001b[0;34m\u001b[0m\u001b[0m\n\u001b[1;32m     13\u001b[0m \u001b[0;34m\u001b[0m\u001b[0m\n",
            "\u001b[0;32m/usr/local/lib/python3.8/dist-packages/pandas/core/generic.py\u001b[0m in \u001b[0;36m__getattr__\u001b[0;34m(self, name)\u001b[0m\n\u001b[1;32m   5485\u001b[0m         ):\n\u001b[1;32m   5486\u001b[0m             \u001b[0;32mreturn\u001b[0m \u001b[0mself\u001b[0m\u001b[0;34m[\u001b[0m\u001b[0mname\u001b[0m\u001b[0;34m]\u001b[0m\u001b[0;34m\u001b[0m\u001b[0;34m\u001b[0m\u001b[0m\n\u001b[0;32m-> 5487\u001b[0;31m         \u001b[0;32mreturn\u001b[0m \u001b[0mobject\u001b[0m\u001b[0;34m.\u001b[0m\u001b[0m__getattribute__\u001b[0m\u001b[0;34m(\u001b[0m\u001b[0mself\u001b[0m\u001b[0;34m,\u001b[0m \u001b[0mname\u001b[0m\u001b[0;34m)\u001b[0m\u001b[0;34m\u001b[0m\u001b[0;34m\u001b[0m\u001b[0m\n\u001b[0m\u001b[1;32m   5488\u001b[0m \u001b[0;34m\u001b[0m\u001b[0m\n\u001b[1;32m   5489\u001b[0m     \u001b[0;32mdef\u001b[0m \u001b[0m__setattr__\u001b[0m\u001b[0;34m(\u001b[0m\u001b[0mself\u001b[0m\u001b[0;34m,\u001b[0m \u001b[0mname\u001b[0m\u001b[0;34m:\u001b[0m \u001b[0mstr\u001b[0m\u001b[0;34m,\u001b[0m \u001b[0mvalue\u001b[0m\u001b[0;34m)\u001b[0m \u001b[0;34m->\u001b[0m \u001b[0;32mNone\u001b[0m\u001b[0;34m:\u001b[0m\u001b[0;34m\u001b[0m\u001b[0;34m\u001b[0m\u001b[0m\n",
            "\u001b[0;31mAttributeError\u001b[0m: 'DataFrame' object has no attribute 'append_points'"
          ]
        }
      ]
    },
    {
      "cell_type": "code",
      "source": [],
      "metadata": {
        "id": "NB6GXz_YdQMm"
      },
      "execution_count": null,
      "outputs": []
    },
    {
      "cell_type": "code",
      "source": [],
      "metadata": {
        "id": "FVCG5TiRdQKg"
      },
      "execution_count": null,
      "outputs": []
    },
    {
      "cell_type": "code",
      "source": [],
      "metadata": {
        "id": "Lh2C3T3Zc4_R"
      },
      "execution_count": null,
      "outputs": []
    },
    {
      "cell_type": "code",
      "source": [],
      "metadata": {
        "id": "ERXKz0iVc48q"
      },
      "execution_count": null,
      "outputs": []
    },
    {
      "cell_type": "code",
      "source": [],
      "metadata": {
        "id": "XRhR1cL6ctBI"
      },
      "execution_count": null,
      "outputs": []
    },
    {
      "cell_type": "code",
      "source": [
        "datos"
      ],
      "metadata": {
        "colab": {
          "base_uri": "https://localhost:8080/",
          "height": 423
        },
        "id": "AoajLvOqPO0x",
        "outputId": "9ae0e88f-8dae-45a9-aad2-2ee4c74044ac"
      },
      "execution_count": null,
      "outputs": [
        {
          "output_type": "execute_result",
          "data": {
            "text/plain": [
              "                                             polilinea           x  \\\n",
              "0    [(509.8859767648045, 1054.974992662914, 0.0, 0...  509.885977   \n",
              "1    [(509.8859767648045, 1054.974992662914, 0.0, 0...  511.685281   \n",
              "2    [(509.8859767648045, 1054.974992662914, 0.0, 0...  514.307731   \n",
              "3    [(509.8859767648045, 1054.974992662914, 0.0, 0...  514.281200   \n",
              "4    [(509.8859767648045, 1054.974992662914, 0.0, 0...  514.312800   \n",
              "..                                                 ...         ...   \n",
              "123  [(488.6706959005538, 1036.586092404504, 0.0, 0...  488.670696   \n",
              "124  [(488.6706959005538, 1036.586092404504, 0.0, 0...  493.847077   \n",
              "125  [(488.6706959005538, 1036.586092404504, 0.0, 0...  518.341963   \n",
              "126  [(488.6706959005538, 1036.586092404504, 0.0, 0...  513.165582   \n",
              "127  [(488.6706959005538, 1036.586092404504, 0.0, 0...  488.670696   \n",
              "\n",
              "               y             capa  \n",
              "0    1054.974993             CMET  \n",
              "1    1054.492870             CMET  \n",
              "2    1044.706768             CMET  \n",
              "3    1044.624100             CMET  \n",
              "4    1043.532100             CMET  \n",
              "..           ...              ...  \n",
              "123  1036.586092  Pilares_Ejemplo  \n",
              "124  1017.267576  Pilares_Ejemplo  \n",
              "125  1041.762462  Pilares_Ejemplo  \n",
              "126  1061.080978  Pilares_Ejemplo  \n",
              "127  1036.586092  Pilares_Ejemplo  \n",
              "\n",
              "[128 rows x 4 columns]"
            ],
            "text/html": [
              "\n",
              "  <div id=\"df-b5919bbc-afec-4ee5-aaf1-a7bdb80629c1\">\n",
              "    <div class=\"colab-df-container\">\n",
              "      <div>\n",
              "<style scoped>\n",
              "    .dataframe tbody tr th:only-of-type {\n",
              "        vertical-align: middle;\n",
              "    }\n",
              "\n",
              "    .dataframe tbody tr th {\n",
              "        vertical-align: top;\n",
              "    }\n",
              "\n",
              "    .dataframe thead th {\n",
              "        text-align: right;\n",
              "    }\n",
              "</style>\n",
              "<table border=\"1\" class=\"dataframe\">\n",
              "  <thead>\n",
              "    <tr style=\"text-align: right;\">\n",
              "      <th></th>\n",
              "      <th>polilinea</th>\n",
              "      <th>x</th>\n",
              "      <th>y</th>\n",
              "      <th>capa</th>\n",
              "    </tr>\n",
              "  </thead>\n",
              "  <tbody>\n",
              "    <tr>\n",
              "      <th>0</th>\n",
              "      <td>[(509.8859767648045, 1054.974992662914, 0.0, 0...</td>\n",
              "      <td>509.885977</td>\n",
              "      <td>1054.974993</td>\n",
              "      <td>CMET</td>\n",
              "    </tr>\n",
              "    <tr>\n",
              "      <th>1</th>\n",
              "      <td>[(509.8859767648045, 1054.974992662914, 0.0, 0...</td>\n",
              "      <td>511.685281</td>\n",
              "      <td>1054.492870</td>\n",
              "      <td>CMET</td>\n",
              "    </tr>\n",
              "    <tr>\n",
              "      <th>2</th>\n",
              "      <td>[(509.8859767648045, 1054.974992662914, 0.0, 0...</td>\n",
              "      <td>514.307731</td>\n",
              "      <td>1044.706768</td>\n",
              "      <td>CMET</td>\n",
              "    </tr>\n",
              "    <tr>\n",
              "      <th>3</th>\n",
              "      <td>[(509.8859767648045, 1054.974992662914, 0.0, 0...</td>\n",
              "      <td>514.281200</td>\n",
              "      <td>1044.624100</td>\n",
              "      <td>CMET</td>\n",
              "    </tr>\n",
              "    <tr>\n",
              "      <th>4</th>\n",
              "      <td>[(509.8859767648045, 1054.974992662914, 0.0, 0...</td>\n",
              "      <td>514.312800</td>\n",
              "      <td>1043.532100</td>\n",
              "      <td>CMET</td>\n",
              "    </tr>\n",
              "    <tr>\n",
              "      <th>...</th>\n",
              "      <td>...</td>\n",
              "      <td>...</td>\n",
              "      <td>...</td>\n",
              "      <td>...</td>\n",
              "    </tr>\n",
              "    <tr>\n",
              "      <th>123</th>\n",
              "      <td>[(488.6706959005538, 1036.586092404504, 0.0, 0...</td>\n",
              "      <td>488.670696</td>\n",
              "      <td>1036.586092</td>\n",
              "      <td>Pilares_Ejemplo</td>\n",
              "    </tr>\n",
              "    <tr>\n",
              "      <th>124</th>\n",
              "      <td>[(488.6706959005538, 1036.586092404504, 0.0, 0...</td>\n",
              "      <td>493.847077</td>\n",
              "      <td>1017.267576</td>\n",
              "      <td>Pilares_Ejemplo</td>\n",
              "    </tr>\n",
              "    <tr>\n",
              "      <th>125</th>\n",
              "      <td>[(488.6706959005538, 1036.586092404504, 0.0, 0...</td>\n",
              "      <td>518.341963</td>\n",
              "      <td>1041.762462</td>\n",
              "      <td>Pilares_Ejemplo</td>\n",
              "    </tr>\n",
              "    <tr>\n",
              "      <th>126</th>\n",
              "      <td>[(488.6706959005538, 1036.586092404504, 0.0, 0...</td>\n",
              "      <td>513.165582</td>\n",
              "      <td>1061.080978</td>\n",
              "      <td>Pilares_Ejemplo</td>\n",
              "    </tr>\n",
              "    <tr>\n",
              "      <th>127</th>\n",
              "      <td>[(488.6706959005538, 1036.586092404504, 0.0, 0...</td>\n",
              "      <td>488.670696</td>\n",
              "      <td>1036.586092</td>\n",
              "      <td>Pilares_Ejemplo</td>\n",
              "    </tr>\n",
              "  </tbody>\n",
              "</table>\n",
              "<p>128 rows × 4 columns</p>\n",
              "</div>\n",
              "      <button class=\"colab-df-convert\" onclick=\"convertToInteractive('df-b5919bbc-afec-4ee5-aaf1-a7bdb80629c1')\"\n",
              "              title=\"Convert this dataframe to an interactive table.\"\n",
              "              style=\"display:none;\">\n",
              "        \n",
              "  <svg xmlns=\"http://www.w3.org/2000/svg\" height=\"24px\"viewBox=\"0 0 24 24\"\n",
              "       width=\"24px\">\n",
              "    <path d=\"M0 0h24v24H0V0z\" fill=\"none\"/>\n",
              "    <path d=\"M18.56 5.44l.94 2.06.94-2.06 2.06-.94-2.06-.94-.94-2.06-.94 2.06-2.06.94zm-11 1L8.5 8.5l.94-2.06 2.06-.94-2.06-.94L8.5 2.5l-.94 2.06-2.06.94zm10 10l.94 2.06.94-2.06 2.06-.94-2.06-.94-.94-2.06-.94 2.06-2.06.94z\"/><path d=\"M17.41 7.96l-1.37-1.37c-.4-.4-.92-.59-1.43-.59-.52 0-1.04.2-1.43.59L10.3 9.45l-7.72 7.72c-.78.78-.78 2.05 0 2.83L4 21.41c.39.39.9.59 1.41.59.51 0 1.02-.2 1.41-.59l7.78-7.78 2.81-2.81c.8-.78.8-2.07 0-2.86zM5.41 20L4 18.59l7.72-7.72 1.47 1.35L5.41 20z\"/>\n",
              "  </svg>\n",
              "      </button>\n",
              "      \n",
              "  <style>\n",
              "    .colab-df-container {\n",
              "      display:flex;\n",
              "      flex-wrap:wrap;\n",
              "      gap: 12px;\n",
              "    }\n",
              "\n",
              "    .colab-df-convert {\n",
              "      background-color: #E8F0FE;\n",
              "      border: none;\n",
              "      border-radius: 50%;\n",
              "      cursor: pointer;\n",
              "      display: none;\n",
              "      fill: #1967D2;\n",
              "      height: 32px;\n",
              "      padding: 0 0 0 0;\n",
              "      width: 32px;\n",
              "    }\n",
              "\n",
              "    .colab-df-convert:hover {\n",
              "      background-color: #E2EBFA;\n",
              "      box-shadow: 0px 1px 2px rgba(60, 64, 67, 0.3), 0px 1px 3px 1px rgba(60, 64, 67, 0.15);\n",
              "      fill: #174EA6;\n",
              "    }\n",
              "\n",
              "    [theme=dark] .colab-df-convert {\n",
              "      background-color: #3B4455;\n",
              "      fill: #D2E3FC;\n",
              "    }\n",
              "\n",
              "    [theme=dark] .colab-df-convert:hover {\n",
              "      background-color: #434B5C;\n",
              "      box-shadow: 0px 1px 3px 1px rgba(0, 0, 0, 0.15);\n",
              "      filter: drop-shadow(0px 1px 2px rgba(0, 0, 0, 0.3));\n",
              "      fill: #FFFFFF;\n",
              "    }\n",
              "  </style>\n",
              "\n",
              "      <script>\n",
              "        const buttonEl =\n",
              "          document.querySelector('#df-b5919bbc-afec-4ee5-aaf1-a7bdb80629c1 button.colab-df-convert');\n",
              "        buttonEl.style.display =\n",
              "          google.colab.kernel.accessAllowed ? 'block' : 'none';\n",
              "\n",
              "        async function convertToInteractive(key) {\n",
              "          const element = document.querySelector('#df-b5919bbc-afec-4ee5-aaf1-a7bdb80629c1');\n",
              "          const dataTable =\n",
              "            await google.colab.kernel.invokeFunction('convertToInteractive',\n",
              "                                                     [key], {});\n",
              "          if (!dataTable) return;\n",
              "\n",
              "          const docLinkHtml = 'Like what you see? Visit the ' +\n",
              "            '<a target=\"_blank\" href=https://colab.research.google.com/notebooks/data_table.ipynb>data table notebook</a>'\n",
              "            + ' to learn more about interactive tables.';\n",
              "          element.innerHTML = '';\n",
              "          dataTable['output_type'] = 'display_data';\n",
              "          await google.colab.output.renderOutput(dataTable, element);\n",
              "          const docLink = document.createElement('div');\n",
              "          docLink.innerHTML = docLinkHtml;\n",
              "          element.appendChild(docLink);\n",
              "        }\n",
              "      </script>\n",
              "    </div>\n",
              "  </div>\n",
              "  "
            ]
          },
          "metadata": {},
          "execution_count": 27
        }
      ]
    },
    {
      "cell_type": "code",
      "source": [
        "datos = geo.GeoDataFrame(data = datos)"
      ],
      "metadata": {
        "id": "Zfarh7VJPOyb"
      },
      "execution_count": null,
      "outputs": []
    },
    {
      "cell_type": "code",
      "source": [
        "datos"
      ],
      "metadata": {
        "colab": {
          "base_uri": "https://localhost:8080/",
          "height": 175
        },
        "id": "AvAFOpaVS0hO",
        "outputId": "a13ffacd-c959-4300-9c9b-da82ad944311"
      },
      "execution_count": null,
      "outputs": [
        {
          "output_type": "execute_result",
          "data": {
            "text/plain": [
              "                                               pilar\n",
              "7  [(509.8859767648045, 1054.974992662914, 0.0, 0...\n",
              "6  [(515.7068386864775, 1058.02599288885, 0.0, 0....\n",
              "4  [(485.8802689305066, 1052.270056492004, 0.0, 0...\n",
              "5  [(532.2373999999999, 1083.3211, 0.0, 0.0, 0.0)..."
            ],
            "text/html": [
              "\n",
              "  <div id=\"df-2dc7041e-fb40-4e5d-8b37-821d3f6f3b1c\">\n",
              "    <div class=\"colab-df-container\">\n",
              "      <div>\n",
              "<style scoped>\n",
              "    .dataframe tbody tr th:only-of-type {\n",
              "        vertical-align: middle;\n",
              "    }\n",
              "\n",
              "    .dataframe tbody tr th {\n",
              "        vertical-align: top;\n",
              "    }\n",
              "\n",
              "    .dataframe thead th {\n",
              "        text-align: right;\n",
              "    }\n",
              "</style>\n",
              "<table border=\"1\" class=\"dataframe\">\n",
              "  <thead>\n",
              "    <tr style=\"text-align: right;\">\n",
              "      <th></th>\n",
              "      <th>pilar</th>\n",
              "    </tr>\n",
              "  </thead>\n",
              "  <tbody>\n",
              "    <tr>\n",
              "      <th>7</th>\n",
              "      <td>[(509.8859767648045, 1054.974992662914, 0.0, 0...</td>\n",
              "    </tr>\n",
              "    <tr>\n",
              "      <th>6</th>\n",
              "      <td>[(515.7068386864775, 1058.02599288885, 0.0, 0....</td>\n",
              "    </tr>\n",
              "    <tr>\n",
              "      <th>4</th>\n",
              "      <td>[(485.8802689305066, 1052.270056492004, 0.0, 0...</td>\n",
              "    </tr>\n",
              "    <tr>\n",
              "      <th>5</th>\n",
              "      <td>[(532.2373999999999, 1083.3211, 0.0, 0.0, 0.0)...</td>\n",
              "    </tr>\n",
              "  </tbody>\n",
              "</table>\n",
              "</div>\n",
              "      <button class=\"colab-df-convert\" onclick=\"convertToInteractive('df-2dc7041e-fb40-4e5d-8b37-821d3f6f3b1c')\"\n",
              "              title=\"Convert this dataframe to an interactive table.\"\n",
              "              style=\"display:none;\">\n",
              "        \n",
              "  <svg xmlns=\"http://www.w3.org/2000/svg\" height=\"24px\"viewBox=\"0 0 24 24\"\n",
              "       width=\"24px\">\n",
              "    <path d=\"M0 0h24v24H0V0z\" fill=\"none\"/>\n",
              "    <path d=\"M18.56 5.44l.94 2.06.94-2.06 2.06-.94-2.06-.94-.94-2.06-.94 2.06-2.06.94zm-11 1L8.5 8.5l.94-2.06 2.06-.94-2.06-.94L8.5 2.5l-.94 2.06-2.06.94zm10 10l.94 2.06.94-2.06 2.06-.94-2.06-.94-.94-2.06-.94 2.06-2.06.94z\"/><path d=\"M17.41 7.96l-1.37-1.37c-.4-.4-.92-.59-1.43-.59-.52 0-1.04.2-1.43.59L10.3 9.45l-7.72 7.72c-.78.78-.78 2.05 0 2.83L4 21.41c.39.39.9.59 1.41.59.51 0 1.02-.2 1.41-.59l7.78-7.78 2.81-2.81c.8-.78.8-2.07 0-2.86zM5.41 20L4 18.59l7.72-7.72 1.47 1.35L5.41 20z\"/>\n",
              "  </svg>\n",
              "      </button>\n",
              "      \n",
              "  <style>\n",
              "    .colab-df-container {\n",
              "      display:flex;\n",
              "      flex-wrap:wrap;\n",
              "      gap: 12px;\n",
              "    }\n",
              "\n",
              "    .colab-df-convert {\n",
              "      background-color: #E8F0FE;\n",
              "      border: none;\n",
              "      border-radius: 50%;\n",
              "      cursor: pointer;\n",
              "      display: none;\n",
              "      fill: #1967D2;\n",
              "      height: 32px;\n",
              "      padding: 0 0 0 0;\n",
              "      width: 32px;\n",
              "    }\n",
              "\n",
              "    .colab-df-convert:hover {\n",
              "      background-color: #E2EBFA;\n",
              "      box-shadow: 0px 1px 2px rgba(60, 64, 67, 0.3), 0px 1px 3px 1px rgba(60, 64, 67, 0.15);\n",
              "      fill: #174EA6;\n",
              "    }\n",
              "\n",
              "    [theme=dark] .colab-df-convert {\n",
              "      background-color: #3B4455;\n",
              "      fill: #D2E3FC;\n",
              "    }\n",
              "\n",
              "    [theme=dark] .colab-df-convert:hover {\n",
              "      background-color: #434B5C;\n",
              "      box-shadow: 0px 1px 3px 1px rgba(0, 0, 0, 0.15);\n",
              "      filter: drop-shadow(0px 1px 2px rgba(0, 0, 0, 0.3));\n",
              "      fill: #FFFFFF;\n",
              "    }\n",
              "  </style>\n",
              "\n",
              "      <script>\n",
              "        const buttonEl =\n",
              "          document.querySelector('#df-2dc7041e-fb40-4e5d-8b37-821d3f6f3b1c button.colab-df-convert');\n",
              "        buttonEl.style.display =\n",
              "          google.colab.kernel.accessAllowed ? 'block' : 'none';\n",
              "\n",
              "        async function convertToInteractive(key) {\n",
              "          const element = document.querySelector('#df-2dc7041e-fb40-4e5d-8b37-821d3f6f3b1c');\n",
              "          const dataTable =\n",
              "            await google.colab.kernel.invokeFunction('convertToInteractive',\n",
              "                                                     [key], {});\n",
              "          if (!dataTable) return;\n",
              "\n",
              "          const docLinkHtml = 'Like what you see? Visit the ' +\n",
              "            '<a target=\"_blank\" href=https://colab.research.google.com/notebooks/data_table.ipynb>data table notebook</a>'\n",
              "            + ' to learn more about interactive tables.';\n",
              "          element.innerHTML = '';\n",
              "          dataTable['output_type'] = 'display_data';\n",
              "          await google.colab.output.renderOutput(dataTable, element);\n",
              "          const docLink = document.createElement('div');\n",
              "          docLink.innerHTML = docLinkHtml;\n",
              "          element.appendChild(docLink);\n",
              "        }\n",
              "      </script>\n",
              "    </div>\n",
              "  </div>\n",
              "  "
            ]
          },
          "metadata": {},
          "execution_count": 110
        }
      ]
    },
    {
      "cell_type": "code",
      "source": [
        "type(datos)"
      ],
      "metadata": {
        "colab": {
          "base_uri": "https://localhost:8080/"
        },
        "id": "PgbbeAvVTN4e",
        "outputId": "5f0f0a62-3aea-48b7-f2fa-55c9640243eb"
      },
      "execution_count": null,
      "outputs": [
        {
          "output_type": "execute_result",
          "data": {
            "text/plain": [
              "geopandas.geodataframe.GeoDataFrame"
            ]
          },
          "metadata": {},
          "execution_count": 115
        }
      ]
    },
    {
      "cell_type": "code",
      "source": [
        "datos.pilar.length"
      ],
      "metadata": {
        "colab": {
          "base_uri": "https://localhost:8080/",
          "height": 287
        },
        "id": "3lT12e_bSoT-",
        "outputId": "95beb9ae-c7f3-4999-e012-c422c4ab6d45"
      },
      "execution_count": null,
      "outputs": [
        {
          "output_type": "error",
          "ename": "AttributeError",
          "evalue": "ignored",
          "traceback": [
            "\u001b[0;31m---------------------------------------------------------------------------\u001b[0m",
            "\u001b[0;31mAttributeError\u001b[0m                            Traceback (most recent call last)",
            "\u001b[0;32m<ipython-input-119-e83532dde8f6>\u001b[0m in \u001b[0;36m<module>\u001b[0;34m\u001b[0m\n\u001b[0;32m----> 1\u001b[0;31m \u001b[0mdatos\u001b[0m\u001b[0;34m.\u001b[0m\u001b[0mpilar\u001b[0m\u001b[0;34m.\u001b[0m\u001b[0mlength\u001b[0m\u001b[0;34m\u001b[0m\u001b[0;34m\u001b[0m\u001b[0m\n\u001b[0m",
            "\u001b[0;32m/usr/local/lib/python3.8/dist-packages/pandas/core/generic.py\u001b[0m in \u001b[0;36m__getattr__\u001b[0;34m(self, name)\u001b[0m\n\u001b[1;32m   5485\u001b[0m         ):\n\u001b[1;32m   5486\u001b[0m             \u001b[0;32mreturn\u001b[0m \u001b[0mself\u001b[0m\u001b[0;34m[\u001b[0m\u001b[0mname\u001b[0m\u001b[0;34m]\u001b[0m\u001b[0;34m\u001b[0m\u001b[0;34m\u001b[0m\u001b[0m\n\u001b[0;32m-> 5487\u001b[0;31m         \u001b[0;32mreturn\u001b[0m \u001b[0mobject\u001b[0m\u001b[0;34m.\u001b[0m\u001b[0m__getattribute__\u001b[0m\u001b[0;34m(\u001b[0m\u001b[0mself\u001b[0m\u001b[0;34m,\u001b[0m \u001b[0mname\u001b[0m\u001b[0;34m)\u001b[0m\u001b[0;34m\u001b[0m\u001b[0;34m\u001b[0m\u001b[0m\n\u001b[0m\u001b[1;32m   5488\u001b[0m \u001b[0;34m\u001b[0m\u001b[0m\n\u001b[1;32m   5489\u001b[0m     \u001b[0;32mdef\u001b[0m \u001b[0m__setattr__\u001b[0m\u001b[0;34m(\u001b[0m\u001b[0mself\u001b[0m\u001b[0;34m,\u001b[0m \u001b[0mname\u001b[0m\u001b[0;34m:\u001b[0m \u001b[0mstr\u001b[0m\u001b[0;34m,\u001b[0m \u001b[0mvalue\u001b[0m\u001b[0;34m)\u001b[0m \u001b[0;34m->\u001b[0m \u001b[0;32mNone\u001b[0m\u001b[0;34m:\u001b[0m\u001b[0;34m\u001b[0m\u001b[0;34m\u001b[0m\u001b[0m\n",
            "\u001b[0;31mAttributeError\u001b[0m: 'Series' object has no attribute 'length'"
          ]
        }
      ]
    },
    {
      "cell_type": "code",
      "source": [
        "type(datos)"
      ],
      "metadata": {
        "colab": {
          "base_uri": "https://localhost:8080/"
        },
        "id": "0s0AGxacPOwO",
        "outputId": "9bfae0fb-914b-4ced-a72b-d61a866ca684"
      },
      "execution_count": null,
      "outputs": [
        {
          "output_type": "execute_result",
          "data": {
            "text/plain": [
              "geopandas.geodataframe.GeoDataFrame"
            ]
          },
          "metadata": {},
          "execution_count": 105
        }
      ]
    },
    {
      "cell_type": "code",
      "source": [
        "lista_sigma_ci"
      ],
      "metadata": {
        "colab": {
          "base_uri": "https://localhost:8080/"
        },
        "id": "EIljZAqVOq7H",
        "outputId": "00d73f06-33b2-4b21-bb17-b6cc7772ba74"
      },
      "execution_count": null,
      "outputs": [
        {
          "output_type": "execute_result",
          "data": {
            "text/plain": [
              "[124, 124, 145, 145]"
            ]
          },
          "metadata": {},
          "execution_count": 80
        }
      ]
    },
    {
      "cell_type": "code",
      "source": [
        "x"
      ],
      "metadata": {
        "colab": {
          "base_uri": "https://localhost:8080/",
          "height": 175
        },
        "id": "JISNB2OeN1IN",
        "outputId": "a2d81985-f925-49a5-9bb3-e39a19b3a2a1"
      },
      "execution_count": null,
      "outputs": [
        {
          "output_type": "execute_result",
          "data": {
            "text/plain": [
              "                                               pilar tipo de pilar  \\\n",
              "7  [(509.8859767648045, 1054.974992662914, 0.0, 0...          CMET   \n",
              "6  [(515.7068386864775, 1058.02599288885, 0.0, 0....          CMET   \n",
              "4  [(485.8802689305066, 1052.270056492004, 0.0, 0...           PDI   \n",
              "5  [(532.2373999999999, 1083.3211, 0.0, 0.0, 0.0)...           PDI   \n",
              "\n",
              "         Área  Área Tributaria     At/Ap  Altura  Sigma Ci    mi  GSI  \n",
              "7  377.565490        599.99972  1.589128     4.3       145  18.6   86  \n",
              "6  384.589463        599.99972  1.560104     4.3       145  18.6   86  \n",
              "4  396.214405        599.99972  1.514331     4.3       145  18.6   86  \n",
              "5  376.944562        599.99972  1.591745     4.3       145  18.6   86  "
            ],
            "text/html": [
              "\n",
              "  <div id=\"df-e61758b2-6f92-4e82-8297-6f0d3f703ca0\">\n",
              "    <div class=\"colab-df-container\">\n",
              "      <div>\n",
              "<style scoped>\n",
              "    .dataframe tbody tr th:only-of-type {\n",
              "        vertical-align: middle;\n",
              "    }\n",
              "\n",
              "    .dataframe tbody tr th {\n",
              "        vertical-align: top;\n",
              "    }\n",
              "\n",
              "    .dataframe thead th {\n",
              "        text-align: right;\n",
              "    }\n",
              "</style>\n",
              "<table border=\"1\" class=\"dataframe\">\n",
              "  <thead>\n",
              "    <tr style=\"text-align: right;\">\n",
              "      <th></th>\n",
              "      <th>pilar</th>\n",
              "      <th>tipo de pilar</th>\n",
              "      <th>Área</th>\n",
              "      <th>Área Tributaria</th>\n",
              "      <th>At/Ap</th>\n",
              "      <th>Altura</th>\n",
              "      <th>Sigma Ci</th>\n",
              "      <th>mi</th>\n",
              "      <th>GSI</th>\n",
              "    </tr>\n",
              "  </thead>\n",
              "  <tbody>\n",
              "    <tr>\n",
              "      <th>7</th>\n",
              "      <td>[(509.8859767648045, 1054.974992662914, 0.0, 0...</td>\n",
              "      <td>CMET</td>\n",
              "      <td>377.565490</td>\n",
              "      <td>599.99972</td>\n",
              "      <td>1.589128</td>\n",
              "      <td>4.3</td>\n",
              "      <td>145</td>\n",
              "      <td>18.6</td>\n",
              "      <td>86</td>\n",
              "    </tr>\n",
              "    <tr>\n",
              "      <th>6</th>\n",
              "      <td>[(515.7068386864775, 1058.02599288885, 0.0, 0....</td>\n",
              "      <td>CMET</td>\n",
              "      <td>384.589463</td>\n",
              "      <td>599.99972</td>\n",
              "      <td>1.560104</td>\n",
              "      <td>4.3</td>\n",
              "      <td>145</td>\n",
              "      <td>18.6</td>\n",
              "      <td>86</td>\n",
              "    </tr>\n",
              "    <tr>\n",
              "      <th>4</th>\n",
              "      <td>[(485.8802689305066, 1052.270056492004, 0.0, 0...</td>\n",
              "      <td>PDI</td>\n",
              "      <td>396.214405</td>\n",
              "      <td>599.99972</td>\n",
              "      <td>1.514331</td>\n",
              "      <td>4.3</td>\n",
              "      <td>145</td>\n",
              "      <td>18.6</td>\n",
              "      <td>86</td>\n",
              "    </tr>\n",
              "    <tr>\n",
              "      <th>5</th>\n",
              "      <td>[(532.2373999999999, 1083.3211, 0.0, 0.0, 0.0)...</td>\n",
              "      <td>PDI</td>\n",
              "      <td>376.944562</td>\n",
              "      <td>599.99972</td>\n",
              "      <td>1.591745</td>\n",
              "      <td>4.3</td>\n",
              "      <td>145</td>\n",
              "      <td>18.6</td>\n",
              "      <td>86</td>\n",
              "    </tr>\n",
              "  </tbody>\n",
              "</table>\n",
              "</div>\n",
              "      <button class=\"colab-df-convert\" onclick=\"convertToInteractive('df-e61758b2-6f92-4e82-8297-6f0d3f703ca0')\"\n",
              "              title=\"Convert this dataframe to an interactive table.\"\n",
              "              style=\"display:none;\">\n",
              "        \n",
              "  <svg xmlns=\"http://www.w3.org/2000/svg\" height=\"24px\"viewBox=\"0 0 24 24\"\n",
              "       width=\"24px\">\n",
              "    <path d=\"M0 0h24v24H0V0z\" fill=\"none\"/>\n",
              "    <path d=\"M18.56 5.44l.94 2.06.94-2.06 2.06-.94-2.06-.94-.94-2.06-.94 2.06-2.06.94zm-11 1L8.5 8.5l.94-2.06 2.06-.94-2.06-.94L8.5 2.5l-.94 2.06-2.06.94zm10 10l.94 2.06.94-2.06 2.06-.94-2.06-.94-.94-2.06-.94 2.06-2.06.94z\"/><path d=\"M17.41 7.96l-1.37-1.37c-.4-.4-.92-.59-1.43-.59-.52 0-1.04.2-1.43.59L10.3 9.45l-7.72 7.72c-.78.78-.78 2.05 0 2.83L4 21.41c.39.39.9.59 1.41.59.51 0 1.02-.2 1.41-.59l7.78-7.78 2.81-2.81c.8-.78.8-2.07 0-2.86zM5.41 20L4 18.59l7.72-7.72 1.47 1.35L5.41 20z\"/>\n",
              "  </svg>\n",
              "      </button>\n",
              "      \n",
              "  <style>\n",
              "    .colab-df-container {\n",
              "      display:flex;\n",
              "      flex-wrap:wrap;\n",
              "      gap: 12px;\n",
              "    }\n",
              "\n",
              "    .colab-df-convert {\n",
              "      background-color: #E8F0FE;\n",
              "      border: none;\n",
              "      border-radius: 50%;\n",
              "      cursor: pointer;\n",
              "      display: none;\n",
              "      fill: #1967D2;\n",
              "      height: 32px;\n",
              "      padding: 0 0 0 0;\n",
              "      width: 32px;\n",
              "    }\n",
              "\n",
              "    .colab-df-convert:hover {\n",
              "      background-color: #E2EBFA;\n",
              "      box-shadow: 0px 1px 2px rgba(60, 64, 67, 0.3), 0px 1px 3px 1px rgba(60, 64, 67, 0.15);\n",
              "      fill: #174EA6;\n",
              "    }\n",
              "\n",
              "    [theme=dark] .colab-df-convert {\n",
              "      background-color: #3B4455;\n",
              "      fill: #D2E3FC;\n",
              "    }\n",
              "\n",
              "    [theme=dark] .colab-df-convert:hover {\n",
              "      background-color: #434B5C;\n",
              "      box-shadow: 0px 1px 3px 1px rgba(0, 0, 0, 0.15);\n",
              "      filter: drop-shadow(0px 1px 2px rgba(0, 0, 0, 0.3));\n",
              "      fill: #FFFFFF;\n",
              "    }\n",
              "  </style>\n",
              "\n",
              "      <script>\n",
              "        const buttonEl =\n",
              "          document.querySelector('#df-e61758b2-6f92-4e82-8297-6f0d3f703ca0 button.colab-df-convert');\n",
              "        buttonEl.style.display =\n",
              "          google.colab.kernel.accessAllowed ? 'block' : 'none';\n",
              "\n",
              "        async function convertToInteractive(key) {\n",
              "          const element = document.querySelector('#df-e61758b2-6f92-4e82-8297-6f0d3f703ca0');\n",
              "          const dataTable =\n",
              "            await google.colab.kernel.invokeFunction('convertToInteractive',\n",
              "                                                     [key], {});\n",
              "          if (!dataTable) return;\n",
              "\n",
              "          const docLinkHtml = 'Like what you see? Visit the ' +\n",
              "            '<a target=\"_blank\" href=https://colab.research.google.com/notebooks/data_table.ipynb>data table notebook</a>'\n",
              "            + ' to learn more about interactive tables.';\n",
              "          element.innerHTML = '';\n",
              "          dataTable['output_type'] = 'display_data';\n",
              "          await google.colab.output.renderOutput(dataTable, element);\n",
              "          const docLink = document.createElement('div');\n",
              "          docLink.innerHTML = docLinkHtml;\n",
              "          element.appendChild(docLink);\n",
              "        }\n",
              "      </script>\n",
              "    </div>\n",
              "  </div>\n",
              "  "
            ]
          },
          "metadata": {},
          "execution_count": 78
        }
      ]
    },
    {
      "cell_type": "code",
      "source": [
        "def agregar_geo(x, y):\n",
        "  i = 0\n",
        "\n",
        "  while i < len(x):\n",
        "    if i == \"CMET\":\n",
        "      HOLA = y[y[\"Litologia\"] == \"CMET\"]\n",
        "      x[\"Sigma Ci\"] = HOLA.iloc[0,1]\n",
        "      x[\"mi\"] = HOLA.iloc[0, 2]\n",
        "      x[\"GSI\"] = HOLA.iloc[0, 3]\n",
        "\n",
        "\n",
        "    if i == \"PDI\":\n",
        "      HOLA = y[y[\"Litologia\"] == \"PDI\"]\n",
        "      x[\"Sigma Ci\"] = HOLA.iloc[0,1]\n",
        "      x[\"mi\"] = HOLA.iloc[0, 2]\n",
        "      x[\"GSI\"] = HOLA.iloc[0, 3]\n",
        "\n",
        "    i = i + 1 \n",
        "\n",
        "  return x\n",
        "\n",
        "\n"
      ],
      "metadata": {
        "id": "hy_FguwPHFqP"
      },
      "execution_count": null,
      "outputs": []
    },
    {
      "cell_type": "code",
      "source": [
        "agregar_geo(data_resumen2, prop_geo)"
      ],
      "metadata": {
        "colab": {
          "base_uri": "https://localhost:8080/",
          "height": 175
        },
        "id": "hB6YaDZANkzm",
        "outputId": "cc6e58cc-ea22-4005-e59b-425adff2ff8a"
      },
      "execution_count": null,
      "outputs": [
        {
          "output_type": "execute_result",
          "data": {
            "text/plain": [
              "                                               pilar tipo de pilar  \\\n",
              "7  [(509.8859767648045, 1054.974992662914, 0.0, 0...          CMET   \n",
              "6  [(515.7068386864775, 1058.02599288885, 0.0, 0....          CMET   \n",
              "4  [(485.8802689305066, 1052.270056492004, 0.0, 0...           PDI   \n",
              "5  [(532.2373999999999, 1083.3211, 0.0, 0.0, 0.0)...           PDI   \n",
              "\n",
              "         Área  Área Tributaria     At/Ap  Altura  \n",
              "7  377.565490        599.99972  1.589128     4.3  \n",
              "6  384.589463        599.99972  1.560104     4.3  \n",
              "4  396.214405        599.99972  1.514331     4.3  \n",
              "5  376.944562        599.99972  1.591745     4.3  "
            ],
            "text/html": [
              "\n",
              "  <div id=\"df-cac9b4fa-d588-42d8-9d0a-6dab4aa71f51\">\n",
              "    <div class=\"colab-df-container\">\n",
              "      <div>\n",
              "<style scoped>\n",
              "    .dataframe tbody tr th:only-of-type {\n",
              "        vertical-align: middle;\n",
              "    }\n",
              "\n",
              "    .dataframe tbody tr th {\n",
              "        vertical-align: top;\n",
              "    }\n",
              "\n",
              "    .dataframe thead th {\n",
              "        text-align: right;\n",
              "    }\n",
              "</style>\n",
              "<table border=\"1\" class=\"dataframe\">\n",
              "  <thead>\n",
              "    <tr style=\"text-align: right;\">\n",
              "      <th></th>\n",
              "      <th>pilar</th>\n",
              "      <th>tipo de pilar</th>\n",
              "      <th>Área</th>\n",
              "      <th>Área Tributaria</th>\n",
              "      <th>At/Ap</th>\n",
              "      <th>Altura</th>\n",
              "    </tr>\n",
              "  </thead>\n",
              "  <tbody>\n",
              "    <tr>\n",
              "      <th>7</th>\n",
              "      <td>[(509.8859767648045, 1054.974992662914, 0.0, 0...</td>\n",
              "      <td>CMET</td>\n",
              "      <td>377.565490</td>\n",
              "      <td>599.99972</td>\n",
              "      <td>1.589128</td>\n",
              "      <td>4.3</td>\n",
              "    </tr>\n",
              "    <tr>\n",
              "      <th>6</th>\n",
              "      <td>[(515.7068386864775, 1058.02599288885, 0.0, 0....</td>\n",
              "      <td>CMET</td>\n",
              "      <td>384.589463</td>\n",
              "      <td>599.99972</td>\n",
              "      <td>1.560104</td>\n",
              "      <td>4.3</td>\n",
              "    </tr>\n",
              "    <tr>\n",
              "      <th>4</th>\n",
              "      <td>[(485.8802689305066, 1052.270056492004, 0.0, 0...</td>\n",
              "      <td>PDI</td>\n",
              "      <td>396.214405</td>\n",
              "      <td>599.99972</td>\n",
              "      <td>1.514331</td>\n",
              "      <td>4.3</td>\n",
              "    </tr>\n",
              "    <tr>\n",
              "      <th>5</th>\n",
              "      <td>[(532.2373999999999, 1083.3211, 0.0, 0.0, 0.0)...</td>\n",
              "      <td>PDI</td>\n",
              "      <td>376.944562</td>\n",
              "      <td>599.99972</td>\n",
              "      <td>1.591745</td>\n",
              "      <td>4.3</td>\n",
              "    </tr>\n",
              "  </tbody>\n",
              "</table>\n",
              "</div>\n",
              "      <button class=\"colab-df-convert\" onclick=\"convertToInteractive('df-cac9b4fa-d588-42d8-9d0a-6dab4aa71f51')\"\n",
              "              title=\"Convert this dataframe to an interactive table.\"\n",
              "              style=\"display:none;\">\n",
              "        \n",
              "  <svg xmlns=\"http://www.w3.org/2000/svg\" height=\"24px\"viewBox=\"0 0 24 24\"\n",
              "       width=\"24px\">\n",
              "    <path d=\"M0 0h24v24H0V0z\" fill=\"none\"/>\n",
              "    <path d=\"M18.56 5.44l.94 2.06.94-2.06 2.06-.94-2.06-.94-.94-2.06-.94 2.06-2.06.94zm-11 1L8.5 8.5l.94-2.06 2.06-.94-2.06-.94L8.5 2.5l-.94 2.06-2.06.94zm10 10l.94 2.06.94-2.06 2.06-.94-2.06-.94-.94-2.06-.94 2.06-2.06.94z\"/><path d=\"M17.41 7.96l-1.37-1.37c-.4-.4-.92-.59-1.43-.59-.52 0-1.04.2-1.43.59L10.3 9.45l-7.72 7.72c-.78.78-.78 2.05 0 2.83L4 21.41c.39.39.9.59 1.41.59.51 0 1.02-.2 1.41-.59l7.78-7.78 2.81-2.81c.8-.78.8-2.07 0-2.86zM5.41 20L4 18.59l7.72-7.72 1.47 1.35L5.41 20z\"/>\n",
              "  </svg>\n",
              "      </button>\n",
              "      \n",
              "  <style>\n",
              "    .colab-df-container {\n",
              "      display:flex;\n",
              "      flex-wrap:wrap;\n",
              "      gap: 12px;\n",
              "    }\n",
              "\n",
              "    .colab-df-convert {\n",
              "      background-color: #E8F0FE;\n",
              "      border: none;\n",
              "      border-radius: 50%;\n",
              "      cursor: pointer;\n",
              "      display: none;\n",
              "      fill: #1967D2;\n",
              "      height: 32px;\n",
              "      padding: 0 0 0 0;\n",
              "      width: 32px;\n",
              "    }\n",
              "\n",
              "    .colab-df-convert:hover {\n",
              "      background-color: #E2EBFA;\n",
              "      box-shadow: 0px 1px 2px rgba(60, 64, 67, 0.3), 0px 1px 3px 1px rgba(60, 64, 67, 0.15);\n",
              "      fill: #174EA6;\n",
              "    }\n",
              "\n",
              "    [theme=dark] .colab-df-convert {\n",
              "      background-color: #3B4455;\n",
              "      fill: #D2E3FC;\n",
              "    }\n",
              "\n",
              "    [theme=dark] .colab-df-convert:hover {\n",
              "      background-color: #434B5C;\n",
              "      box-shadow: 0px 1px 3px 1px rgba(0, 0, 0, 0.15);\n",
              "      filter: drop-shadow(0px 1px 2px rgba(0, 0, 0, 0.3));\n",
              "      fill: #FFFFFF;\n",
              "    }\n",
              "  </style>\n",
              "\n",
              "      <script>\n",
              "        const buttonEl =\n",
              "          document.querySelector('#df-cac9b4fa-d588-42d8-9d0a-6dab4aa71f51 button.colab-df-convert');\n",
              "        buttonEl.style.display =\n",
              "          google.colab.kernel.accessAllowed ? 'block' : 'none';\n",
              "\n",
              "        async function convertToInteractive(key) {\n",
              "          const element = document.querySelector('#df-cac9b4fa-d588-42d8-9d0a-6dab4aa71f51');\n",
              "          const dataTable =\n",
              "            await google.colab.kernel.invokeFunction('convertToInteractive',\n",
              "                                                     [key], {});\n",
              "          if (!dataTable) return;\n",
              "\n",
              "          const docLinkHtml = 'Like what you see? Visit the ' +\n",
              "            '<a target=\"_blank\" href=https://colab.research.google.com/notebooks/data_table.ipynb>data table notebook</a>'\n",
              "            + ' to learn more about interactive tables.';\n",
              "          element.innerHTML = '';\n",
              "          dataTable['output_type'] = 'display_data';\n",
              "          await google.colab.output.renderOutput(dataTable, element);\n",
              "          const docLink = document.createElement('div');\n",
              "          docLink.innerHTML = docLinkHtml;\n",
              "          element.appendChild(docLink);\n",
              "        }\n",
              "      </script>\n",
              "    </div>\n",
              "  </div>\n",
              "  "
            ]
          },
          "metadata": {},
          "execution_count": 71
        }
      ]
    },
    {
      "cell_type": "code",
      "source": [
        "lista_sigma_ci"
      ],
      "metadata": {
        "colab": {
          "base_uri": "https://localhost:8080/",
          "height": 165
        },
        "id": "xSI-hiF-Ljae",
        "outputId": "516372c7-ab39-4d69-c609-05725e06bebb"
      },
      "execution_count": null,
      "outputs": [
        {
          "output_type": "error",
          "ename": "NameError",
          "evalue": "ignored",
          "traceback": [
            "\u001b[0;31m---------------------------------------------------------------------------\u001b[0m",
            "\u001b[0;31mNameError\u001b[0m                                 Traceback (most recent call last)",
            "\u001b[0;32m<ipython-input-48-cf0f0e6aa67f>\u001b[0m in \u001b[0;36m<module>\u001b[0;34m\u001b[0m\n\u001b[0;32m----> 1\u001b[0;31m \u001b[0mlista_sigma_ci\u001b[0m\u001b[0;34m\u001b[0m\u001b[0;34m\u001b[0m\u001b[0m\n\u001b[0m",
            "\u001b[0;31mNameError\u001b[0m: name 'lista_sigma_ci' is not defined"
          ]
        }
      ]
    },
    {
      "cell_type": "code",
      "source": [
        "agregar_geo(data_resumen2, prop_geo)"
      ],
      "metadata": {
        "colab": {
          "base_uri": "https://localhost:8080/",
          "height": 311
        },
        "id": "bDwU2HI5JCue",
        "outputId": "5f5b3e2b-5746-4bc6-9a4a-86c358786297"
      },
      "execution_count": null,
      "outputs": [
        {
          "output_type": "error",
          "ename": "ValueError",
          "evalue": "ignored",
          "traceback": [
            "\u001b[0;31m---------------------------------------------------------------------------\u001b[0m",
            "\u001b[0;31mValueError\u001b[0m                                Traceback (most recent call last)",
            "\u001b[0;32m<ipython-input-49-01fd9beac67e>\u001b[0m in \u001b[0;36m<module>\u001b[0;34m\u001b[0m\n\u001b[0;32m----> 1\u001b[0;31m \u001b[0magregar_geo\u001b[0m\u001b[0;34m(\u001b[0m\u001b[0mdata_resumen2\u001b[0m\u001b[0;34m,\u001b[0m \u001b[0mprop_geo\u001b[0m\u001b[0;34m)\u001b[0m\u001b[0;34m\u001b[0m\u001b[0;34m\u001b[0m\u001b[0m\n\u001b[0m",
            "\u001b[0;32m<ipython-input-47-4b66f632d3a8>\u001b[0m in \u001b[0;36magregar_geo\u001b[0;34m(x, y)\u001b[0m\n\u001b[1;32m     25\u001b[0m \u001b[0;34m\u001b[0m\u001b[0m\n\u001b[1;32m     26\u001b[0m     \u001b[0mi\u001b[0m \u001b[0;34m=\u001b[0m \u001b[0mi\u001b[0m \u001b[0;34m+\u001b[0m \u001b[0;36m1\u001b[0m\u001b[0;34m\u001b[0m\u001b[0;34m\u001b[0m\u001b[0m\n\u001b[0;32m---> 27\u001b[0;31m   \u001b[0mx\u001b[0m\u001b[0;34m[\u001b[0m\u001b[0;34m\"Sigma_ci\"\u001b[0m\u001b[0;34m]\u001b[0m \u001b[0;34m=\u001b[0m \u001b[0mlista_sigma_ci\u001b[0m\u001b[0;34m\u001b[0m\u001b[0;34m\u001b[0m\u001b[0m\n\u001b[0m\u001b[1;32m     28\u001b[0m   \u001b[0mx\u001b[0m\u001b[0;34m[\u001b[0m\u001b[0;34m\"mi\"\u001b[0m\u001b[0;34m]\u001b[0m \u001b[0;34m=\u001b[0m \u001b[0mlista_mi\u001b[0m\u001b[0;34m\u001b[0m\u001b[0;34m\u001b[0m\u001b[0m\n\u001b[1;32m     29\u001b[0m   \u001b[0mx\u001b[0m\u001b[0;34m[\u001b[0m\u001b[0;34m\"GSI\"\u001b[0m\u001b[0;34m]\u001b[0m \u001b[0;34m=\u001b[0m \u001b[0mlista_gsi\u001b[0m\u001b[0;34m\u001b[0m\u001b[0;34m\u001b[0m\u001b[0m\n",
            "\u001b[0;32m/usr/local/lib/python3.8/dist-packages/pandas/core/frame.py\u001b[0m in \u001b[0;36m__setitem__\u001b[0;34m(self, key, value)\u001b[0m\n\u001b[1;32m   3610\u001b[0m         \u001b[0;32melse\u001b[0m\u001b[0;34m:\u001b[0m\u001b[0;34m\u001b[0m\u001b[0;34m\u001b[0m\u001b[0m\n\u001b[1;32m   3611\u001b[0m             \u001b[0;31m# set column\u001b[0m\u001b[0;34m\u001b[0m\u001b[0;34m\u001b[0m\u001b[0;34m\u001b[0m\u001b[0m\n\u001b[0;32m-> 3612\u001b[0;31m             \u001b[0mself\u001b[0m\u001b[0;34m.\u001b[0m\u001b[0m_set_item\u001b[0m\u001b[0;34m(\u001b[0m\u001b[0mkey\u001b[0m\u001b[0;34m,\u001b[0m \u001b[0mvalue\u001b[0m\u001b[0;34m)\u001b[0m\u001b[0;34m\u001b[0m\u001b[0;34m\u001b[0m\u001b[0m\n\u001b[0m\u001b[1;32m   3613\u001b[0m \u001b[0;34m\u001b[0m\u001b[0m\n\u001b[1;32m   3614\u001b[0m     \u001b[0;32mdef\u001b[0m \u001b[0m_setitem_slice\u001b[0m\u001b[0;34m(\u001b[0m\u001b[0mself\u001b[0m\u001b[0;34m,\u001b[0m \u001b[0mkey\u001b[0m\u001b[0;34m:\u001b[0m \u001b[0mslice\u001b[0m\u001b[0;34m,\u001b[0m \u001b[0mvalue\u001b[0m\u001b[0;34m)\u001b[0m\u001b[0;34m:\u001b[0m\u001b[0;34m\u001b[0m\u001b[0;34m\u001b[0m\u001b[0m\n",
            "\u001b[0;32m/usr/local/lib/python3.8/dist-packages/pandas/core/frame.py\u001b[0m in \u001b[0;36m_set_item\u001b[0;34m(self, key, value)\u001b[0m\n\u001b[1;32m   3782\u001b[0m         \u001b[0mensure\u001b[0m \u001b[0mhomogeneity\u001b[0m\u001b[0;34m.\u001b[0m\u001b[0;34m\u001b[0m\u001b[0;34m\u001b[0m\u001b[0m\n\u001b[1;32m   3783\u001b[0m         \"\"\"\n\u001b[0;32m-> 3784\u001b[0;31m         \u001b[0mvalue\u001b[0m \u001b[0;34m=\u001b[0m \u001b[0mself\u001b[0m\u001b[0;34m.\u001b[0m\u001b[0m_sanitize_column\u001b[0m\u001b[0;34m(\u001b[0m\u001b[0mvalue\u001b[0m\u001b[0;34m)\u001b[0m\u001b[0;34m\u001b[0m\u001b[0;34m\u001b[0m\u001b[0m\n\u001b[0m\u001b[1;32m   3785\u001b[0m \u001b[0;34m\u001b[0m\u001b[0m\n\u001b[1;32m   3786\u001b[0m         if (\n",
            "\u001b[0;32m/usr/local/lib/python3.8/dist-packages/pandas/core/frame.py\u001b[0m in \u001b[0;36m_sanitize_column\u001b[0;34m(self, value)\u001b[0m\n\u001b[1;32m   4507\u001b[0m \u001b[0;34m\u001b[0m\u001b[0m\n\u001b[1;32m   4508\u001b[0m         \u001b[0;32mif\u001b[0m \u001b[0mis_list_like\u001b[0m\u001b[0;34m(\u001b[0m\u001b[0mvalue\u001b[0m\u001b[0;34m)\u001b[0m\u001b[0;34m:\u001b[0m\u001b[0;34m\u001b[0m\u001b[0;34m\u001b[0m\u001b[0m\n\u001b[0;32m-> 4509\u001b[0;31m             \u001b[0mcom\u001b[0m\u001b[0;34m.\u001b[0m\u001b[0mrequire_length_match\u001b[0m\u001b[0;34m(\u001b[0m\u001b[0mvalue\u001b[0m\u001b[0;34m,\u001b[0m \u001b[0mself\u001b[0m\u001b[0;34m.\u001b[0m\u001b[0mindex\u001b[0m\u001b[0;34m)\u001b[0m\u001b[0;34m\u001b[0m\u001b[0;34m\u001b[0m\u001b[0m\n\u001b[0m\u001b[1;32m   4510\u001b[0m         \u001b[0;32mreturn\u001b[0m \u001b[0msanitize_array\u001b[0m\u001b[0;34m(\u001b[0m\u001b[0mvalue\u001b[0m\u001b[0;34m,\u001b[0m \u001b[0mself\u001b[0m\u001b[0;34m.\u001b[0m\u001b[0mindex\u001b[0m\u001b[0;34m,\u001b[0m \u001b[0mcopy\u001b[0m\u001b[0;34m=\u001b[0m\u001b[0;32mTrue\u001b[0m\u001b[0;34m,\u001b[0m \u001b[0mallow_2d\u001b[0m\u001b[0;34m=\u001b[0m\u001b[0;32mTrue\u001b[0m\u001b[0;34m)\u001b[0m\u001b[0;34m\u001b[0m\u001b[0;34m\u001b[0m\u001b[0m\n\u001b[1;32m   4511\u001b[0m \u001b[0;34m\u001b[0m\u001b[0m\n",
            "\u001b[0;32m/usr/local/lib/python3.8/dist-packages/pandas/core/common.py\u001b[0m in \u001b[0;36mrequire_length_match\u001b[0;34m(data, index)\u001b[0m\n\u001b[1;32m    529\u001b[0m     \"\"\"\n\u001b[1;32m    530\u001b[0m     \u001b[0;32mif\u001b[0m \u001b[0mlen\u001b[0m\u001b[0;34m(\u001b[0m\u001b[0mdata\u001b[0m\u001b[0;34m)\u001b[0m \u001b[0;34m!=\u001b[0m \u001b[0mlen\u001b[0m\u001b[0;34m(\u001b[0m\u001b[0mindex\u001b[0m\u001b[0;34m)\u001b[0m\u001b[0;34m:\u001b[0m\u001b[0;34m\u001b[0m\u001b[0;34m\u001b[0m\u001b[0m\n\u001b[0;32m--> 531\u001b[0;31m         raise ValueError(\n\u001b[0m\u001b[1;32m    532\u001b[0m             \u001b[0;34m\"Length of values \"\u001b[0m\u001b[0;34m\u001b[0m\u001b[0;34m\u001b[0m\u001b[0m\n\u001b[1;32m    533\u001b[0m             \u001b[0;34mf\"({len(data)}) \"\u001b[0m\u001b[0;34m\u001b[0m\u001b[0;34m\u001b[0m\u001b[0m\n",
            "\u001b[0;31mValueError\u001b[0m: Length of values (0) does not match length of index (4)"
          ]
        }
      ]
    },
    {
      "cell_type": "code",
      "source": [
        "lista1 = []\n",
        "lista2 = []\n",
        "lista3 = []\n",
        "\n",
        "def lectura_geomecanica(x):\n",
        "  if x[\"tipo de pilar\"] == \"CMET\":\n",
        "    lista.append(124, 12, 74)\n",
        "  if x[\"tipo de pilar\"] == \"Dacita\":\n",
        "    lista.append(145, 18.6, 86)\n"
      ],
      "metadata": {
        "id": "XbEvY3h3EOVf"
      },
      "execution_count": null,
      "outputs": []
    }
  ]
}