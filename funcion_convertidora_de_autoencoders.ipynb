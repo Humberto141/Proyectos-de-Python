{
  "nbformat": 4,
  "nbformat_minor": 0,
  "metadata": {
    "colab": {
      "provenance": []
    },
    "kernelspec": {
      "name": "python3",
      "display_name": "Python 3"
    },
    "language_info": {
      "name": "python"
    }
  },
  "cells": [
    {
      "cell_type": "code",
      "execution_count": 1,
      "metadata": {
        "id": "jlySiWc3G2Sc"
      },
      "outputs": [],
      "source": [
        "import pandas as pd\n",
        "import numpy as np\n",
        "import matplotlib.pyplot as plt\n",
        "\n",
        "data = pd.read_csv(\"/content/u1.base\", sep = \"\\t\", engine = \"python\", header = None)\n",
        "\n",
        "def funcion_convertidora(data):\n",
        "  data = data.rename(columns = {0: \"usuario\", 1: \"pelicula\", 2: \"valoracion\", 3: \"timesteps\"})\n",
        "  data = data.drop(labels = \"timesteps\", axis = 1)\n",
        "  i = 1\n",
        "  lista_usuario = []\n",
        "  lista_total = []\n",
        "  total_peliculas = int(data[\"pelicula\"].max())\n",
        "  total_usuarios = int(data[\"usuario\"].max())\n",
        "  j = 1\n",
        "  z = 1\n",
        "  contenedor = []\n",
        "  while z <= total_peliculas:\n",
        "    contenedor.append(z)\n",
        "    z = z + 1\n",
        "  usuarios = np.array([contenedor])\n",
        "  j = 1\n",
        "  while j <= total_usuarios:\n",
        "    data_filtrado = data[data[\"usuario\"] == j]\n",
        "    while i <= total_peliculas:\n",
        "      if i <= len(data_filtrado):\n",
        "        a = i in data_filtrado.pelicula.values\n",
        "        if a == True:\n",
        "          lista_usuario.append(int(data_filtrado.iloc[i-1, 2]))\n",
        "          i = i + 1\n",
        "        if a == False:\n",
        "          lista_usuario.append(0)\n",
        "          i = i + 1\n",
        "      else:\n",
        "        lista_usuario.append(0)\n",
        "        i = i + 1\n",
        "    usuarios = np.insert(usuarios, usuarios.shape[0], [lista_usuario], axis = 0)\n",
        "    j = j + 1\n",
        " # print(usuarios)\n",
        "\n",
        "  usuarios2 = np.delete(usuarios, (0), axis = 0)\n",
        "  #print(\"#########################\")\n",
        "  return (usuarios2)\n",
        "\n",
        "\n",
        "\n",
        "  \n",
        "\n",
        "\n",
        "\n",
        "\n",
        "\n"
      ]
    },
    {
      "cell_type": "code",
      "source": [
        "print(funcion_convertidora(data))\n",
        "beta = funcion_convertidora(data)"
      ],
      "metadata": {
        "colab": {
          "base_uri": "https://localhost:8080/"
        },
        "id": "MAQLnYjWHd90",
        "outputId": "adbcca63-e18f-4cc4-fe45-6b85c98524f5"
      },
      "execution_count": 3,
      "outputs": [
        {
          "output_type": "stream",
          "name": "stdout",
          "text": [
            "[[5 3 4 ... 0 0 0]\n",
            " [5 3 4 ... 0 0 0]\n",
            " [5 3 4 ... 0 0 0]\n",
            " ...\n",
            " [5 3 4 ... 0 0 0]\n",
            " [5 3 4 ... 0 0 0]\n",
            " [5 3 4 ... 0 0 0]]\n"
          ]
        }
      ]
    }
  ]
}